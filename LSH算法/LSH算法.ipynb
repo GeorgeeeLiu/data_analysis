{
 "cells": [
  {
   "cell_type": "markdown",
   "metadata": {},
   "source": [
    "# LSH算法\n",
    "\n",
    "**Reference**\n",
    "\n",
    "https://www.learndatasci.com/tutorials/building-recommendation-engine-locality-sensitive-hashing-lsh-python/\n",
    "\n",
    "[数据来源](http://www.kaggle.com/benhamner/exploring-the-nips-papers)\n",
    "\n",
    "[datasketch包](http://ekzhu.com/datasketch/documentation.html)\n",
    "\n",
    "[minHash(最小哈希)和LSH(局部敏感哈希)概述](https://blog.csdn.net/liujan511536/article/details/47729721)\n",
    "\n",
    "\n",
    "本节的主要目标是通过使用LSH快速查询所有已知的文章，然后作出推荐。"
   ]
  },
  {
   "cell_type": "code",
   "execution_count": 1,
   "metadata": {
    "scrolled": true
   },
   "outputs": [],
   "source": [
    "# 导入各种包\n",
    "import numpy as np\n",
    "import pandas as pd\n",
    "import re\n",
    "import time\n",
    "# ! pip install datasketch\n",
    "from datasketch import MinHash, MinHashLSH\n"
   ]
  },
  {
   "cell_type": "markdown",
   "metadata": {},
   "source": [
    "## 数据预处理\n",
    "\n",
    "首先，我们要进行简要的shingles, 通常包含以下几个步骤\n",
    "\n",
    "1. 删掉所有标点符号\n",
    "1. 将所有单词小写表示\n",
    "1. 通过用空格来分隔开每个单词\n",
    "\n",
    "通常为了更好的效果，会使用一些自然语言处理的语料库像NLTK或spaCy来处理一些常见单词或非有效词，本节暂时不考虑。"
   ]
  },
  {
   "cell_type": "code",
   "execution_count": 2,
   "metadata": {},
   "outputs": [],
   "source": [
    "# 定义预处理函数\n",
    "def preprocess(text):\n",
    "    text = re.sub(r'[^\\w\\s]','',text) \n",
    "    tokens = text.lower()\n",
    "    tokens = tokens.split()\n",
    "    return tokens"
   ]
  },
  {
   "cell_type": "code",
   "execution_count": 3,
   "metadata": {},
   "outputs": [
    {
     "name": "stdout",
     "output_type": "stream",
     "text": [
      "分词后： ['the', 'devil', 'went', 'down', 'to', 'georgia']\n"
     ]
    }
   ],
   "source": [
    "text = 'The devil went down to Georgia'\n",
    "print('分词后：', preprocess(text))"
   ]
  },
  {
   "cell_type": "markdown",
   "metadata": {},
   "source": [
    "## 选择排序数\n",
    "本节以排序数128为例子"
   ]
  },
  {
   "cell_type": "code",
   "execution_count": 4,
   "metadata": {},
   "outputs": [],
   "source": [
    "permutation = 128"
   ]
  },
  {
   "cell_type": "markdown",
   "metadata": {},
   "source": [
    "## 定义一个minhash函数"
   ]
  },
  {
   "cell_type": "code",
   "execution_count": 5,
   "metadata": {},
   "outputs": [],
   "source": [
    "def myMinHash(tokens, perms):\n",
    "    m = MinHash(num_perm=perms)\n",
    "    for s in tokens:\n",
    "        m.update(s.encode('utf8'))\n",
    "    return m\n",
    "\n"
   ]
  },
  {
   "cell_type": "markdown",
   "metadata": {},
   "source": [
    "## 评估查询\n",
    "\n",
    "我们将首先下载包含所有会议论文的CSV，并创建一个新字段，将标题和摘要合并到一个字段中，这样我们就可以同时使用标题和摘要来构建shingles。\n",
    "\n",
    "最后，我们可以查询任何文本字符串，如标题或一般主题，本节使用相似度高的标题用作推荐。"
   ]
  },
  {
   "cell_type": "code",
   "execution_count": 6,
   "metadata": {},
   "outputs": [
    {
     "data": {
      "text/plain": [
       "0       None\n",
       "1       None\n",
       "2       None\n",
       "3       None\n",
       "4       None\n",
       "        ... \n",
       "7236    None\n",
       "7237    None\n",
       "7238    None\n",
       "7239    None\n",
       "7240    None\n",
       "Length: 7241, dtype: object"
      ]
     },
     "execution_count": 6,
     "metadata": {},
     "output_type": "execute_result"
    }
   ],
   "source": [
    "db = pd.read_csv('papers.csv')\n",
    "\n",
    "#数据预处理\n",
    "db['data']=db['title'].apply(preprocess)\n",
    "\n",
    "#为每一行创建一个minHash，并将其保存到列mHash中\n",
    "db['mhash'] = db['data'].apply(myMinHash, args=(permutation,))\n",
    "\n",
    "#创建一个名为lsh的MinHashLSH对象。\n",
    "lsh = MinHashLSH(num_perm=permutation, params=[32,4])\n",
    "db.apply(lambda x: lsh.insert(x['id'], x['mhash']), axis=1)"
   ]
  },
  {
   "cell_type": "code",
   "execution_count": 7,
   "metadata": {},
   "outputs": [
    {
     "name": "stdout",
     "output_type": "stream",
     "text": [
      "\n",
      "\\标题 Self-Organization of Associative Database ants Applications \t 匹配数: 1 \n",
      "---------------------------\n",
      "Self-Organization of Associative Database and Its Applications\n",
      "\n",
      "\\标题 Self-Organization of Associative Database d Its Applications \t 匹配数: 1 \n",
      "---------------------------\n",
      "Self-Organization of Associative Database and Its Applications\n",
      "\n",
      "\\标题 Self-Organization of and Its Applications \t 匹配数: 25 \n",
      "---------------------------\n",
      "Self-Organization of Associative Database and Its Applications\n",
      "The Geometry of Eye Rotations and Listing's Law\n",
      "Minimax and Hamiltonian Dynamics of Excitatory-Inhibitory Networks\n",
      "Stationarity and Stability of Autoregressive Neural Network Processes\n",
      "Synergy and Redundancy among Brain Cells of Behaving Monkeys\n",
      "Scale Mixtures of Gaussians and the Statistics of Natural Images\n",
      "Model Complexity, Goodness of Fit and Diminishing Returns\n",
      "A Comparison of Image Processing Techniques for Visual Speech Recognition Applications\n",
      "Convergence of Optimistic and Incremental Q-Learning\n",
      "A Model of the Phonological Loop: Generalization and Binding\n",
      "Adaptive Discriminative Generative Model and Its Applications\n",
      "Generalized Hopfield Networks and Nonlinear Optimization\n",
      "Diffusion Maps, Spectral Clustering and Eigenfunctions of Fokker-Planck Operators\n",
      "Theory and Dynamics of Perceptual Bistability\n",
      "Feedback Synapse to Cone and Light Adaptation\n",
      "Trading off Mistakes and Don't-Know Predictions\n",
      "Multiclass Boosting: Theory and Algorithms\n",
      "Neural Network Analysis of Event Related Potentials and Electroencephalogram Predicts Vigilance\n",
      "PAC-Bayesian AUC classification and scoring\n",
      "Edge-exchangeable graphs and sparsity\n",
      "A simple model of recognition and recall memory\n",
      "Submultiplicative Glivenko-Cantelli and Uniform Convergence of Revenues\n",
      "Approximation and Convergence Properties of Generative Adversarial Learning\n",
      "Synchronization, oscillations, and 1/f noise in networks of spiking neurons\n",
      "SPONTANEOUS AND  INFORMATION-TRIGGERED SEGMENTS OF SERIES OF HUMAN BRAIN ELECTRIC FIELD MAPS\n",
      "\n",
      "\\标题 Self-Organization of Associative Database and Its Applications \t 匹配数: 2 \n",
      "---------------------------\n",
      "Self-Organization of Associative Database and Its Applications\n",
      "A Comparison of Image Processing Techniques for Visual Speech Recognition Applications\n",
      "\n",
      "\\标题 Self-Organization of Associative Datase and Its Applications \t 匹配数: 2 \n",
      "---------------------------\n",
      "Self-Organization of Associative Database and Its Applications\n",
      "A Comparison of Image Processing Techniques for Visual Speech Recognition Applications\n",
      "\n",
      "\\标题 Self-Organization of Associative Database and  Applications \t 匹配数: 2 \n",
      "---------------------------\n",
      "Self-Organization of Associative Database and Its Applications\n",
      "A Comparison of Image Processing Techniques for Visual Speech Recognition Applications\n"
     ]
    }
   ],
   "source": [
    "\n",
    "# 创建一些与论文相似的标题。看看这个算法是否能够推荐相似的论文题目\n",
    "titles = {'Self-Organization of Associative Database and Its Applications',\n",
    "          'Self-Organization of Associative Database and  Applications',\n",
    "          'Self-Organization of Associative Database ants Applications',\n",
    "          'Self-Organization of Associative Database d Its Applications',\n",
    "          'Self-Organization of Associative Datase and Its Applications',\n",
    "          'Self-Organization of and Its Applications'\n",
    "        }\n",
    "\n",
    "for title in titles:\n",
    "    a = preprocess(title)\n",
    "    mhash = myMinHash(a, permutation)\n",
    "\n",
    "    u = lsh.query(mhash)\n",
    "    \n",
    "    idx_array = np.array(u)\n",
    "    result = db.loc[db['id'].isin(idx_array)]['title']\n",
    "    \n",
    "    print('\\n\\标题', title, '\\t 匹配数:', len(result), '\\n---------------------------')\n",
    "    for i in result:\n",
    "        print(i)\n",
    "    "
   ]
  },
  {
   "cell_type": "markdown",
   "metadata": {},
   "source": [
    "这效果看着还行。"
   ]
  }
 ],
 "metadata": {
  "kernelspec": {
   "display_name": "Python 3",
   "language": "python",
   "name": "python3"
  },
  "language_info": {
   "codemirror_mode": {
    "name": "ipython",
    "version": 3
   },
   "file_extension": ".py",
   "mimetype": "text/x-python",
   "name": "python",
   "nbconvert_exporter": "python",
   "pygments_lexer": "ipython3",
   "version": "3.7.6"
  }
 },
 "nbformat": 4,
 "nbformat_minor": 4
}
