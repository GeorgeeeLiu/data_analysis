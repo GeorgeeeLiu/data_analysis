{
 "cells": [
  {
   "cell_type": "markdown",
   "metadata": {},
   "source": [
    "# Aprior算法\n",
    "\n",
    "\n",
    "**Reference**:\n",
    "<br>Aprior算法概述：<br>\n",
    "https://wizardforcel.gitbooks.io/dm-algo-top10/content/apriori.html\n",
    "<br>\n",
    "https://www.cnblogs.com/nxld/p/6380417.html\n",
    "<br>超市数据集：<br>https://drive.google.com/file/d/1y5DYn0dGoSbC22xowBq2d4po6h1JxcTQ/view\n",
    "<br>\n",
    "https://stackabuse.com/association-rule-mining-via-apriori-algorithm-in-python/"
   ]
  },
  {
   "cell_type": "code",
   "execution_count": 1,
   "metadata": {},
   "outputs": [],
   "source": [
    "# 导入各种包\n",
    "import numpy as np\n",
    "import matplotlib.pyplot as plt\n",
    "import pandas as pd\n",
    "import seaborn as sns\n",
    "import matplotlib.pyplot as plt\n",
    "from AAA import apyori"
   ]
  },
  {
   "cell_type": "code",
   "execution_count": 2,
   "metadata": {},
   "outputs": [
    {
     "data": {
      "text/html": [
       "<div>\n",
       "<style scoped>\n",
       "    .dataframe tbody tr th:only-of-type {\n",
       "        vertical-align: middle;\n",
       "    }\n",
       "\n",
       "    .dataframe tbody tr th {\n",
       "        vertical-align: top;\n",
       "    }\n",
       "\n",
       "    .dataframe thead th {\n",
       "        text-align: right;\n",
       "    }\n",
       "</style>\n",
       "<table border=\"1\" class=\"dataframe\">\n",
       "  <thead>\n",
       "    <tr style=\"text-align: right;\">\n",
       "      <th></th>\n",
       "      <th>0</th>\n",
       "      <th>1</th>\n",
       "      <th>2</th>\n",
       "      <th>3</th>\n",
       "      <th>4</th>\n",
       "      <th>5</th>\n",
       "      <th>6</th>\n",
       "      <th>7</th>\n",
       "      <th>8</th>\n",
       "      <th>9</th>\n",
       "      <th>10</th>\n",
       "      <th>11</th>\n",
       "      <th>12</th>\n",
       "      <th>13</th>\n",
       "      <th>14</th>\n",
       "      <th>15</th>\n",
       "      <th>16</th>\n",
       "      <th>17</th>\n",
       "      <th>18</th>\n",
       "      <th>19</th>\n",
       "    </tr>\n",
       "  </thead>\n",
       "  <tbody>\n",
       "    <tr>\n",
       "      <th>0</th>\n",
       "      <td>shrimp</td>\n",
       "      <td>almonds</td>\n",
       "      <td>avocado</td>\n",
       "      <td>vegetables mix</td>\n",
       "      <td>green grapes</td>\n",
       "      <td>whole weat flour</td>\n",
       "      <td>yams</td>\n",
       "      <td>cottage cheese</td>\n",
       "      <td>energy drink</td>\n",
       "      <td>tomato juice</td>\n",
       "      <td>low fat yogurt</td>\n",
       "      <td>green tea</td>\n",
       "      <td>honey</td>\n",
       "      <td>salad</td>\n",
       "      <td>mineral water</td>\n",
       "      <td>salmon</td>\n",
       "      <td>antioxydant juice</td>\n",
       "      <td>frozen smoothie</td>\n",
       "      <td>spinach</td>\n",
       "      <td>olive oil</td>\n",
       "    </tr>\n",
       "    <tr>\n",
       "      <th>1</th>\n",
       "      <td>burgers</td>\n",
       "      <td>meatballs</td>\n",
       "      <td>eggs</td>\n",
       "      <td>NaN</td>\n",
       "      <td>NaN</td>\n",
       "      <td>NaN</td>\n",
       "      <td>NaN</td>\n",
       "      <td>NaN</td>\n",
       "      <td>NaN</td>\n",
       "      <td>NaN</td>\n",
       "      <td>NaN</td>\n",
       "      <td>NaN</td>\n",
       "      <td>NaN</td>\n",
       "      <td>NaN</td>\n",
       "      <td>NaN</td>\n",
       "      <td>NaN</td>\n",
       "      <td>NaN</td>\n",
       "      <td>NaN</td>\n",
       "      <td>NaN</td>\n",
       "      <td>NaN</td>\n",
       "    </tr>\n",
       "    <tr>\n",
       "      <th>2</th>\n",
       "      <td>chutney</td>\n",
       "      <td>NaN</td>\n",
       "      <td>NaN</td>\n",
       "      <td>NaN</td>\n",
       "      <td>NaN</td>\n",
       "      <td>NaN</td>\n",
       "      <td>NaN</td>\n",
       "      <td>NaN</td>\n",
       "      <td>NaN</td>\n",
       "      <td>NaN</td>\n",
       "      <td>NaN</td>\n",
       "      <td>NaN</td>\n",
       "      <td>NaN</td>\n",
       "      <td>NaN</td>\n",
       "      <td>NaN</td>\n",
       "      <td>NaN</td>\n",
       "      <td>NaN</td>\n",
       "      <td>NaN</td>\n",
       "      <td>NaN</td>\n",
       "      <td>NaN</td>\n",
       "    </tr>\n",
       "    <tr>\n",
       "      <th>3</th>\n",
       "      <td>turkey</td>\n",
       "      <td>avocado</td>\n",
       "      <td>NaN</td>\n",
       "      <td>NaN</td>\n",
       "      <td>NaN</td>\n",
       "      <td>NaN</td>\n",
       "      <td>NaN</td>\n",
       "      <td>NaN</td>\n",
       "      <td>NaN</td>\n",
       "      <td>NaN</td>\n",
       "      <td>NaN</td>\n",
       "      <td>NaN</td>\n",
       "      <td>NaN</td>\n",
       "      <td>NaN</td>\n",
       "      <td>NaN</td>\n",
       "      <td>NaN</td>\n",
       "      <td>NaN</td>\n",
       "      <td>NaN</td>\n",
       "      <td>NaN</td>\n",
       "      <td>NaN</td>\n",
       "    </tr>\n",
       "    <tr>\n",
       "      <th>4</th>\n",
       "      <td>mineral water</td>\n",
       "      <td>milk</td>\n",
       "      <td>energy bar</td>\n",
       "      <td>whole wheat rice</td>\n",
       "      <td>green tea</td>\n",
       "      <td>NaN</td>\n",
       "      <td>NaN</td>\n",
       "      <td>NaN</td>\n",
       "      <td>NaN</td>\n",
       "      <td>NaN</td>\n",
       "      <td>NaN</td>\n",
       "      <td>NaN</td>\n",
       "      <td>NaN</td>\n",
       "      <td>NaN</td>\n",
       "      <td>NaN</td>\n",
       "      <td>NaN</td>\n",
       "      <td>NaN</td>\n",
       "      <td>NaN</td>\n",
       "      <td>NaN</td>\n",
       "      <td>NaN</td>\n",
       "    </tr>\n",
       "  </tbody>\n",
       "</table>\n",
       "</div>"
      ],
      "text/plain": [
       "              0          1           2                 3             4   \\\n",
       "0         shrimp    almonds     avocado    vegetables mix  green grapes   \n",
       "1        burgers  meatballs        eggs               NaN           NaN   \n",
       "2        chutney        NaN         NaN               NaN           NaN   \n",
       "3         turkey    avocado         NaN               NaN           NaN   \n",
       "4  mineral water       milk  energy bar  whole wheat rice     green tea   \n",
       "\n",
       "                 5     6               7             8             9   \\\n",
       "0  whole weat flour  yams  cottage cheese  energy drink  tomato juice   \n",
       "1               NaN   NaN             NaN           NaN           NaN   \n",
       "2               NaN   NaN             NaN           NaN           NaN   \n",
       "3               NaN   NaN             NaN           NaN           NaN   \n",
       "4               NaN   NaN             NaN           NaN           NaN   \n",
       "\n",
       "               10         11     12     13             14      15  \\\n",
       "0  low fat yogurt  green tea  honey  salad  mineral water  salmon   \n",
       "1             NaN        NaN    NaN    NaN            NaN     NaN   \n",
       "2             NaN        NaN    NaN    NaN            NaN     NaN   \n",
       "3             NaN        NaN    NaN    NaN            NaN     NaN   \n",
       "4             NaN        NaN    NaN    NaN            NaN     NaN   \n",
       "\n",
       "                  16               17       18         19  \n",
       "0  antioxydant juice  frozen smoothie  spinach  olive oil  \n",
       "1                NaN              NaN      NaN        NaN  \n",
       "2                NaN              NaN      NaN        NaN  \n",
       "3                NaN              NaN      NaN        NaN  \n",
       "4                NaN              NaN      NaN        NaN  "
      ]
     },
     "execution_count": 2,
     "metadata": {},
     "output_type": "execute_result"
    }
   ],
   "source": [
    "# 导入数据\n",
    "df = pd.read_csv('store_data.csv', header=None)\n",
    "df.head()"
   ]
  },
  {
   "cell_type": "markdown",
   "metadata": {},
   "source": [
    "该数据集中描述了法国一家零售店在一周内20种商品的7500单交易。每一行数据表示为同一用户购买的东西，例如，用户1买了burgers，meatballs，eggs三种东西"
   ]
  },
  {
   "cell_type": "code",
   "execution_count": 3,
   "metadata": {},
   "outputs": [
    {
     "name": "stdout",
     "output_type": "stream",
     "text": [
      "['shrimp', 'almonds', 'avocado', 'vegetables mix', 'green grapes', 'whole weat flour', 'yams', 'cottage cheese', 'energy drink', 'tomato juice', 'low fat yogurt', 'green tea', 'honey', 'salad', 'mineral water', 'salmon', 'antioxydant juice', 'frozen smoothie', 'spinach', 'olive oil']\n",
      "['burgers', 'meatballs', 'eggs']\n",
      "['chutney']\n",
      "['turkey', 'avocado']\n",
      "['mineral water', 'milk', 'energy bar', 'whole wheat rice', 'green tea']\n",
      "['low fat yogurt']\n",
      "['whole wheat pasta', 'french fries']\n",
      "['soup', 'light cream', 'shallot']\n",
      "['frozen vegetables', 'spaghetti', 'green tea']\n",
      "['french fries']\n",
      "['eggs', 'pet food']\n",
      "['cookies']\n",
      "['turkey', 'burgers', 'mineral water', 'eggs', 'cooking oil']\n",
      "['spaghetti', 'champagne', 'cookies']\n",
      "['mineral water', 'salmon']\n",
      "['mineral water']\n",
      "['shrimp', 'chocolate', 'chicken', 'honey', 'oil', 'cooking oil', 'low fat yogurt']\n",
      "['turkey', 'eggs']\n",
      "['turkey', 'fresh tuna', 'tomatoes', 'spaghetti', 'mineral water', 'black tea', 'salmon', 'eggs', 'chicken', 'extra dark chocolate']\n",
      "['meatballs', 'milk', 'honey', 'french fries', 'protein bar']\n"
     ]
    }
   ],
   "source": [
    "# 去除空白值，分别得到每个用户购买的东西\n",
    "record = df.stack().groupby(level=0).apply(list).tolist()\n",
    "# 看看record长啥样（前20个）：\n",
    "for i in range(0, 20):\n",
    "    print(record[i])"
   ]
  },
  {
   "cell_type": "markdown",
   "metadata": {},
   "source": [
    "**Apriori算法中的几个主要指标：**\n",
    "* `min_support` : 最小支持度 =  出现次数 / 总事务数<br>\n",
    "关联规则A->B的支持度support=P(AB)，指的是事件A和事件B同时发生的概率\n",
    "* `min_confidence` : 置信度<br>\n",
    "confidence=P(B|A)=P(AB)/P(A),指的是发生事件A的基础上发生事件B的概率。比如说在规则Computer => antivirus_software , 其中 support=2%, confidence=60%中，就表示的意思是所有的商品交易中有2%的顾客同时买了电脑和杀毒软件，并且购买电脑的顾客中有60%也购买了杀毒软件。\n",
    "* `min_lift` : 最小提升度<br>\n",
    "是指可信度与期望可信度的比值\n",
    "* `min_length` : 物品的最小数量\n",
    "\n",
    "例如：用一个简单的例子说明。表1是顾客购买记录的数据库D，包含6个事务。项集I={网球拍,网球,运动鞋,羽毛球}。考虑关联规则：网球拍 => 网球，事务1,2,3,4,6包含网球拍，事务1,2,6同时包含网球拍和网球，支持度support= 3/6 = 0.5，置信度confident= 3\\5 = 0.6。若给定最小支持度0.5，最小置信度0.6，关联规则网球拍 => 网球是有趣的，则认为购买网球拍和购买网球之间存在强关联。"
   ]
  },
  {
   "cell_type": "markdown",
   "metadata": {},
   "source": [
    "**建立每两种商品中的关联法则**\n",
    "<br>假设我们只需要那些每天至少购买5次的商品的规则，或者一周内购买7 x 5 = 35次的商品的规则，因为数据集是一周的时间段。支持度可以计算为35/7500 = 0.0045;置信度是35%;提升度为3;将min_length指定为2，因为规则中至少需要两个产品。"
   ]
  },
  {
   "cell_type": "code",
   "execution_count": 4,
   "metadata": {},
   "outputs": [],
   "source": [
    "association_rules = apyori.apriori(record, min_support=0.0045, min_confidence=0.35, min_lift=3, min_length=2)\n",
    "association_results = list(association_rules)\n",
    "# print(association_results)"
   ]
  },
  {
   "cell_type": "code",
   "execution_count": 5,
   "metadata": {
    "scrolled": true
   },
   "outputs": [
    {
     "name": "stdout",
     "output_type": "stream",
     "text": [
      "关联法则: pasta => escalope\n",
      "支持度: 0.005865884548726837\n",
      "置信度: 0.3728813559322034\n",
      "提升度: 4.700811850163794\n",
      "------------------------\n",
      "关联法则: ground beef => tomato sauce\n",
      "支持度: 0.005332622317024397\n",
      "置信度: 0.3773584905660377\n",
      "提升度: 3.840659481324083\n",
      "------------------------\n",
      "关联法则: cooking oil => ground beef\n",
      "支持度: 0.004799360085321957\n",
      "置信度: 0.5714285714285714\n",
      "提升度: 3.2819951870487856\n",
      "------------------------\n",
      "关联法则: olive oil => milk\n",
      "支持度: 0.004799360085321957\n",
      "置信度: 0.4235294117647058\n",
      "提升度: 3.2684095860566447\n",
      "------------------------\n",
      "关联法则: ground beef => mineral water\n",
      "支持度: 0.006665777896280496\n",
      "置信度: 0.39062500000000006\n",
      "提升度: 3.975682666214383\n",
      "------------------------\n",
      "关联法则: ground beef => spaghetti\n",
      "支持度: 0.006399146780429276\n",
      "置信度: 0.3934426229508197\n",
      "提升度: 4.004359721511667\n",
      "------------------------\n",
      "关联法则: ground beef => spaghetti\n",
      "支持度: 0.005999200106652446\n",
      "置信度: 0.5232558139534884\n",
      "提升度: 3.005315360233627\n",
      "------------------------\n"
     ]
    }
   ],
   "source": [
    "for item in association_results:\n",
    "    pair = item[0] \n",
    "    items = [x for x in pair]\n",
    "    print(\"关联法则: \" + items[0] + \" => \" + items[1])\n",
    "    print(\"支持度: \" + str(item[1]))\n",
    "    print(\"置信度: \" + str(item[2][0][2]))\n",
    "    print(\"提升度: \" + str(item[2][0][3]))\n",
    "    print(\"------------------------\")"
   ]
  },
  {
   "cell_type": "markdown",
   "metadata": {},
   "source": [
    "**结果分析:**<br>\n",
    "从第一项可以看到，炸肉块(escalope)和意面(pasta)通常一起购买。支持度是0.0048,是含有炸肉块的交易数量除以总交易数；置信度为0.3728，这表明在所有包含炸肉块的交易中，37.28%的交易也包含意面；4.7的提升度说明，购买意面的顾客购买炸鸡块的可能性是普通顾客的4.7倍。因此，商家在放置商品时可以把炸鸡块和意面放在一起。\n",
    "\n",
    "\n"
   ]
  },
  {
   "cell_type": "code",
   "execution_count": 6,
   "metadata": {},
   "outputs": [
    {
     "name": "stdout",
     "output_type": "stream",
     "text": [
      "[RelationRecord(items=frozenset({'chocolate'}), support=0.1638448206905746, ordered_statistics=[OrderedStatistic(items_base=frozenset(), items_add=frozenset({'chocolate'}), confidence=0.1638448206905746, lift=1.0)]), RelationRecord(items=frozenset({'eggs'}), support=0.17970937208372217, ordered_statistics=[OrderedStatistic(items_base=frozenset(), items_add=frozenset({'eggs'}), confidence=0.17970937208372217, lift=1.0)]), RelationRecord(items=frozenset({'french fries'}), support=0.1709105452606319, ordered_statistics=[OrderedStatistic(items_base=frozenset(), items_add=frozenset({'french fries'}), confidence=0.1709105452606319, lift=1.0)]), RelationRecord(items=frozenset({'green tea'}), support=0.13211571790427942, ordered_statistics=[OrderedStatistic(items_base=frozenset(), items_add=frozenset({'green tea'}), confidence=0.13211571790427942, lift=1.0)]), RelationRecord(items=frozenset({'milk'}), support=0.12958272230369283, ordered_statistics=[OrderedStatistic(items_base=frozenset(), items_add=frozenset({'milk'}), confidence=0.12958272230369283, lift=1.0)]), RelationRecord(items=frozenset({'mineral water'}), support=0.23836821757099053, ordered_statistics=[OrderedStatistic(items_base=frozenset(), items_add=frozenset({'mineral water'}), confidence=0.23836821757099053, lift=1.0)]), RelationRecord(items=frozenset({'spaghetti'}), support=0.17411011865084655, ordered_statistics=[OrderedStatistic(items_base=frozenset(), items_add=frozenset({'spaghetti'}), confidence=0.17411011865084655, lift=1.0)]), RelationRecord(items=frozenset({'mineral water', 'avocado'}), support=0.011598453539528063, ordered_statistics=[OrderedStatistic(items_base=frozenset({'avocado'}), items_add=frozenset({'mineral water'}), confidence=0.348, lift=1.4599261744966443)]), RelationRecord(items=frozenset({'cake', 'burgers'}), support=0.011465137981602452, ordered_statistics=[OrderedStatistic(items_base=frozenset({'burgers'}), items_add=frozenset({'cake'}), confidence=0.1314984709480122, lift=1.6223191292451309), OrderedStatistic(items_base=frozenset({'cake'}), items_add=frozenset({'burgers'}), confidence=0.14144736842105263, lift=1.622319129245131)]), RelationRecord(items=frozenset({'burgers', 'chocolate'}), support=0.017064391414478068, ordered_statistics=[OrderedStatistic(items_base=frozenset({'burgers'}), items_add=frozenset({'chocolate'}), confidence=0.19571865443425074, lift=1.1945367183981406), OrderedStatistic(items_base=frozenset({'chocolate'}), items_add=frozenset({'burgers'}), confidence=0.10414971521562244, lift=1.1945367183981406)]), RelationRecord(items=frozenset({'eggs', 'burgers'}), support=0.02879616051193174, ordered_statistics=[OrderedStatistic(items_base=frozenset({'burgers'}), items_add=frozenset({'eggs'}), confidence=0.33027522935779813, lift=1.8378297443715457), OrderedStatistic(items_base=frozenset({'eggs'}), items_add=frozenset({'burgers'}), confidence=0.1602373887240356, lift=1.8378297443715457)]), RelationRecord(items=frozenset({'burgers', 'french fries'}), support=0.021997067057725635, ordered_statistics=[OrderedStatistic(items_base=frozenset({'burgers'}), items_add=frozenset({'french fries'}), confidence=0.25229357798165136, lift=1.4761732671141707), OrderedStatistic(items_base=frozenset({'french fries'}), items_add=frozenset({'burgers'}), confidence=0.12870514820592824, lift=1.4761732671141707)]), RelationRecord(items=frozenset({'burgers', 'frozen vegetables'}), support=0.010531929076123183, ordered_statistics=[OrderedStatistic(items_base=frozenset({'burgers'}), items_add=frozenset({'frozen vegetables'}), confidence=0.12079510703363913, lift=1.2672504865165415), OrderedStatistic(items_base=frozenset({'frozen vegetables'}), items_add=frozenset({'burgers'}), confidence=0.11048951048951049, lift=1.2672504865165415)]), RelationRecord(items=frozenset({'green tea', 'burgers'}), support=0.0174643380882549, ordered_statistics=[OrderedStatistic(items_base=frozenset({'burgers'}), items_add=frozenset({'green tea'}), confidence=0.2003058103975535, lift=1.5161391360161947), OrderedStatistic(items_base=frozenset({'green tea'}), items_add=frozenset({'burgers'}), confidence=0.13218970736629668, lift=1.5161391360161947)]), RelationRecord(items=frozenset({'ground beef', 'burgers'}), support=0.011998400213304892, ordered_statistics=[OrderedStatistic(items_base=frozenset({'burgers'}), items_add=frozenset({'ground beef'}), confidence=0.13761467889908255, lift=1.400607471400296), OrderedStatistic(items_base=frozenset({'ground beef'}), items_add=frozenset({'burgers'}), confidence=0.12211668928086838, lift=1.400607471400296)]), RelationRecord(items=frozenset({'burgers', 'milk'}), support=0.01786428476203173, ordered_statistics=[OrderedStatistic(items_base=frozenset({'burgers'}), items_add=frozenset({'milk'}), confidence=0.20489296636085627, lift=1.581175041844427), OrderedStatistic(items_base=frozenset({'milk'}), items_add=frozenset({'burgers'}), confidence=0.13786008230452676, lift=1.5811750418444268)]), RelationRecord(items=frozenset({'mineral water', 'burgers'}), support=0.024396747100386616, ordered_statistics=[OrderedStatistic(items_base=frozenset({'burgers'}), items_add=frozenset({'mineral water'}), confidence=0.2798165137614679, lift=1.1738834841861134), OrderedStatistic(items_base=frozenset({'mineral water'}), items_add=frozenset({'burgers'}), confidence=0.10234899328859061, lift=1.1738834841861132)]), RelationRecord(items=frozenset({'burgers', 'pancakes'}), support=0.010531929076123183, ordered_statistics=[OrderedStatistic(items_base=frozenset({'burgers'}), items_add=frozenset({'pancakes'}), confidence=0.12079510703363913, lift=1.2708051863384673), OrderedStatistic(items_base=frozenset({'pancakes'}), items_add=frozenset({'burgers'}), confidence=0.11079943899018233, lift=1.2708051863384673)]), RelationRecord(items=frozenset({'spaghetti', 'burgers'}), support=0.021463804826023197, ordered_statistics=[OrderedStatistic(items_base=frozenset({'burgers'}), items_add=frozenset({'spaghetti'}), confidence=0.24617737003058102, lift=1.4139176513012162), OrderedStatistic(items_base=frozenset({'spaghetti'}), items_add=frozenset({'burgers'}), confidence=0.12327718223583461, lift=1.4139176513012162)]), RelationRecord(items=frozenset({'burgers', 'turkey'}), support=0.010665244634048793, ordered_statistics=[OrderedStatistic(items_base=frozenset({'burgers'}), items_add=frozenset({'turkey'}), confidence=0.12232415902140673, lift=1.9564040870353345), OrderedStatistic(items_base=frozenset({'turkey'}), items_add=frozenset({'burgers'}), confidence=0.1705756929637527, lift=1.9564040870353345)]), RelationRecord(items=frozenset({'cake', 'chocolate'}), support=0.013598186908412212, ordered_statistics=[OrderedStatistic(items_base=frozenset({'cake'}), items_add=frozenset({'chocolate'}), confidence=0.16776315789473684, lift=1.0239149286968436)]), RelationRecord(items=frozenset({'cake', 'eggs'}), support=0.019064124783362217, ordered_statistics=[OrderedStatistic(items_base=frozenset({'cake'}), items_add=frozenset({'eggs'}), confidence=0.23519736842105263, lift=1.308765178431985), OrderedStatistic(items_base=frozenset({'eggs'}), items_add=frozenset({'cake'}), confidence=0.10608308605341245, lift=1.308765178431985)]), RelationRecord(items=frozenset({'cake', 'french fries'}), support=0.01786428476203173, ordered_statistics=[OrderedStatistic(items_base=frozenset({'cake'}), items_add=frozenset({'french fries'}), confidence=0.22039473684210528, lift=1.289532699729042), OrderedStatistic(items_base=frozenset({'french fries'}), items_add=frozenset({'cake'}), confidence=0.1045241809672387, lift=1.289532699729042)]), RelationRecord(items=frozenset({'cake', 'frozen vegetables'}), support=0.010265297960271964, ordered_statistics=[OrderedStatistic(items_base=frozenset({'cake'}), items_add=frozenset({'frozen vegetables'}), confidence=0.12664473684210528, lift=1.3286184210526317), OrderedStatistic(items_base=frozenset({'frozen vegetables'}), items_add=frozenset({'cake'}), confidence=0.1076923076923077, lift=1.3286184210526317)]), RelationRecord(items=frozenset({'cake', 'green tea'}), support=0.014131449140114652, ordered_statistics=[OrderedStatistic(items_base=frozenset({'cake'}), items_add=frozenset({'green tea'}), confidence=0.1743421052631579, lift=1.3196166817143768), OrderedStatistic(items_base=frozenset({'green tea'}), items_add=frozenset({'cake'}), confidence=0.10696266397578205, lift=1.3196166817143768)]), RelationRecord(items=frozenset({'cake', 'milk'}), support=0.013331555792560993, ordered_statistics=[OrderedStatistic(items_base=frozenset({'cake'}), items_add=frozenset({'milk'}), confidence=0.16447368421052633, lift=1.2692562811349364), OrderedStatistic(items_base=frozenset({'milk'}), items_add=frozenset({'cake'}), confidence=0.10288065843621401, lift=1.2692562811349364)]), RelationRecord(items=frozenset({'cake', 'mineral water'}), support=0.027463004932675644, ordered_statistics=[OrderedStatistic(items_base=frozenset({'cake'}), items_add=frozenset({'mineral water'}), confidence=0.33881578947368424, lift=1.4213966649005065), OrderedStatistic(items_base=frozenset({'mineral water'}), items_add=frozenset({'cake'}), confidence=0.11521252796420582, lift=1.4213966649005063)]), RelationRecord(items=frozenset({'cake', 'pancakes'}), support=0.011865084655379284, ordered_statistics=[OrderedStatistic(items_base=frozenset({'cake'}), items_add=frozenset({'pancakes'}), confidence=0.14638157894736845, lift=1.5399834834280655), OrderedStatistic(items_base=frozenset({'pancakes'}), items_add=frozenset({'cake'}), confidence=0.12482468443197757, lift=1.5399834834280655)]), RelationRecord(items=frozenset({'cake', 'spaghetti'}), support=0.018130915877882948, ordered_statistics=[OrderedStatistic(items_base=frozenset({'cake'}), items_add=frozenset({'spaghetti'}), confidence=0.2236842105263158, lift=1.2847283791408077), OrderedStatistic(items_base=frozenset({'spaghetti'}), items_add=frozenset({'cake'}), confidence=0.10413476263399693, lift=1.2847283791408075)]), RelationRecord(items=frozenset({'mineral water', 'cereals'}), support=0.010265297960271964, ordered_statistics=[OrderedStatistic(items_base=frozenset({'cereals'}), items_add=frozenset({'mineral water'}), confidence=0.3989637305699482, lift=1.6737287153272828)]), RelationRecord(items=frozenset({'champagne', 'chocolate'}), support=0.011598453539528063, ordered_statistics=[OrderedStatistic(items_base=frozenset({'champagne'}), items_add=frozenset({'chocolate'}), confidence=0.24786324786324784, lift=1.5127926950546964)]), RelationRecord(items=frozenset({'chicken', 'chocolate'}), support=0.014664711371817091, ordered_statistics=[OrderedStatistic(items_base=frozenset({'chicken'}), items_add=frozenset({'chocolate'}), confidence=0.24444444444444446, lift=1.4919265889160112)]), RelationRecord(items=frozenset({'eggs', 'chicken'}), support=0.01439808025596587, ordered_statistics=[OrderedStatistic(items_base=frozenset({'chicken'}), items_add=frozenset({'eggs'}), confidence=0.24, lift=1.3354896142433235)]), RelationRecord(items=frozenset({'chicken', 'french fries'}), support=0.011065191307825623, ordered_statistics=[OrderedStatistic(items_base=frozenset({'chicken'}), items_add=frozenset({'french fries'}), confidence=0.18444444444444444, lift=1.0791870341480327)]), RelationRecord(items=frozenset({'green tea', 'chicken'}), support=0.011865084655379284, ordered_statistics=[OrderedStatistic(items_base=frozenset({'chicken'}), items_add=frozenset({'green tea'}), confidence=0.1977777777777778, lift=1.4970041484471357)]), RelationRecord(items=frozenset({'chicken', 'milk'}), support=0.014798026929742702, ordered_statistics=[OrderedStatistic(items_base=frozenset({'chicken'}), items_add=frozenset({'milk'}), confidence=0.24666666666666667, lift=1.9035459533607684), OrderedStatistic(items_base=frozenset({'milk'}), items_add=frozenset({'chicken'}), confidence=0.11419753086419754, lift=1.9035459533607684)]), RelationRecord(items=frozenset({'mineral water', 'chicken'}), support=0.022796960405279298, ordered_statistics=[OrderedStatistic(items_base=frozenset({'chicken'}), items_add=frozenset({'mineral water'}), confidence=0.38000000000000006, lift=1.5941722595078303)]), RelationRecord(items=frozenset({'spaghetti', 'chicken'}), support=0.01719770697240368, ordered_statistics=[OrderedStatistic(items_base=frozenset({'chicken'}), items_add=frozenset({'spaghetti'}), confidence=0.2866666666666667, lift=1.6464675855028077)]), RelationRecord(items=frozenset({'chocolate', 'cookies'}), support=0.010398613518197574, ordered_statistics=[OrderedStatistic(items_base=frozenset({'cookies'}), items_add=frozenset({'chocolate'}), confidence=0.12935323383084577, lift=0.7894862546502637)]), RelationRecord(items=frozenset({'cooking oil', 'chocolate'}), support=0.013598186908412212, ordered_statistics=[OrderedStatistic(items_base=frozenset({'cooking oil'}), items_add=frozenset({'chocolate'}), confidence=0.26631853785900783, lift=1.6254315317171828)]), RelationRecord(items=frozenset({'eggs', 'chocolate'}), support=0.03319557392347687, ordered_statistics=[OrderedStatistic(items_base=frozenset({'chocolate'}), items_add=frozenset({'eggs'}), confidence=0.20260374288039054, lift=1.1273966434316094), OrderedStatistic(items_base=frozenset({'eggs'}), items_add=frozenset({'chocolate'}), confidence=0.1847181008902077, lift=1.1273966434316094)]), RelationRecord(items=frozenset({'chocolate', 'escalope'}), support=0.01759765364618051, ordered_statistics=[OrderedStatistic(items_base=frozenset({'chocolate'}), items_add=frozenset({'escalope'}), confidence=0.10740439381611065, lift=1.3540174084279766), OrderedStatistic(items_base=frozenset({'escalope'}), items_add=frozenset({'chocolate'}), confidence=0.22184873949579834, lift=1.3540174084279766)]), RelationRecord(items=frozenset({'chocolate', 'french fries'}), support=0.03439541394480736, ordered_statistics=[OrderedStatistic(items_base=frozenset({'chocolate'}), items_add=frozenset({'french fries'}), confidence=0.209926769731489, lift=1.2282844771886887), OrderedStatistic(items_base=frozenset({'french fries'}), items_add=frozenset({'chocolate'}), confidence=0.20124804992199688, lift=1.2282844771886887)]), RelationRecord(items=frozenset({'chocolate', 'frozen smoothie'}), support=0.01493134248766831, ordered_statistics=[OrderedStatistic(items_base=frozenset({'frozen smoothie'}), items_add=frozenset({'chocolate'}), confidence=0.23578947368421052, lift=1.43910239390176)]), RelationRecord(items=frozenset({'chocolate', 'frozen vegetables'}), support=0.022930275963204905, ordered_statistics=[OrderedStatistic(items_base=frozenset({'chocolate'}), items_add=frozenset({'frozen vegetables'}), confidence=0.13995117982099267, lift=1.468215104667505), OrderedStatistic(items_base=frozenset({'frozen vegetables'}), items_add=frozenset({'chocolate'}), confidence=0.24055944055944053, lift=1.4682151046675047)]), RelationRecord(items=frozenset({'chocolate', 'grated cheese'}), support=0.010931875749900012, ordered_statistics=[OrderedStatistic(items_base=frozenset({'grated cheese'}), items_add=frozenset({'chocolate'}), confidence=0.20865139949109412, lift=1.2734696074716818)]), RelationRecord(items=frozenset({'green tea', 'chocolate'}), support=0.023463538194907346, ordered_statistics=[OrderedStatistic(items_base=frozenset({'chocolate'}), items_add=frozenset({'green tea'}), confidence=0.14320585842148087, lift=1.0839426276685449), OrderedStatistic(items_base=frozenset({'green tea'}), items_add=frozenset({'chocolate'}), confidence=0.17759838546922302, lift=1.0839426276685449)]), RelationRecord(items=frozenset({'ground beef', 'chocolate'}), support=0.023063591521130515, ordered_statistics=[OrderedStatistic(items_base=frozenset({'chocolate'}), items_add=frozenset({'ground beef'}), confidence=0.1407648494711147, lift=1.4326691124597442), OrderedStatistic(items_base=frozenset({'ground beef'}), items_add=frozenset({'chocolate'}), confidence=0.23473541383989144, lift=1.4326691124597442)]), RelationRecord(items=frozenset({'low fat yogurt', 'chocolate'}), support=0.014798026929742702, ordered_statistics=[OrderedStatistic(items_base=frozenset({'low fat yogurt'}), items_add=frozenset({'chocolate'}), confidence=0.19337979094076657, lift=1.1802618485327014)]), RelationRecord(items=frozenset({'chocolate', 'milk'}), support=0.03212904946007199, ordered_statistics=[OrderedStatistic(items_base=frozenset({'chocolate'}), items_add=frozenset({'milk'}), confidence=0.19609438567941412, lift=1.5132757067708698), OrderedStatistic(items_base=frozenset({'milk'}), items_add=frozenset({'chocolate'}), confidence=0.2479423868312757, lift=1.5132757067708698)]), RelationRecord(items=frozenset({'mineral water', 'chocolate'}), support=0.05265964538061592, ordered_statistics=[OrderedStatistic(items_base=frozenset({'chocolate'}), items_add=frozenset({'mineral water'}), confidence=0.3213995117982099, lift=1.3483320682317521), OrderedStatistic(items_base=frozenset({'mineral water'}), items_add=frozenset({'chocolate'}), confidence=0.220917225950783, lift=1.348332068231752)]), RelationRecord(items=frozenset({'olive oil', 'chocolate'}), support=0.01639781362485002, ordered_statistics=[OrderedStatistic(items_base=frozenset({'chocolate'}), items_add=frozenset({'olive oil'}), confidence=0.1000813669650122, lift=1.5196565457582116), OrderedStatistic(items_base=frozenset({'olive oil'}), items_add=frozenset({'chocolate'}), confidence=0.24898785425101214, lift=1.5196565457582114)]), RelationRecord(items=frozenset({'chocolate', 'pancakes'}), support=0.01986401813091588, ordered_statistics=[OrderedStatistic(items_base=frozenset({'chocolate'}), items_add=frozenset({'pancakes'}), confidence=0.12123677786818551, lift=1.2754517121868998), OrderedStatistic(items_base=frozenset({'pancakes'}), items_add=frozenset({'chocolate'}), confidence=0.20897615708274897, lift=1.2754517121868998)]), RelationRecord(items=frozenset({'salmon', 'chocolate'}), support=0.010665244634048793, ordered_statistics=[OrderedStatistic(items_base=frozenset({'salmon'}), items_add=frozenset({'chocolate'}), confidence=0.2507836990595611, lift=1.5306171901104701)]), RelationRecord(items=frozenset({'chocolate', 'shrimp'}), support=0.017997600319957337, ordered_statistics=[OrderedStatistic(items_base=frozenset({'chocolate'}), items_add=frozenset({'shrimp'}), confidence=0.1098454027664768, lift=1.5372208323719074), OrderedStatistic(items_base=frozenset({'shrimp'}), items_add=frozenset({'chocolate'}), confidence=0.251865671641791, lift=1.5372208323719074)]), RelationRecord(items=frozenset({'chocolate', 'soup'}), support=0.010131982402346354, ordered_statistics=[OrderedStatistic(items_base=frozenset({'soup'}), items_add=frozenset({'chocolate'}), confidence=0.20052770448548812, lift=1.2238879669207863)]), RelationRecord(items=frozenset({'spaghetti', 'chocolate'}), support=0.03919477403012932, ordered_statistics=[OrderedStatistic(items_base=frozenset({'chocolate'}), items_add=frozenset({'spaghetti'}), confidence=0.23921887713588283, lift=1.3739516059695691), OrderedStatistic(items_base=frozenset({'spaghetti'}), items_add=frozenset({'chocolate'}), confidence=0.22511485451761104, lift=1.3739516059695691)]), RelationRecord(items=frozenset({'chocolate', 'tomatoes'}), support=0.013998133582189041, ordered_statistics=[OrderedStatistic(items_base=frozenset({'tomatoes'}), items_add=frozenset({'chocolate'}), confidence=0.2046783625730994, lift=1.2492208280397221)]), RelationRecord(items=frozenset({'chocolate', 'turkey'}), support=0.011331822423676844, ordered_statistics=[OrderedStatistic(items_base=frozenset({'turkey'}), items_add=frozenset({'chocolate'}), confidence=0.18123667377398722, lift=1.1061483238231717)]), RelationRecord(items=frozenset({'whole wheat rice', 'chocolate'}), support=0.011998400213304892, ordered_statistics=[OrderedStatistic(items_base=frozenset({'whole wheat rice'}), items_add=frozenset({'chocolate'}), confidence=0.20501138952164008, lift=1.2512534034188951)]), RelationRecord(items=frozenset({'eggs', 'cookies'}), support=0.010531929076123183, ordered_statistics=[OrderedStatistic(items_base=frozenset({'cookies'}), items_add=frozenset({'eggs'}), confidence=0.1310116086235489, lift=0.7290193444252525)]), RelationRecord(items=frozenset({'french fries', 'cookies'}), support=0.013331555792560993, ordered_statistics=[OrderedStatistic(items_base=frozenset({'cookies'}), items_add=frozenset({'french fries'}), confidence=0.16583747927031509, lift=0.9703174196619606)]), RelationRecord(items=frozenset({'green tea', 'cookies'}), support=0.011998400213304892, ordered_statistics=[OrderedStatistic(items_base=frozenset({'cookies'}), items_add=frozenset({'green tea'}), confidence=0.14925373134328357, lift=1.1297197162522403)]), RelationRecord(items=frozenset({'cooking oil', 'eggs'}), support=0.011731769097453673, ordered_statistics=[OrderedStatistic(items_base=frozenset({'cooking oil'}), items_add=frozenset({'eggs'}), confidence=0.2297650130548303, lift=1.2785366193800312)]), RelationRecord(items=frozenset({'cooking oil', 'milk'}), support=0.011465137981602452, ordered_statistics=[OrderedStatistic(items_base=frozenset({'cooking oil'}), items_add=frozenset({'milk'}), confidence=0.22454308093994776, lift=1.732816512479988)]), RelationRecord(items=frozenset({'cooking oil', 'mineral water'}), support=0.020130649246767097, ordered_statistics=[OrderedStatistic(items_base=frozenset({'cooking oil'}), items_add=frozenset({'mineral water'}), confidence=0.3942558746736292, lift=1.6539783646123563)]), RelationRecord(items=frozenset({'cooking oil', 'spaghetti'}), support=0.01586455139314758, ordered_statistics=[OrderedStatistic(items_base=frozenset({'cooking oil'}), items_add=frozenset({'spaghetti'}), confidence=0.31070496083550914, lift=1.7845313255950643)]), RelationRecord(items=frozenset({'eggs', 'escalope'}), support=0.011065191307825623, ordered_statistics=[OrderedStatistic(items_base=frozenset({'escalope'}), items_add=frozenset({'eggs'}), confidence=0.13949579831932774, lift=0.7762299578585143)]), RelationRecord(items=frozenset({'eggs', 'french fries'}), support=0.036395147313691506, ordered_statistics=[OrderedStatistic(items_base=frozenset({'eggs'}), items_add=frozenset({'french fries'}), confidence=0.20252225519287834, lift=1.1849605586597352), OrderedStatistic(items_base=frozenset({'french fries'}), items_add=frozenset({'eggs'}), confidence=0.21294851794071765, lift=1.1849605586597352)]), RelationRecord(items=frozenset({'eggs', 'frozen smoothie'}), support=0.011065191307825623, ordered_statistics=[OrderedStatistic(items_base=frozenset({'frozen smoothie'}), items_add=frozenset({'eggs'}), confidence=0.17473684210526316, lift=0.97233015773856)]), RelationRecord(items=frozenset({'eggs', 'frozen vegetables'}), support=0.021730435941874418, ordered_statistics=[OrderedStatistic(items_base=frozenset({'eggs'}), items_add=frozenset({'frozen vegetables'}), confidence=0.12091988130563798, lift=1.2685594820609658), OrderedStatistic(items_base=frozenset({'frozen vegetables'}), items_add=frozenset({'eggs'}), confidence=0.22797202797202798, lift=1.2685594820609658)]), RelationRecord(items=frozenset({'eggs', 'green tea'}), support=0.025463271563791495, ordered_statistics=[OrderedStatistic(items_base=frozenset({'eggs'}), items_add=frozenset({'green tea'}), confidence=0.14169139465875372, lift=1.0724794665341189), OrderedStatistic(items_base=frozenset({'green tea'}), items_add=frozenset({'eggs'}), confidence=0.1927346115035318, lift=1.0724794665341186)]), RelationRecord(items=frozenset({'eggs', 'ground beef'}), support=0.019997333688841486, ordered_statistics=[OrderedStatistic(items_base=frozenset({'eggs'}), items_add=frozenset({'ground beef'}), confidence=0.11127596439169138, lift=1.132538682363741), OrderedStatistic(items_base=frozenset({'ground beef'}), items_add=frozenset({'eggs'}), confidence=0.20352781546811397, lift=1.132538682363741)]), RelationRecord(items=frozenset({'eggs', 'herb & pepper'}), support=0.012531662445007332, ordered_statistics=[OrderedStatistic(items_base=frozenset({'herb & pepper'}), items_add=frozenset({'eggs'}), confidence=0.25336927223719674, lift=1.4098834651715229)]), RelationRecord(items=frozenset({'eggs', 'low fat yogurt'}), support=0.01679776029862685, ordered_statistics=[OrderedStatistic(items_base=frozenset({'low fat yogurt'}), items_add=frozenset({'eggs'}), confidence=0.21951219512195125, lift=1.2214844032713326)]), RelationRecord(items=frozenset({'eggs', 'milk'}), support=0.03079589388081589, ordered_statistics=[OrderedStatistic(items_base=frozenset({'eggs'}), items_add=frozenset({'milk'}), confidence=0.17136498516320472, lift=1.322436989412756), OrderedStatistic(items_base=frozenset({'milk'}), items_add=frozenset({'eggs'}), confidence=0.23765432098765432, lift=1.322436989412756)]), RelationRecord(items=frozenset({'eggs', 'mineral water'}), support=0.05092654312758299, ordered_statistics=[OrderedStatistic(items_base=frozenset({'eggs'}), items_add=frozenset({'mineral water'}), confidence=0.28338278931750743, lift=1.188844688294532), OrderedStatistic(items_base=frozenset({'mineral water'}), items_add=frozenset({'eggs'}), confidence=0.21364653243847875, lift=1.188844688294532)]), RelationRecord(items=frozenset({'eggs', 'olive oil'}), support=0.011998400213304892, ordered_statistics=[OrderedStatistic(items_base=frozenset({'olive oil'}), items_add=frozenset({'eggs'}), confidence=0.18218623481781376, lift=1.0137826019053569)]), RelationRecord(items=frozenset({'eggs', 'pancakes'}), support=0.021730435941874418, ordered_statistics=[OrderedStatistic(items_base=frozenset({'eggs'}), items_add=frozenset({'pancakes'}), confidence=0.12091988130563798, lift=1.27211785367965), OrderedStatistic(items_base=frozenset({'pancakes'}), items_add=frozenset({'eggs'}), confidence=0.2286115007012623, lift=1.2721178536796502)]), RelationRecord(items=frozenset({'eggs', 'shrimp'}), support=0.014131449140114652, ordered_statistics=[OrderedStatistic(items_base=frozenset({'shrimp'}), items_add=frozenset({'eggs'}), confidence=0.19776119402985073, lift=1.100450086363435)]), RelationRecord(items=frozenset({'eggs', 'spaghetti'}), support=0.036528462871617116, ordered_statistics=[OrderedStatistic(items_base=frozenset({'eggs'}), items_add=frozenset({'spaghetti'}), confidence=0.2032640949554896, lift=1.1674456173515526), OrderedStatistic(items_base=frozenset({'spaghetti'}), items_add=frozenset({'eggs'}), confidence=0.20980091883614088, lift=1.1674456173515524)]), RelationRecord(items=frozenset({'eggs', 'tomatoes'}), support=0.012265031329156113, ordered_statistics=[OrderedStatistic(items_base=frozenset({'tomatoes'}), items_add=frozenset({'eggs'}), confidence=0.1793372319688109, lift=0.9979292114228862)]), RelationRecord(items=frozenset({'eggs', 'turkey'}), support=0.01946407145713905, ordered_statistics=[OrderedStatistic(items_base=frozenset({'eggs'}), items_add=frozenset({'turkey'}), confidence=0.10830860534124628, lift=1.7322448798820649), OrderedStatistic(items_base=frozenset({'turkey'}), items_add=frozenset({'eggs'}), confidence=0.31130063965884863, lift=1.7322448798820649)]), RelationRecord(items=frozenset({'eggs', 'whole wheat rice'}), support=0.010931875749900012, ordered_statistics=[OrderedStatistic(items_base=frozenset({'whole wheat rice'}), items_add=frozenset({'eggs'}), confidence=0.18678815489749429, lift=1.0393901705386532)]), RelationRecord(items=frozenset({'escalope', 'french fries'}), support=0.01639781362485002, ordered_statistics=[OrderedStatistic(items_base=frozenset({'escalope'}), items_add=frozenset({'french fries'}), confidence=0.20672268907563024, lift=1.2095373562841674)]), RelationRecord(items=frozenset({'mineral water', 'escalope'}), support=0.017064391414478068, ordered_statistics=[OrderedStatistic(items_base=frozenset({'escalope'}), items_add=frozenset({'mineral water'}), confidence=0.21512605042016805, lift=0.9024946891508281)]), RelationRecord(items=frozenset({'spaghetti', 'escalope'}), support=0.013998133582189041, ordered_statistics=[OrderedStatistic(items_base=frozenset({'escalope'}), items_add=frozenset({'spaghetti'}), confidence=0.17647058823529413, lift=1.013557337176831)]), RelationRecord(items=frozenset({'french fries', 'frozen smoothie'}), support=0.014531395813891481, ordered_statistics=[OrderedStatistic(items_base=frozenset({'frozen smoothie'}), items_add=frozenset({'french fries'}), confidence=0.22947368421052633, lift=1.3426537482551935)]), RelationRecord(items=frozenset({'french fries', 'frozen vegetables'}), support=0.019064124783362217, ordered_statistics=[OrderedStatistic(items_base=frozenset({'french fries'}), items_add=frozenset({'frozen vegetables'}), confidence=0.11154446177847115, lift=1.1702028081123246), OrderedStatistic(items_base=frozenset({'frozen vegetables'}), items_add=frozenset({'french fries'}), confidence=0.19999999999999998, lift=1.1702028081123246)]), RelationRecord(items=frozenset({'grated cheese', 'french fries'}), support=0.010398613518197574, ordered_statistics=[OrderedStatistic(items_base=frozenset({'grated cheese'}), items_add=frozenset({'french fries'}), confidence=0.19847328244274812, lift=1.1612699622488718)]), RelationRecord(items=frozenset({'green tea', 'french fries'}), support=0.028529529396080524, ordered_statistics=[OrderedStatistic(items_base=frozenset({'french fries'}), items_add=frozenset({'green tea'}), confidence=0.1669266770670827, lift=1.263488400282732), OrderedStatistic(items_base=frozenset({'green tea'}), items_add=frozenset({'french fries'}), confidence=0.21594349142280528, lift=1.263488400282732)]), RelationRecord(items=frozenset({'ground beef', 'french fries'}), support=0.01386481802426343, ordered_statistics=[OrderedStatistic(items_base=frozenset({'ground beef'}), items_add=frozenset({'french fries'}), confidence=0.14111261872455902, lift=0.8256519134578137)]), RelationRecord(items=frozenset({'low fat yogurt', 'french fries'}), support=0.013331555792560993, ordered_statistics=[OrderedStatistic(items_base=frozenset({'low fat yogurt'}), items_add=frozenset({'french fries'}), confidence=0.17421602787456447, lift=1.0193404251849518)]), RelationRecord(items=frozenset({'milk', 'french fries'}), support=0.023730169310758567, ordered_statistics=[OrderedStatistic(items_base=frozenset({'french fries'}), items_add=frozenset({'milk'}), confidence=0.1388455538221529, lift=1.0714819950822727), OrderedStatistic(items_base=frozenset({'milk'}), items_add=frozenset({'french fries'}), confidence=0.18312757201646093, lift=1.0714819950822727)]), RelationRecord(items=frozenset({'mineral water', 'french fries'}), support=0.03372883615517931, ordered_statistics=[OrderedStatistic(items_base=frozenset({'french fries'}), items_add=frozenset({'mineral water'}), confidence=0.19734789391575666, lift=0.8279119419810351), OrderedStatistic(items_base=frozenset({'mineral water'}), items_add=frozenset({'french fries'}), confidence=0.14149888143176736, lift=0.8279119419810351)]), RelationRecord(items=frozenset({'pancakes', 'french fries'}), support=0.020130649246767097, ordered_statistics=[OrderedStatistic(items_base=frozenset({'french fries'}), items_add=frozenset({'pancakes'}), confidence=0.11778471138845555, lift=1.2391348108342286), OrderedStatistic(items_base=frozenset({'pancakes'}), items_add=frozenset({'french fries'}), confidence=0.211781206171108, lift=1.2391348108342286)]), RelationRecord(items=frozenset({'spaghetti', 'french fries'}), support=0.027596320490601255, ordered_statistics=[OrderedStatistic(items_base=frozenset({'french fries'}), items_add=frozenset({'spaghetti'}), confidence=0.16146645865834636, lift=0.9273812453263829), OrderedStatistic(items_base=frozenset({'spaghetti'}), items_add=frozenset({'french fries'}), confidence=0.15849923430321594, lift=0.9273812453263829)]), RelationRecord(items=frozenset({'french fries', 'tomatoes'}), support=0.011998400213304892, ordered_statistics=[OrderedStatistic(items_base=frozenset({'tomatoes'}), items_add=frozenset({'french fries'}), confidence=0.17543859649122806, lift=1.0264936913266005)]), RelationRecord(items=frozenset({'turkey', 'french fries'}), support=0.010665244634048793, ordered_statistics=[OrderedStatistic(items_base=frozenset({'turkey'}), items_add=frozenset({'french fries'}), confidence=0.1705756929637527, lift=0.9980407745094454)]), RelationRecord(items=frozenset({'whole wheat rice', 'french fries'}), support=0.010531929076123183, ordered_statistics=[OrderedStatistic(items_base=frozenset({'whole wheat rice'}), items_add=frozenset({'french fries'}), confidence=0.17995444191343962, lift=1.0529159662969663)]), RelationRecord(items=frozenset({'fresh bread', 'mineral water'}), support=0.013331555792560993, ordered_statistics=[OrderedStatistic(items_base=frozenset({'fresh bread'}), items_add=frozenset({'mineral water'}), confidence=0.30959752321981426, lift=1.2988204819193663)]), RelationRecord(items=frozenset({'green tea', 'frozen smoothie'}), support=0.011198506865751233, ordered_statistics=[OrderedStatistic(items_base=frozenset({'frozen smoothie'}), items_add=frozenset({'green tea'}), confidence=0.1768421052631579, lift=1.338539486961602)]), RelationRecord(items=frozenset({'milk', 'frozen smoothie'}), support=0.014264764698040262, ordered_statistics=[OrderedStatistic(items_base=frozenset({'frozen smoothie'}), items_add=frozenset({'milk'}), confidence=0.22526315789473686, lift=1.7383734026424087), OrderedStatistic(items_base=frozenset({'milk'}), items_add=frozenset({'frozen smoothie'}), confidence=0.11008230452674898, lift=1.7383734026424087)]), RelationRecord(items=frozenset({'mineral water', 'frozen smoothie'}), support=0.020263964804692707, ordered_statistics=[OrderedStatistic(items_base=frozenset({'frozen smoothie'}), items_add=frozenset({'mineral water'}), confidence=0.32, lift=1.342460850111857)]), RelationRecord(items=frozenset({'spaghetti', 'frozen smoothie'}), support=0.01559792027729636, ordered_statistics=[OrderedStatistic(items_base=frozenset({'frozen smoothie'}), items_add=frozenset({'spaghetti'}), confidence=0.24631578947368424, lift=1.414712662206819)]), RelationRecord(items=frozenset({'green tea', 'frozen vegetables'}), support=0.01439808025596587, ordered_statistics=[OrderedStatistic(items_base=frozenset({'frozen vegetables'}), items_add=frozenset({'green tea'}), confidence=0.15104895104895105, lift=1.143307953398771), OrderedStatistic(items_base=frozenset({'green tea'}), items_add=frozenset({'frozen vegetables'}), confidence=0.10898082744702321, lift=1.143307953398771)]), RelationRecord(items=frozenset({'ground beef', 'frozen vegetables'}), support=0.01693107585655246, ordered_statistics=[OrderedStatistic(items_base=frozenset({'frozen vegetables'}), items_add=frozenset({'ground beef'}), confidence=0.17762237762237765, lift=1.807795732083385), OrderedStatistic(items_base=frozenset({'ground beef'}), items_add=frozenset({'frozen vegetables'}), confidence=0.17232021709633652, lift=1.8077957320833848)]), RelationRecord(items=frozenset({'low fat yogurt', 'frozen vegetables'}), support=0.010131982402346354, ordered_statistics=[OrderedStatistic(items_base=frozenset({'frozen vegetables'}), items_add=frozenset({'low fat yogurt'}), confidence=0.1062937062937063, lift=1.3890402280646184), OrderedStatistic(items_base=frozenset({'low fat yogurt'}), items_add=frozenset({'frozen vegetables'}), confidence=0.13240418118466898, lift=1.3890402280646184)]), RelationRecord(items=frozenset({'milk', 'frozen vegetables'}), support=0.023596853752832957, ordered_statistics=[OrderedStatistic(items_base=frozenset({'frozen vegetables'}), items_add=frozenset({'milk'}), confidence=0.24755244755244757, lift=1.9103815937149273), OrderedStatistic(items_base=frozenset({'milk'}), items_add=frozenset({'frozen vegetables'}), confidence=0.1820987654320988, lift=1.9103815937149273)]), RelationRecord(items=frozenset({'mineral water', 'frozen vegetables'}), support=0.03572856952406346, ordered_statistics=[OrderedStatistic(items_base=frozenset({'frozen vegetables'}), items_add=frozenset({'mineral water'}), confidence=0.37482517482517486, lift=1.57246288387228), OrderedStatistic(items_base=frozenset({'mineral water'}), items_add=frozenset({'frozen vegetables'}), confidence=0.1498881431767338, lift=1.57246288387228)]), RelationRecord(items=frozenset({'olive oil', 'frozen vegetables'}), support=0.011331822423676844, ordered_statistics=[OrderedStatistic(items_base=frozenset({'frozen vegetables'}), items_add=frozenset({'olive oil'}), confidence=0.11888111888111888, lift=1.8051159366948841), OrderedStatistic(items_base=frozenset({'olive oil'}), items_add=frozenset({'frozen vegetables'}), confidence=0.17206477732793524, lift=1.8051159366948841)]), RelationRecord(items=frozenset({'pancakes', 'frozen vegetables'}), support=0.013464871350486601, ordered_statistics=[OrderedStatistic(items_base=frozenset({'frozen vegetables'}), items_add=frozenset({'pancakes'}), confidence=0.14125874125874124, lift=1.4860895065663648), OrderedStatistic(items_base=frozenset({'pancakes'}), items_add=frozenset({'frozen vegetables'}), confidence=0.14165497896213183, lift=1.4860895065663648)]), RelationRecord(items=frozenset({'shrimp', 'frozen vegetables'}), support=0.01666444474070124, ordered_statistics=[OrderedStatistic(items_base=frozenset({'frozen vegetables'}), items_add=frozenset({'shrimp'}), confidence=0.17482517482517482, lift=2.4465739484396196), OrderedStatistic(items_base=frozenset({'shrimp'}), items_add=frozenset({'frozen vegetables'}), confidence=0.23320895522388058, lift=2.44657394843962)]), RelationRecord(items=frozenset({'spaghetti', 'frozen vegetables'}), support=0.027862951606452472, ordered_statistics=[OrderedStatistic(items_base=frozenset({'frozen vegetables'}), items_add=frozenset({'spaghetti'}), confidence=0.29230769230769227, lift=1.678866768759571), OrderedStatistic(items_base=frozenset({'spaghetti'}), items_add=frozenset({'frozen vegetables'}), confidence=0.16003062787136293, lift=1.678866768759571)]), RelationRecord(items=frozenset({'tomatoes', 'frozen vegetables'}), support=0.0161311825089988, ordered_statistics=[OrderedStatistic(items_base=frozenset({'frozen vegetables'}), items_add=frozenset({'tomatoes'}), confidence=0.1692307692307692, lift=2.4744639376218323), OrderedStatistic(items_base=frozenset({'tomatoes'}), items_add=frozenset({'frozen vegetables'}), confidence=0.23586744639376217, lift=2.4744639376218323)]), RelationRecord(items=frozenset({'ground beef', 'grated cheese'}), support=0.011331822423676844, ordered_statistics=[OrderedStatistic(items_base=frozenset({'grated cheese'}), items_add=frozenset({'ground beef'}), confidence=0.2162849872773537, lift=2.201294015695292), OrderedStatistic(items_base=frozenset({'ground beef'}), items_add=frozenset({'grated cheese'}), confidence=0.1153324287652646, lift=2.201294015695292)]), RelationRecord(items=frozenset({'mineral water', 'grated cheese'}), support=0.0174643380882549, ordered_statistics=[OrderedStatistic(items_base=frozenset({'grated cheese'}), items_add=frozenset({'mineral water'}), confidence=0.3333333333333333, lift=1.3983967188665174)]), RelationRecord(items=frozenset({'spaghetti', 'grated cheese'}), support=0.01653112918277563, ordered_statistics=[OrderedStatistic(items_base=frozenset({'grated cheese'}), items_add=frozenset({'spaghetti'}), confidence=0.3155216284987277, lift=1.8121958157495839)]), RelationRecord(items=frozenset({'ground beef', 'green tea'}), support=0.014798026929742702, ordered_statistics=[OrderedStatistic(items_base=frozenset({'green tea'}), items_add=frozenset({'ground beef'}), confidence=0.11200807265388497, lift=1.1399898954908971), OrderedStatistic(items_base=frozenset({'ground beef'}), items_add=frozenset({'green tea'}), confidence=0.15061058344640435, lift=1.1399898954908971)]), RelationRecord(items=frozenset({'green tea', 'milk'}), support=0.01759765364618051, ordered_statistics=[OrderedStatistic(items_base=frozenset({'green tea'}), items_add=frozenset({'milk'}), confidence=0.13319878910191726, lift=1.027905470219631), OrderedStatistic(items_base=frozenset({'milk'}), items_add=frozenset({'green tea'}), confidence=0.1358024691358025, lift=1.0279054702196313)]), RelationRecord(items=frozenset({'mineral water', 'green tea'}), support=0.03106252499666711, ordered_statistics=[OrderedStatistic(items_base=frozenset({'green tea'}), items_add=frozenset({'mineral water'}), confidence=0.23511604439959638, lift=0.9863565151238102), OrderedStatistic(items_base=frozenset({'mineral water'}), items_add=frozenset({'green tea'}), confidence=0.1303131991051454, lift=0.9863565151238101)]), RelationRecord(items=frozenset({'green tea', 'pancakes'}), support=0.01639781362485002, ordered_statistics=[OrderedStatistic(items_base=frozenset({'green tea'}), items_add=frozenset({'pancakes'}), confidence=0.124117053481332, lift=1.3057531811549388), OrderedStatistic(items_base=frozenset({'pancakes'}), items_add=frozenset({'green tea'}), confidence=0.17251051893408134, lift=1.3057531811549385)]), RelationRecord(items=frozenset({'green tea', 'shrimp'}), support=0.011465137981602452, ordered_statistics=[OrderedStatistic(items_base=frozenset({'shrimp'}), items_add=frozenset({'green tea'}), confidence=0.16044776119402984, lift=1.2144486949711584)]), RelationRecord(items=frozenset({'spaghetti', 'green tea'}), support=0.026529796027196375, ordered_statistics=[OrderedStatistic(items_base=frozenset({'green tea'}), items_add=frozenset({'spaghetti'}), confidence=0.2008072653884965, lift=1.153334837426579), OrderedStatistic(items_base=frozenset({'spaghetti'}), items_add=frozenset({'green tea'}), confidence=0.15237366003062788, lift=1.153334837426579)]), RelationRecord(items=frozenset({'green tea', 'tomatoes'}), support=0.012265031329156113, ordered_statistics=[OrderedStatistic(items_base=frozenset({'tomatoes'}), items_add=frozenset({'green tea'}), confidence=0.1793372319688109, lift=1.3574254056488906)]), RelationRecord(items=frozenset({'green tea', 'turkey'}), support=0.011865084655379284, ordered_statistics=[OrderedStatistic(items_base=frozenset({'turkey'}), items_add=frozenset({'green tea'}), confidence=0.18976545842217488, lift=1.4363579249492773)]), RelationRecord(items=frozenset({'ground beef', 'herb & pepper'}), support=0.015997866951073192, ordered_statistics=[OrderedStatistic(items_base=frozenset({'ground beef'}), items_add=frozenset({'herb & pepper'}), confidence=0.1628222523744912, lift=3.291993841134928), OrderedStatistic(items_base=frozenset({'herb & pepper'}), items_add=frozenset({'ground beef'}), confidence=0.3234501347708895, lift=3.2919938411349285)]), RelationRecord(items=frozenset({'ground beef', 'milk'}), support=0.021997067057725635, ordered_statistics=[OrderedStatistic(items_base=frozenset({'ground beef'}), items_add=frozenset({'milk'}), confidence=0.22388059701492538, lift=1.7277040722314356), OrderedStatistic(items_base=frozenset({'milk'}), items_add=frozenset({'ground beef'}), confidence=0.1697530864197531, lift=1.7277040722314354)]), RelationRecord(items=frozenset({'ground beef', 'mineral water'}), support=0.040927876283162246, ordered_statistics=[OrderedStatistic(items_base=frozenset({'ground beef'}), items_add=frozenset({'mineral water'}), confidence=0.41655359565807326, lift=1.7475215442008991), OrderedStatistic(items_base=frozenset({'mineral water'}), items_add=frozenset({'ground beef'}), confidence=0.17170022371364654, lift=1.7475215442008993)]), RelationRecord(items=frozenset({'ground beef', 'olive oil'}), support=0.014131449140114652, ordered_statistics=[OrderedStatistic(items_base=frozenset({'ground beef'}), items_add=frozenset({'olive oil'}), confidence=0.14382632293080055, lift=2.183889166607156), OrderedStatistic(items_base=frozenset({'olive oil'}), items_add=frozenset({'ground beef'}), confidence=0.2145748987854251, lift=2.183889166607156)]), RelationRecord(items=frozenset({'ground beef', 'pancakes'}), support=0.014531395813891481, ordered_statistics=[OrderedStatistic(items_base=frozenset({'ground beef'}), items_add=frozenset({'pancakes'}), confidence=0.14789687924016282, lift=1.555924952567267), OrderedStatistic(items_base=frozenset({'pancakes'}), items_add=frozenset({'ground beef'}), confidence=0.15287517531556802, lift=1.555924952567267)]), RelationRecord(items=frozenset({'ground beef', 'shrimp'}), support=0.011465137981602452, ordered_statistics=[OrderedStatistic(items_base=frozenset({'ground beef'}), items_add=frozenset({'shrimp'}), confidence=0.11668928086838534, lift=1.6329968205107432), OrderedStatistic(items_base=frozenset({'shrimp'}), items_add=frozenset({'ground beef'}), confidence=0.16044776119402984, lift=1.6329968205107435)]), RelationRecord(items=frozenset({'ground beef', 'spaghetti'}), support=0.03919477403012932, ordered_statistics=[OrderedStatistic(items_base=frozenset({'ground beef'}), items_add=frozenset({'spaghetti'}), confidence=0.3989145183175034, lift=2.291162176033379), OrderedStatistic(items_base=frozenset({'spaghetti'}), items_add=frozenset({'ground beef'}), confidence=0.22511485451761104, lift=2.2911621760333793)]), RelationRecord(items=frozenset({'ground beef', 'tomatoes'}), support=0.011731769097453673, ordered_statistics=[OrderedStatistic(items_base=frozenset({'ground beef'}), items_add=frozenset({'tomatoes'}), confidence=0.11940298507462688, lift=1.7458904308865033), OrderedStatistic(items_base=frozenset({'tomatoes'}), items_add=frozenset({'ground beef'}), confidence=0.17153996101364521, lift=1.745890430886503)]), RelationRecord(items=frozenset({'mineral water', 'herb & pepper'}), support=0.017064391414478068, ordered_statistics=[OrderedStatistic(items_base=frozenset({'herb & pepper'}), items_add=frozenset({'mineral water'}), confidence=0.34501347708894875, lift=1.447397142977743)]), RelationRecord(items=frozenset({'spaghetti', 'herb & pepper'}), support=0.01626449806692441, ordered_statistics=[OrderedStatistic(items_base=frozenset({'herb & pepper'}), items_add=frozenset({'spaghetti'}), confidence=0.32884097035040427, lift=1.8886953434903389)]), RelationRecord(items=frozenset({'mineral water', 'honey'}), support=0.015064658045593921, ordered_statistics=[OrderedStatistic(items_base=frozenset({'honey'}), items_add=frozenset({'mineral water'}), confidence=0.31741573033707865, lift=1.3316193474599705)]), RelationRecord(items=frozenset({'spaghetti', 'honey'}), support=0.011865084655379284, ordered_statistics=[OrderedStatistic(items_base=frozenset({'honey'}), items_add=frozenset({'spaghetti'}), confidence=0.25, lift=1.435872894333844)]), RelationRecord(items=frozenset({'low fat yogurt', 'milk'}), support=0.013198240234635382, ordered_statistics=[OrderedStatistic(items_base=frozenset({'low fat yogurt'}), items_add=frozenset({'milk'}), confidence=0.17247386759581884, lift=1.3309943218479807), OrderedStatistic(items_base=frozenset({'milk'}), items_add=frozenset({'low fat yogurt'}), confidence=0.10185185185185186, lift=1.3309943218479805)]), RelationRecord(items=frozenset({'low fat yogurt', 'mineral water'}), support=0.023996800426609784, ordered_statistics=[OrderedStatistic(items_base=frozenset({'low fat yogurt'}), items_add=frozenset({'mineral water'}), confidence=0.313588850174216, lift=1.315564857470243), OrderedStatistic(items_base=frozenset({'mineral water'}), items_add=frozenset({'low fat yogurt'}), confidence=0.10067114093959731, lift=1.315564857470243)]), RelationRecord(items=frozenset({'low fat yogurt', 'spaghetti'}), support=0.015197973603519531, ordered_statistics=[OrderedStatistic(items_base=frozenset({'low fat yogurt'}), items_add=frozenset({'spaghetti'}), confidence=0.1986062717770035, lift=1.1406934491572)]), RelationRecord(items=frozenset({'mineral water', 'milk'}), support=0.04799360085321957, ordered_statistics=[OrderedStatistic(items_base=frozenset({'milk'}), items_add=frozenset({'mineral water'}), confidence=0.3703703703703704, lift=1.5537741320739085), OrderedStatistic(items_base=frozenset({'mineral water'}), items_add=frozenset({'milk'}), confidence=0.20134228187919462, lift=1.5537741320739085)]), RelationRecord(items=frozenset({'olive oil', 'milk'}), support=0.017064391414478068, ordered_statistics=[OrderedStatistic(items_base=frozenset({'milk'}), items_add=frozenset({'olive oil'}), confidence=0.13168724279835392, lift=1.9995668182802688), OrderedStatistic(items_base=frozenset({'olive oil'}), items_add=frozenset({'milk'}), confidence=0.2591093117408907, lift=1.9995668182802688)]), RelationRecord(items=frozenset({'milk', 'pancakes'}), support=0.01653112918277563, ordered_statistics=[OrderedStatistic(items_base=frozenset({'milk'}), items_add=frozenset({'pancakes'}), confidence=0.12757201646090535, lift=1.3421005546609412), OrderedStatistic(items_base=frozenset({'pancakes'}), items_add=frozenset({'milk'}), confidence=0.17391304347826086, lift=1.3421005546609412)]), RelationRecord(items=frozenset({'milk', 'shrimp'}), support=0.01759765364618051, ordered_statistics=[OrderedStatistic(items_base=frozenset({'milk'}), items_add=frozenset({'shrimp'}), confidence=0.1358024691358025, lift=1.9004744794545791), OrderedStatistic(items_base=frozenset({'shrimp'}), items_add=frozenset({'milk'}), confidence=0.2462686567164179, lift=1.900474479454579)]), RelationRecord(items=frozenset({'milk', 'soup'}), support=0.015197973603519531, ordered_statistics=[OrderedStatistic(items_base=frozenset({'milk'}), items_add=frozenset({'soup'}), confidence=0.11728395061728396, lift=2.321231961953158), OrderedStatistic(items_base=frozenset({'soup'}), items_add=frozenset({'milk'}), confidence=0.3007915567282322, lift=2.3212319619531585)]), RelationRecord(items=frozenset({'spaghetti', 'milk'}), support=0.03546193840821224, ordered_statistics=[OrderedStatistic(items_base=frozenset({'milk'}), items_add=frozenset({'spaghetti'}), confidence=0.27366255144032925, lift=1.5717785592296398), OrderedStatistic(items_base=frozenset({'spaghetti'}), items_add=frozenset({'milk'}), confidence=0.20367534456355285, lift=1.57177855922964)]), RelationRecord(items=frozenset({'milk', 'tomatoes'}), support=0.013998133582189041, ordered_statistics=[OrderedStatistic(items_base=frozenset({'milk'}), items_add=frozenset({'tomatoes'}), confidence=0.1080246913580247, lift=1.5795189276345873), OrderedStatistic(items_base=frozenset({'tomatoes'}), items_add=frozenset({'milk'}), confidence=0.2046783625730994, lift=1.5795189276345871)]), RelationRecord(items=frozenset({'milk', 'turkey'}), support=0.011331822423676844, ordered_statistics=[OrderedStatistic(items_base=frozenset({'turkey'}), items_add=frozenset({'milk'}), confidence=0.18123667377398722, lift=1.3986175822825908)]), RelationRecord(items=frozenset({'whole wheat rice', 'milk'}), support=0.011865084655379284, ordered_statistics=[OrderedStatistic(items_base=frozenset({'whole wheat rice'}), items_add=frozenset({'milk'}), confidence=0.2027334851936219, lift=1.5645101568285575)]), RelationRecord(items=frozenset({'mineral water', 'olive oil'}), support=0.027596320490601255, ordered_statistics=[OrderedStatistic(items_base=frozenset({'mineral water'}), items_add=frozenset({'olive oil'}), confidence=0.11577181208053693, lift=1.7579035676439423), OrderedStatistic(items_base=frozenset({'olive oil'}), items_add=frozenset({'mineral water'}), confidence=0.4190283400809717, lift=1.7579035676439423)]), RelationRecord(items=frozenset({'mineral water', 'pancakes'}), support=0.03372883615517931, ordered_statistics=[OrderedStatistic(items_base=frozenset({'mineral water'}), items_add=frozenset({'pancakes'}), confidence=0.14149888143176736, lift=1.4886158620191963), OrderedStatistic(items_base=frozenset({'pancakes'}), items_add=frozenset({'mineral water'}), confidence=0.3548387096774194, lift=1.4886158620191963)]), RelationRecord(items=frozenset({'mineral water', 'red wine'}), support=0.010931875749900012, ordered_statistics=[OrderedStatistic(items_base=frozenset({'red wine'}), items_add=frozenset({'mineral water'}), confidence=0.38862559241706157, lift=1.6303582599107265)]), RelationRecord(items=frozenset({'mineral water', 'salmon'}), support=0.017064391414478068, ordered_statistics=[OrderedStatistic(items_base=frozenset({'salmon'}), items_add=frozenset({'mineral water'}), confidence=0.4012539184952978, lift=1.6833364891684726)]), RelationRecord(items=frozenset({'mineral water', 'shrimp'}), support=0.023596853752832957, ordered_statistics=[OrderedStatistic(items_base=frozenset({'shrimp'}), items_add=frozenset({'mineral water'}), confidence=0.3302238805970149, lift=1.385351973354703)]), RelationRecord(items=frozenset({'mineral water', 'soup'}), support=0.023063591521130515, ordered_statistics=[OrderedStatistic(items_base=frozenset({'soup'}), items_add=frozenset({'mineral water'}), confidence=0.45646437994722955, lift=1.9149548735929356)]), RelationRecord(items=frozenset({'mineral water', 'spaghetti'}), support=0.05972536995067324, ordered_statistics=[OrderedStatistic(items_base=frozenset({'mineral water'}), items_add=frozenset({'spaghetti'}), confidence=0.2505592841163311, lift=1.4390851379453289), OrderedStatistic(items_base=frozenset({'spaghetti'}), items_add=frozenset({'mineral water'}), confidence=0.3430321592649311, lift=1.4390851379453289)]), RelationRecord(items=frozenset({'mineral water', 'tomatoes'}), support=0.024396747100386616, ordered_statistics=[OrderedStatistic(items_base=frozenset({'mineral water'}), items_add=frozenset({'tomatoes'}), confidence=0.10234899328859061, lift=1.4965298219448697), OrderedStatistic(items_base=frozenset({'tomatoes'}), items_add=frozenset({'mineral water'}), confidence=0.3567251461988304, lift=1.4965298219448695)]), RelationRecord(items=frozenset({'mineral water', 'turkey'}), support=0.019197440341287828, ordered_statistics=[OrderedStatistic(items_base=frozenset({'turkey'}), items_add=frozenset({'mineral water'}), confidence=0.3070362473347548, lift=1.288075442538029)]), RelationRecord(items=frozenset({'mineral water', 'whole wheat rice'}), support=0.020130649246767097, ordered_statistics=[OrderedStatistic(items_base=frozenset({'whole wheat rice'}), items_add=frozenset({'mineral water'}), confidence=0.3439635535307517, lift=1.4429925140012128)]), RelationRecord(items=frozenset({'olive oil', 'pancakes'}), support=0.010798560191974404, ordered_statistics=[OrderedStatistic(items_base=frozenset({'olive oil'}), items_add=frozenset({'pancakes'}), confidence=0.1639676113360324, lift=1.7249944637189047), OrderedStatistic(items_base=frozenset({'pancakes'}), items_add=frozenset({'olive oil'}), confidence=0.11360448807854139, lift=1.7249944637189047)]), RelationRecord(items=frozenset({'spaghetti', 'olive oil'}), support=0.022930275963204905, ordered_statistics=[OrderedStatistic(items_base=frozenset({'olive oil'}), items_add=frozenset({'spaghetti'}), confidence=0.3481781376518219, lift=1.999758201015556), OrderedStatistic(items_base=frozenset({'spaghetti'}), items_add=frozenset({'olive oil'}), confidence=0.13169984686064318, lift=1.9997582010155557)]), RelationRecord(items=frozenset({'shrimp', 'pancakes'}), support=0.010531929076123183, ordered_statistics=[OrderedStatistic(items_base=frozenset({'pancakes'}), items_add=frozenset({'shrimp'}), confidence=0.11079943899018233, lift=1.5505719997488014), OrderedStatistic(items_base=frozenset({'shrimp'}), items_add=frozenset({'pancakes'}), confidence=0.14738805970149252, lift=1.5505719997488014)]), RelationRecord(items=frozenset({'spaghetti', 'pancakes'}), support=0.025196640447940274, ordered_statistics=[OrderedStatistic(items_base=frozenset({'pancakes'}), items_add=frozenset({'spaghetti'}), confidence=0.2650771388499299, lift=1.522468314328732), OrderedStatistic(items_base=frozenset({'spaghetti'}), items_add=frozenset({'pancakes'}), confidence=0.1447166921898928, lift=1.522468314328732)]), RelationRecord(items=frozenset({'spaghetti', 'red wine'}), support=0.010265297960271964, ordered_statistics=[OrderedStatistic(items_base=frozenset({'red wine'}), items_add=frozenset({'spaghetti'}), confidence=0.36492890995260663, lift=2.095966120638976)]), RelationRecord(items=frozenset({'salmon', 'spaghetti'}), support=0.013464871350486601, ordered_statistics=[OrderedStatistic(items_base=frozenset({'salmon'}), items_add=frozenset({'spaghetti'}), confidence=0.3166144200626959, lift=1.8184722548930183)]), RelationRecord(items=frozenset({'spaghetti', 'shrimp'}), support=0.021197173710171976, ordered_statistics=[OrderedStatistic(items_base=frozenset({'shrimp'}), items_add=frozenset({'spaghetti'}), confidence=0.2966417910447761, lift=1.7037596283513519), OrderedStatistic(items_base=frozenset({'spaghetti'}), items_add=frozenset({'shrimp'}), confidence=0.1217457886676876, lift=1.7037596283513519)]), RelationRecord(items=frozenset({'shrimp', 'tomatoes'}), support=0.011198506865751233, ordered_statistics=[OrderedStatistic(items_base=frozenset({'shrimp'}), items_add=frozenset({'tomatoes'}), confidence=0.15671641791044774, lift=2.2914811905385353), OrderedStatistic(items_base=frozenset({'tomatoes'}), items_add=frozenset({'shrimp'}), confidence=0.16374269005847952, lift=2.2914811905385353)]), RelationRecord(items=frozenset({'spaghetti', 'soup'}), support=0.014264764698040262, ordered_statistics=[OrderedStatistic(items_base=frozenset({'soup'}), items_add=frozenset({'spaghetti'}), confidence=0.2823218997361478, lift=1.6215134532318871)]), RelationRecord(items=frozenset({'spaghetti', 'tomatoes'}), support=0.020930542594320756, ordered_statistics=[OrderedStatistic(items_base=frozenset({'spaghetti'}), items_add=frozenset({'tomatoes'}), confidence=0.12021439509954057, lift=1.7577547322449392), OrderedStatistic(items_base=frozenset({'tomatoes'}), items_add=frozenset({'spaghetti'}), confidence=0.3060428849902534, lift=1.7577547322449394)]), RelationRecord(items=frozenset({'spaghetti', 'turkey'}), support=0.01653112918277563, ordered_statistics=[OrderedStatistic(items_base=frozenset({'turkey'}), items_add=frozenset({'spaghetti'}), confidence=0.26439232409381663, lift=1.5185350865449607)]), RelationRecord(items=frozenset({'spaghetti', 'whole wheat rice'}), support=0.014131449140114652, ordered_statistics=[OrderedStatistic(items_base=frozenset({'whole wheat rice'}), items_add=frozenset({'spaghetti'}), confidence=0.24145785876993167, lift=1.386811178126537)]), RelationRecord(items=frozenset({'eggs', 'mineral water', 'chocolate'}), support=0.013464871350486601, ordered_statistics=[OrderedStatistic(items_base=frozenset({'eggs', 'chocolate'}), items_add=frozenset({'mineral water'}), confidence=0.40562248995983935, lift=1.7016634771749188), OrderedStatistic(items_base=frozenset({'mineral water', 'chocolate'}), items_add=frozenset({'eggs'}), confidence=0.25569620253164554, lift=1.4228317620102917), OrderedStatistic(items_base=frozenset({'eggs', 'mineral water'}), items_add=frozenset({'chocolate'}), confidence=0.2643979057591623, lift=1.6137092685919252)]), RelationRecord(items=frozenset({'eggs', 'spaghetti', 'chocolate'}), support=0.010531929076123183, ordered_statistics=[OrderedStatistic(items_base=frozenset({'eggs', 'chocolate'}), items_add=frozenset({'spaghetti'}), confidence=0.3172690763052209, lift=1.8222322675080107), OrderedStatistic(items_base=frozenset({'spaghetti', 'chocolate'}), items_add=frozenset({'eggs'}), confidence=0.26870748299319724, lift=1.4952335533619974), OrderedStatistic(items_base=frozenset({'eggs', 'spaghetti'}), items_add=frozenset({'chocolate'}), confidence=0.28832116788321166, lift=1.7597209766411477)]), RelationRecord(items=frozenset({'ground beef', 'mineral water', 'chocolate'}), support=0.010931875749900012, ordered_statistics=[OrderedStatistic(items_base=frozenset({'ground beef'}), items_add=frozenset({'mineral water', 'chocolate'}), confidence=0.1112618724559023, lift=2.112848874156261), OrderedStatistic(items_base=frozenset({'ground beef', 'chocolate'}), items_add=frozenset({'mineral water'}), confidence=0.47398843930635837, lift=1.988471634920019), OrderedStatistic(items_base=frozenset({'mineral water', 'chocolate'}), items_add=frozenset({'ground beef'}), confidence=0.20759493670886073, lift=2.112848874156261), OrderedStatistic(items_base=frozenset({'ground beef', 'mineral water'}), items_add=frozenset({'chocolate'}), confidence=0.267100977198697, lift=1.6302070219425762)]), RelationRecord(items=frozenset({'mineral water', 'chocolate', 'milk'}), support=0.013998133582189041, ordered_statistics=[OrderedStatistic(items_base=frozenset({'milk'}), items_add=frozenset({'mineral water', 'chocolate'}), confidence=0.1080246913580247, lift=2.0513752148773245), OrderedStatistic(items_base=frozenset({'chocolate', 'milk'}), items_add=frozenset({'mineral water'}), confidence=0.43568464730290457, lift=1.827779943746693), OrderedStatistic(items_base=frozenset({'mineral water', 'chocolate'}), items_add=frozenset({'milk'}), confidence=0.26582278481012656, lift=2.0513752148773245), OrderedStatistic(items_base=frozenset({'mineral water', 'milk'}), items_add=frozenset({'chocolate'}), confidence=0.2916666666666667, lift=1.7801396799566043)]), RelationRecord(items=frozenset({'spaghetti', 'chocolate', 'milk'}), support=0.010931875749900012, ordered_statistics=[OrderedStatistic(items_base=frozenset({'chocolate', 'milk'}), items_add=frozenset({'spaghetti'}), confidence=0.34024896265560167, lift=1.954217051209547), OrderedStatistic(items_base=frozenset({'spaghetti', 'chocolate'}), items_add=frozenset({'milk'}), confidence=0.2789115646258503, lift=2.152382352117802), OrderedStatistic(items_base=frozenset({'spaghetti', 'milk'}), items_add=frozenset({'chocolate'}), confidence=0.3082706766917293, lift=1.8814795328435)]), RelationRecord(items=frozenset({'mineral water', 'chocolate', 'spaghetti'}), support=0.01586455139314758, ordered_statistics=[OrderedStatistic(items_base=frozenset({'mineral water', 'chocolate'}), items_add=frozenset({'spaghetti'}), confidence=0.3012658227848101, lift=1.7303177157035687), OrderedStatistic(items_base=frozenset({'spaghetti', 'chocolate'}), items_add=frozenset({'mineral water'}), confidence=0.40476190476190477, lift=1.6980531586236285), OrderedStatistic(items_base=frozenset({'mineral water', 'spaghetti'}), items_add=frozenset({'chocolate'}), confidence=0.265625, lift=1.621198637103336)]), RelationRecord(items=frozenset({'eggs', 'ground beef', 'mineral water'}), support=0.010131982402346354, ordered_statistics=[OrderedStatistic(items_base=frozenset({'ground beef'}), items_add=frozenset({'eggs', 'mineral water'}), confidence=0.10312075983717775, lift=2.0248921977452103), OrderedStatistic(items_base=frozenset({'eggs', 'ground beef'}), items_add=frozenset({'mineral water'}), confidence=0.5066666666666667, lift=2.125563012677107), OrderedStatistic(items_base=frozenset({'eggs', 'mineral water'}), items_add=frozenset({'ground beef'}), confidence=0.19895287958115182, lift=2.02489219774521), OrderedStatistic(items_base=frozenset({'ground beef', 'mineral water'}), items_add=frozenset({'eggs'}), confidence=0.247557003257329, lift=1.3775408615973477)]), RelationRecord(items=frozenset({'eggs', 'mineral water', 'milk'}), support=0.013064924676709772, ordered_statistics=[OrderedStatistic(items_base=frozenset({'milk'}), items_add=frozenset({'eggs', 'mineral water'}), confidence=0.10082304526748971, lift=1.9797739857367547), OrderedStatistic(items_base=frozenset({'eggs', 'milk'}), items_add=frozenset({'mineral water'}), confidence=0.42424242424242425, lift=1.7797776421937497), OrderedStatistic(items_base=frozenset({'eggs', 'mineral water'}), items_add=frozenset({'milk'}), confidence=0.25654450261780104, lift=1.979773985736755), OrderedStatistic(items_base=frozenset({'mineral water', 'milk'}), items_add=frozenset({'eggs'}), confidence=0.27222222222222225, lift=1.514791460600066)]), RelationRecord(items=frozenset({'eggs', 'mineral water', 'spaghetti'}), support=0.014264764698040262, ordered_statistics=[OrderedStatistic(items_base=frozenset({'eggs', 'mineral water'}), items_add=frozenset({'spaghetti'}), confidence=0.2801047120418848, lift=1.608779054384516), OrderedStatistic(items_base=frozenset({'eggs', 'spaghetti'}), items_add=frozenset({'mineral water'}), confidence=0.3905109489051095, lift=1.6382676888910663), OrderedStatistic(items_base=frozenset({'mineral water', 'spaghetti'}), items_add=frozenset({'eggs'}), confidence=0.23883928571428573, lift=1.3290307731030098)]), RelationRecord(items=frozenset({'mineral water', 'french fries', 'spaghetti'}), support=0.010131982402346354, ordered_statistics=[OrderedStatistic(items_base=frozenset({'mineral water', 'french fries'}), items_add=frozenset({'spaghetti'}), confidence=0.30039525691699603, lift=1.7253176279742628), OrderedStatistic(items_base=frozenset({'spaghetti', 'french fries'}), items_add=frozenset({'mineral water'}), confidence=0.36714975845410625, lift=1.54026305266457), OrderedStatistic(items_base=frozenset({'mineral water', 'spaghetti'}), items_add=frozenset({'french fries'}), confidence=0.16964285714285715, lift=0.9925827390238467)]), RelationRecord(items=frozenset({'mineral water', 'milk', 'frozen vegetables'}), support=0.011065191307825623, ordered_statistics=[OrderedStatistic(items_base=frozenset({'frozen vegetables'}), items_add=frozenset({'mineral water', 'milk'}), confidence=0.11608391608391608, lift=2.4187373737373736), OrderedStatistic(items_base=frozenset({'milk', 'frozen vegetables'}), items_add=frozenset({'mineral water'}), confidence=0.46892655367231634, lift=1.9672360621342533), OrderedStatistic(items_base=frozenset({'mineral water', 'frozen vegetables'}), items_add=frozenset({'milk'}), confidence=0.3097014925373134, lift=2.3899906332534853), OrderedStatistic(items_base=frozenset({'mineral water', 'milk'}), items_add=frozenset({'frozen vegetables'}), confidence=0.23055555555555557, lift=2.418737373737374)]), RelationRecord(items=frozenset({'mineral water', 'spaghetti', 'frozen vegetables'}), support=0.011998400213304892, ordered_statistics=[OrderedStatistic(items_base=frozenset({'frozen vegetables'}), items_add=frozenset({'mineral water', 'spaghetti'}), confidence=0.12587412587412586, lift=2.1075487012987013), OrderedStatistic(items_base=frozenset({'mineral water', 'frozen vegetables'}), items_add=frozenset({'spaghetti'}), confidence=0.33582089552238803, lift=1.9287844849260587), OrderedStatistic(items_base=frozenset({'spaghetti', 'frozen vegetables'}), items_add=frozenset({'mineral water'}), confidence=0.43062200956937796, lift=1.806541215760573), OrderedStatistic(items_base=frozenset({'mineral water', 'spaghetti'}), items_add=frozenset({'frozen vegetables'}), confidence=0.20089285714285715, lift=2.1075487012987013)]), RelationRecord(items=frozenset({'ground beef', 'mineral water', 'milk'}), support=0.011065191307825623, ordered_statistics=[OrderedStatistic(items_base=frozenset({'ground beef'}), items_add=frozenset({'mineral water', 'milk'}), confidence=0.11261872455902307, lift=2.3465362581034226), OrderedStatistic(items_base=frozenset({'ground beef', 'milk'}), items_add=frozenset({'mineral water'}), confidence=0.503030303030303, lift=2.1103077757440176), OrderedStatistic(items_base=frozenset({'ground beef', 'mineral water'}), items_add=frozenset({'milk'}), confidence=0.2703583061889251, lift=2.0863761879867564), OrderedStatistic(items_base=frozenset({'mineral water', 'milk'}), items_add=frozenset({'ground beef'}), confidence=0.23055555555555557, lift=2.3465362581034226)]), RelationRecord(items=frozenset({'ground beef', 'mineral water', 'spaghetti'}), support=0.017064391414478068, ordered_statistics=[OrderedStatistic(items_base=frozenset({'ground beef'}), items_add=frozenset({'mineral water', 'spaghetti'}), confidence=0.17367706919945725, lift=2.90792789300252), OrderedStatistic(items_base=frozenset({'ground beef', 'mineral water'}), items_add=frozenset({'spaghetti'}), confidence=0.41693811074918563, lift=2.3946805273580716), OrderedStatistic(items_base=frozenset({'ground beef', 'spaghetti'}), items_add=frozenset({'mineral water'}), confidence=0.4353741496598639, lift=1.8264773470909614), OrderedStatistic(items_base=frozenset({'mineral water', 'spaghetti'}), items_add=frozenset({'ground beef'}), confidence=0.2857142857142857, lift=2.90792789300252)]), RelationRecord(items=frozenset({'mineral water', 'milk', 'spaghetti'}), support=0.01573123583522197, ordered_statistics=[OrderedStatistic(items_base=frozenset({'milk'}), items_add=frozenset({'mineral water', 'spaghetti'}), confidence=0.12139917695473253, lift=2.0326232730746625), OrderedStatistic(items_base=frozenset({'mineral water', 'milk'}), items_add=frozenset({'spaghetti'}), confidence=0.3277777777777778, lift=1.882588905904373), OrderedStatistic(items_base=frozenset({'spaghetti', 'milk'}), items_add=frozenset({'mineral water'}), confidence=0.44360902255639095, lift=1.8610242048073202), OrderedStatistic(items_base=frozenset({'mineral water', 'spaghetti'}), items_add=frozenset({'milk'}), confidence=0.26339285714285715, lift=2.032623273074662)]), RelationRecord(items=frozenset({'mineral water', 'olive oil', 'spaghetti'}), support=0.010265297960271964, ordered_statistics=[OrderedStatistic(items_base=frozenset({'olive oil'}), items_add=frozenset({'mineral water', 'spaghetti'}), confidence=0.15587044534412955, lift=2.6097861842105265), OrderedStatistic(items_base=frozenset({'mineral water', 'olive oil'}), items_add=frozenset({'spaghetti'}), confidence=0.3719806763285024, lift=2.13646788142427), OrderedStatistic(items_base=frozenset({'mineral water', 'spaghetti'}), items_add=frozenset({'olive oil'}), confidence=0.171875, lift=2.6097861842105265), OrderedStatistic(items_base=frozenset({'spaghetti', 'olive oil'}), items_add=frozenset({'mineral water'}), confidence=0.4476744186046512, lift=1.8780793142916603)]), RelationRecord(items=frozenset({'mineral water', 'pancakes', 'spaghetti'}), support=0.011465137981602452, ordered_statistics=[OrderedStatistic(items_base=frozenset({'pancakes'}), items_add=frozenset({'mineral water', 'spaghetti'}), confidence=0.12061711079943899, lift=2.0195289020236427), OrderedStatistic(items_base=frozenset({'mineral water', 'pancakes'}), items_add=frozenset({'spaghetti'}), confidence=0.33992094861660077, lift=1.9523331053392974), OrderedStatistic(items_base=frozenset({'mineral water', 'spaghetti'}), items_add=frozenset({'pancakes'}), confidence=0.1919642857142857, lift=2.019528902023642), OrderedStatistic(items_base=frozenset({'spaghetti', 'pancakes'}), items_add=frozenset({'mineral water'}), confidence=0.455026455026455, lift=1.908922505119373)])]\n"
     ]
    }
   ],
   "source": [
    "ar = apyori.apriori(record, min_support = 0.01, min_confidence = 0.1)\n",
    "a_results = list(ar)\n",
    "print(a_results)\n",
    "for item in a_results:\n",
    "    pair = item[0] \n",
    "    items = [x for x in pair]\n",
    "    print(\"关联法则: \" + items[0] + \" => \" + items[1])\n",
    "    print(\"支持度: \" + str(item[1]))\n",
    "    print(\"置信度: \" + str(item[2][0][2]))\n",
    "    print(\"提升度: \" + str(item[2][0][3]))\n",
    "    print(\"------------------------\")"
   ]
  },
  {
   "cell_type": "code",
   "execution_count": 8,
   "metadata": {},
   "outputs": [
    {
     "ename": "SyntaxError",
     "evalue": "invalid syntax (<ipython-input-8-e0942f31f149>, line 9)",
     "output_type": "error",
     "traceback": [
      "\u001b[0;36m  File \u001b[0;32m\"<ipython-input-8-e0942f31f149>\"\u001b[0;36m, line \u001b[0;32m9\u001b[0m\n\u001b[0;31m    print(myTree)\u001b[0m\n\u001b[0m        ^\u001b[0m\n\u001b[0;31mSyntaxError\u001b[0m\u001b[0;31m:\u001b[0m invalid syntax\n"
     ]
    }
   ],
   "source": [
    "myTree = ['a',   #root\n",
    "      ['b',  #left subtree\n",
    "       ['d', [], []],\n",
    "       ['e', [], []] ],\n",
    "      ['c',  #right subtree\n",
    "       ['f', [], []],\n",
    "       [] ]\n",
    "\n",
    "print(myTree)"
   ]
  }
 ],
 "metadata": {
  "kernelspec": {
   "display_name": "Python 3",
   "language": "python",
   "name": "python3"
  },
  "language_info": {
   "codemirror_mode": {
    "name": "ipython",
    "version": 3
   },
   "file_extension": ".py",
   "mimetype": "text/x-python",
   "name": "python",
   "nbconvert_exporter": "python",
   "pygments_lexer": "ipython3",
   "version": "3.7.6"
  }
 },
 "nbformat": 4,
 "nbformat_minor": 4
}
