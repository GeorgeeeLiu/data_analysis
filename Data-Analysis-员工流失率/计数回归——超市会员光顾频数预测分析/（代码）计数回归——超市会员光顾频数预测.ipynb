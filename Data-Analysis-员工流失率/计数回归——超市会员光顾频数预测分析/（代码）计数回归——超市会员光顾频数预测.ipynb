{
 "cells": [
  {
   "cell_type": "markdown",
   "metadata": {},
   "source": [
    "# 读取数据"
   ]
  },
  {
   "cell_type": "code",
   "execution_count": 3,
   "metadata": {},
   "outputs": [
    {
     "data": {
      "text/html": [
       "<div>\n",
       "<style scoped>\n",
       "    .dataframe tbody tr th:only-of-type {\n",
       "        vertical-align: middle;\n",
       "    }\n",
       "\n",
       "    .dataframe tbody tr th {\n",
       "        vertical-align: top;\n",
       "    }\n",
       "\n",
       "    .dataframe thead th {\n",
       "        text-align: right;\n",
       "    }\n",
       "</style>\n",
       "<table border=\"1\" class=\"dataframe\">\n",
       "  <thead>\n",
       "    <tr style=\"text-align: right;\">\n",
       "      <th></th>\n",
       "      <th>exp3</th>\n",
       "      <th>exp2</th>\n",
       "      <th>exp1</th>\n",
       "      <th>freq3</th>\n",
       "      <th>freq2</th>\n",
       "      <th>freq1</th>\n",
       "      <th>freq0</th>\n",
       "    </tr>\n",
       "  </thead>\n",
       "  <tbody>\n",
       "    <tr>\n",
       "      <th>0</th>\n",
       "      <td>45.4</td>\n",
       "      <td>0.0</td>\n",
       "      <td>0.0</td>\n",
       "      <td>1</td>\n",
       "      <td>0</td>\n",
       "      <td>0</td>\n",
       "      <td>0</td>\n",
       "    </tr>\n",
       "    <tr>\n",
       "      <th>1</th>\n",
       "      <td>79.6</td>\n",
       "      <td>9.8</td>\n",
       "      <td>0.0</td>\n",
       "      <td>2</td>\n",
       "      <td>2</td>\n",
       "      <td>0</td>\n",
       "      <td>3</td>\n",
       "    </tr>\n",
       "    <tr>\n",
       "      <th>2</th>\n",
       "      <td>0.0</td>\n",
       "      <td>0.0</td>\n",
       "      <td>0.0</td>\n",
       "      <td>0</td>\n",
       "      <td>0</td>\n",
       "      <td>0</td>\n",
       "      <td>0</td>\n",
       "    </tr>\n",
       "    <tr>\n",
       "      <th>3</th>\n",
       "      <td>0.0</td>\n",
       "      <td>0.0</td>\n",
       "      <td>0.0</td>\n",
       "      <td>0</td>\n",
       "      <td>0</td>\n",
       "      <td>0</td>\n",
       "      <td>0</td>\n",
       "    </tr>\n",
       "    <tr>\n",
       "      <th>4</th>\n",
       "      <td>2.1</td>\n",
       "      <td>0.0</td>\n",
       "      <td>0.0</td>\n",
       "      <td>1</td>\n",
       "      <td>0</td>\n",
       "      <td>0</td>\n",
       "      <td>2</td>\n",
       "    </tr>\n",
       "  </tbody>\n",
       "</table>\n",
       "</div>"
      ],
      "text/plain": [
       "   exp3  exp2  exp1  freq3  freq2  freq1  freq0\n",
       "0  45.4   0.0   0.0      1      0      0      0\n",
       "1  79.6   9.8   0.0      2      2      0      3\n",
       "2   0.0   0.0   0.0      0      0      0      0\n",
       "3   0.0   0.0   0.0      0      0      0      0\n",
       "4   2.1   0.0   0.0      1      0      0      2"
      ]
     },
     "execution_count": 3,
     "metadata": {},
     "output_type": "execute_result"
    }
   ],
   "source": [
    "import numpy as np  \n",
    "import pandas as pd  \n",
    "path = r'D:\\Documents\\python_documents\\Practical Business Data Analysis\\case\\CH6\\crm.csv'\n",
    "data = pd.read_csv(path)  \n",
    "data.head()"
   ]
  },
  {
   "cell_type": "markdown",
   "metadata": {},
   "source": [
    "# 描述性分析"
   ]
  },
  {
   "cell_type": "code",
   "execution_count": 50,
   "metadata": {
    "scrolled": true
   },
   "outputs": [
    {
     "data": {
      "text/html": [
       "<div>\n",
       "<style scoped>\n",
       "    .dataframe tbody tr th:only-of-type {\n",
       "        vertical-align: middle;\n",
       "    }\n",
       "\n",
       "    .dataframe tbody tr th {\n",
       "        vertical-align: top;\n",
       "    }\n",
       "\n",
       "    .dataframe thead th {\n",
       "        text-align: right;\n",
       "    }\n",
       "</style>\n",
       "<table border=\"1\" class=\"dataframe\">\n",
       "  <thead>\n",
       "    <tr style=\"text-align: right;\">\n",
       "      <th></th>\n",
       "      <th>exp3</th>\n",
       "      <th>exp2</th>\n",
       "      <th>exp1</th>\n",
       "      <th>freq3</th>\n",
       "      <th>freq2</th>\n",
       "      <th>freq1</th>\n",
       "      <th>freq0</th>\n",
       "    </tr>\n",
       "  </thead>\n",
       "  <tbody>\n",
       "    <tr>\n",
       "      <th>count</th>\n",
       "      <td>3995.000</td>\n",
       "      <td>3995.000</td>\n",
       "      <td>3995.000</td>\n",
       "      <td>3995.000</td>\n",
       "      <td>3995.000</td>\n",
       "      <td>3995.000</td>\n",
       "      <td>3995.000</td>\n",
       "    </tr>\n",
       "    <tr>\n",
       "      <th>mean</th>\n",
       "      <td>16.483</td>\n",
       "      <td>9.241</td>\n",
       "      <td>7.917</td>\n",
       "      <td>1.161</td>\n",
       "      <td>1.177</td>\n",
       "      <td>0.844</td>\n",
       "      <td>0.686</td>\n",
       "    </tr>\n",
       "    <tr>\n",
       "      <th>std</th>\n",
       "      <td>24.919</td>\n",
       "      <td>16.621</td>\n",
       "      <td>16.151</td>\n",
       "      <td>1.713</td>\n",
       "      <td>1.738</td>\n",
       "      <td>1.403</td>\n",
       "      <td>1.225</td>\n",
       "    </tr>\n",
       "    <tr>\n",
       "      <th>min</th>\n",
       "      <td>0.000</td>\n",
       "      <td>0.000</td>\n",
       "      <td>0.000</td>\n",
       "      <td>0.000</td>\n",
       "      <td>0.000</td>\n",
       "      <td>0.000</td>\n",
       "      <td>0.000</td>\n",
       "    </tr>\n",
       "    <tr>\n",
       "      <th>25%</th>\n",
       "      <td>0.000</td>\n",
       "      <td>0.000</td>\n",
       "      <td>0.000</td>\n",
       "      <td>0.000</td>\n",
       "      <td>0.000</td>\n",
       "      <td>0.000</td>\n",
       "      <td>0.000</td>\n",
       "    </tr>\n",
       "    <tr>\n",
       "      <th>50%</th>\n",
       "      <td>0.000</td>\n",
       "      <td>0.000</td>\n",
       "      <td>0.000</td>\n",
       "      <td>0.000</td>\n",
       "      <td>0.000</td>\n",
       "      <td>0.000</td>\n",
       "      <td>0.000</td>\n",
       "    </tr>\n",
       "    <tr>\n",
       "      <th>75%</th>\n",
       "      <td>27.250</td>\n",
       "      <td>12.100</td>\n",
       "      <td>8.950</td>\n",
       "      <td>2.000</td>\n",
       "      <td>2.000</td>\n",
       "      <td>1.000</td>\n",
       "      <td>1.000</td>\n",
       "    </tr>\n",
       "    <tr>\n",
       "      <th>max</th>\n",
       "      <td>184.900</td>\n",
       "      <td>159.100</td>\n",
       "      <td>151.000</td>\n",
       "      <td>14.000</td>\n",
       "      <td>12.000</td>\n",
       "      <td>13.000</td>\n",
       "      <td>11.000</td>\n",
       "    </tr>\n",
       "  </tbody>\n",
       "</table>\n",
       "</div>"
      ],
      "text/plain": [
       "           exp3      exp2      exp1     freq3     freq2     freq1     freq0\n",
       "count  3995.000  3995.000  3995.000  3995.000  3995.000  3995.000  3995.000\n",
       "mean     16.483     9.241     7.917     1.161     1.177     0.844     0.686\n",
       "std      24.919    16.621    16.151     1.713     1.738     1.403     1.225\n",
       "min       0.000     0.000     0.000     0.000     0.000     0.000     0.000\n",
       "25%       0.000     0.000     0.000     0.000     0.000     0.000     0.000\n",
       "50%       0.000     0.000     0.000     0.000     0.000     0.000     0.000\n",
       "75%      27.250    12.100     8.950     2.000     2.000     1.000     1.000\n",
       "max     184.900   159.100   151.000    14.000    12.000    13.000    11.000"
      ]
     },
     "execution_count": 50,
     "metadata": {},
     "output_type": "execute_result"
    }
   ],
   "source": [
    "round(data.describe(), 3)"
   ]
  },
  {
   "cell_type": "code",
   "execution_count": 58,
   "metadata": {},
   "outputs": [
    {
     "name": "stdout",
     "output_type": "stream",
     "text": [
      "<class 'pandas.core.frame.DataFrame'>\n",
      "RangeIndex: 3995 entries, 0 to 3994\n",
      "Data columns (total 7 columns):\n",
      "exp3     3995 non-null float64\n",
      "exp2     3995 non-null float64\n",
      "exp1     3995 non-null float64\n",
      "freq3    3995 non-null int64\n",
      "freq2    3995 non-null int64\n",
      "freq1    3995 non-null int64\n",
      "freq0    3995 non-null int64\n",
      "dtypes: float64(3), int64(4)\n",
      "memory usage: 218.6 KB\n"
     ]
    }
   ],
   "source": [
    "data.info()"
   ]
  },
  {
   "cell_type": "markdown",
   "metadata": {},
   "source": [
    "## 第-1月的光顾频数箱线图"
   ]
  },
  {
   "cell_type": "code",
   "execution_count": 4,
   "metadata": {},
   "outputs": [
    {
     "data": {
      "image/png": "[encoded data removed]",
      "text/plain": [
       "<Figure size 432x288 with 1 Axes>"
      ]
     },
     "metadata": {},
     "output_type": "display_data"
    }
   ],
   "source": [
    "import matplotlib.pyplot as plt\n",
    "import seaborn as sns\n",
    "from matplotlib.font_manager import FontProperties   #显示中文，并指定字体\n",
    "myfont=FontProperties(fname=r'C:/Windows/Fonts/simhei.ttf',size=14)\n",
    "sns.set(font=myfont.get_name())\n",
    "plt.rcParams['axes.unicode_minus']=False             #显示负号\n",
    "\n",
    "\n",
    "ax = sns.boxplot(x=\"freq0\", y=\"freq1\",\n",
    "                  data=data, linewidth=2.5)\n",
    "plt.rcParams[\"figure.figsize\"] = (12, 9)\n",
    "\n",
    "plt.xticks(fontsize=16)  #旋转x轴刻度\n",
    "plt.yticks(fontsize=16) \n",
    "plt.xlabel('第0月光顾超市的频数', fontsize=16)\n",
    "plt.ylabel('第-1月光顾超市的频数',fontsize=16)\n",
    "plt.savefig('（1）计数回归：第-1月光顾超市频数的箱线图.png',dpi=600)      #保存png格式图片\n",
    "plt.show()"
   ]
  },
  {
   "cell_type": "markdown",
   "metadata": {},
   "source": [
    "## 第-1月消费金额的箱线图"
   ]
  },
  {
   "cell_type": "code",
   "execution_count": 5,
   "metadata": {},
   "outputs": [
    {
     "data": {
      "image/png": "[encoded data removed]",
      "text/plain": [
       "<Figure size 864x648 with 1 Axes>"
      ]
     },
     "metadata": {},
     "output_type": "display_data"
    }
   ],
   "source": [
    "import matplotlib.pyplot as plt\n",
    "import seaborn as sns\n",
    "from matplotlib.font_manager import FontProperties   #显示中文，并指定字体\n",
    "myfont=FontProperties(fname=r'C:/Windows/Fonts/simhei.ttf',size=14)\n",
    "sns.set(font=myfont.get_name())\n",
    "plt.rcParams['axes.unicode_minus']=False             #显示负号\n",
    "\n",
    "\n",
    "ax = sns.boxplot(x=\"freq0\", y=\"exp1\",\n",
    "                  data=data, linewidth=2.5)\n",
    "plt.rcParams[\"figure.figsize\"] = (12, 9)\n",
    "\n",
    "plt.xticks(fontsize=16)  #旋转x轴刻度\n",
    "plt.yticks(fontsize=16) \n",
    "plt.xlabel('第0月光顾超市的频数', fontsize=16)\n",
    "plt.ylabel('第-1月消费金额',fontsize=16)\n",
    "plt.savefig('（2）计数回归：第-1月消费金额的箱线图.png',dpi=600)      #保存png格式图片\n",
    "plt.show()"
   ]
  },
  {
   "cell_type": "markdown",
   "metadata": {},
   "source": [
    "## 展示所有自变量的箱线图"
   ]
  },
  {
   "cell_type": "code",
   "execution_count": 51,
   "metadata": {},
   "outputs": [
    {
     "data": {
      "image/png": "[encoded data removed]",
      "text/plain": [
       "<Figure size 864x576 with 6 Axes>"
      ]
     },
     "metadata": {},
     "output_type": "display_data"
    }
   ],
   "source": [
    "import numpy as np\n",
    "import pandas as pd\n",
    "import matplotlib.pyplot as plt\n",
    "import seaborn as sns\n",
    "%matplotlib inline\n",
    "sns.set()                                            #设置seaborn默认格式\n",
    "    \n",
    "from matplotlib.font_manager import FontProperties   #显示中文，并指定字体\n",
    "myfont=FontProperties(fname=r'C:/Windows/Fonts/simhei.ttf',size=14)\n",
    "sns.set(font=myfont.get_name())                      #seaborn解决中文乱码的问题\n",
    "plt.rcParams['axes.unicode_minus']=False             #显示负号\n",
    "\n",
    "plt.rcParams['figure.figsize'] = (12, 8)             #设定图片大小\n",
    "f = plt.figure()                                     #确定画布\n",
    "\n",
    "f.add_subplot(2,3,1)\n",
    "sns.boxplot(x=\"freq0\", y=\"freq1\",\n",
    "                  data=data, linewidth=2.5)\n",
    "plt.xticks(fontsize=16)       \n",
    "plt.yticks(fontsize=16) \n",
    "plt.xlabel('第0月光顾超市的频数', fontsize=16)\n",
    "plt.ylabel('第-1月光顾超市的频数',fontsize=16)\n",
    "plt.title(\"（a）\", fontsize=20)                        #设置子图标题\n",
    "\n",
    "f.add_subplot(2,3,2)\n",
    "sns.boxplot(x=\"freq0\", y=\"freq2\",\n",
    "                  data=data, linewidth=2.5)\n",
    "plt.xticks(fontsize=16)       \n",
    "plt.yticks(fontsize=16) \n",
    "plt.xlabel('第0月光顾超市的频数', fontsize=16)\n",
    "plt.ylabel('第-2月光顾超市的频数',fontsize=16)\n",
    "plt.title(\"(b)\", fontsize=20)                        #设置子图标题\n",
    "\n",
    "f.add_subplot(2,3,3)\n",
    "sns.boxplot(x='freq0', y='freq3',\n",
    "                  data=data, linewidth=2.5)\n",
    "plt.xticks(fontsize=16)       \n",
    "plt.yticks(fontsize=16) \n",
    "plt.xlabel('第0月光顾超市的频数', fontsize=16)\n",
    "plt.ylabel('第-3月光顾超市的频数',fontsize=16)\n",
    "plt.title(\"(c)\", fontsize=20)                         #设置子图标题\n",
    "\n",
    "f.add_subplot(2,3,4)\n",
    "sns.boxplot(x=\"freq0\", y=\"exp1\",\n",
    "                  data=data, linewidth=2.5)\n",
    "plt.xticks(fontsize=16)       \n",
    "plt.yticks(fontsize=16) \n",
    "plt.xlabel('第0月光顾超市的频数', fontsize=16)\n",
    "plt.ylabel('第-1月的消费金额',fontsize=16)\n",
    "plt.title(\"(d)\", fontsize=20)                         #设置子图标题\n",
    "\n",
    "f.add_subplot(2,3,5)\n",
    "sns.boxplot(x=\"freq0\", y=\"exp2\",\n",
    "                  data=data, linewidth=2.5)\n",
    "plt.xticks(fontsize=16)       \n",
    "plt.yticks(fontsize=16) \n",
    "plt.xlabel('第0月光顾超市的频数', fontsize=16)\n",
    "plt.ylabel('第-2月的消费金额',fontsize=16)\n",
    "plt.title(\"(e)\", fontsize=20)                         #设置子图标题\n",
    "\n",
    "f.add_subplot(2,3,6)\n",
    "sns.boxplot(x=\"freq0\", y=\"exp3\",\n",
    "                  data=data, linewidth=2.5)\n",
    "plt.xticks(fontsize=16)       \n",
    "plt.yticks(fontsize=16) \n",
    "plt.xlabel('第0月光顾超市的频数', fontsize=16)\n",
    "plt.ylabel('第-3月的消费金额',fontsize=16)\n",
    "plt.title(\"(f)\", fontsize=20)                         #设置子图标题\n",
    "\n",
    "#plt.subplots_adjust(wspace=0.3)                     #调整两幅子图的间距\n",
    "plt.tight_layout()\n",
    "plt.savefig('（3）计数回归：6幅箱线图.png',dpi=600) #保存png格式图片"
   ]
  },
  {
   "cell_type": "code",
   "execution_count": 57,
   "metadata": {},
   "outputs": [
    {
     "data": {
      "text/html": [
       "<div>\n",
       "<style scoped>\n",
       "    .dataframe tbody tr th:only-of-type {\n",
       "        vertical-align: middle;\n",
       "    }\n",
       "\n",
       "    .dataframe tbody tr th {\n",
       "        vertical-align: top;\n",
       "    }\n",
       "\n",
       "    .dataframe thead th {\n",
       "        text-align: right;\n",
       "    }\n",
       "</style>\n",
       "<table border=\"1\" class=\"dataframe\">\n",
       "  <thead>\n",
       "    <tr style=\"text-align: right;\">\n",
       "      <th></th>\n",
       "      <th>exp3</th>\n",
       "      <th>exp2</th>\n",
       "      <th>exp1</th>\n",
       "      <th>freq3</th>\n",
       "      <th>freq2</th>\n",
       "      <th>freq1</th>\n",
       "      <th>freq0</th>\n",
       "    </tr>\n",
       "  </thead>\n",
       "  <tbody>\n",
       "    <tr>\n",
       "      <th>2752</th>\n",
       "      <td>82.8</td>\n",
       "      <td>29.2</td>\n",
       "      <td>0.9</td>\n",
       "      <td>7</td>\n",
       "      <td>6</td>\n",
       "      <td>7</td>\n",
       "      <td>9</td>\n",
       "    </tr>\n",
       "  </tbody>\n",
       "</table>\n",
       "</div>"
      ],
      "text/plain": [
       "      exp3  exp2  exp1  freq3  freq2  freq1  freq0\n",
       "2752  82.8  29.2   0.9      7      6      7      9"
      ]
     },
     "execution_count": 57,
     "metadata": {},
     "output_type": "execute_result"
    }
   ],
   "source": [
    "data[data['freq0']==9]    #图（d）一条线代表只有一个样本"
   ]
  },
  {
   "cell_type": "code",
   "execution_count": 54,
   "metadata": {},
   "outputs": [
    {
     "data": {
      "text/plain": [
       "2752    0.9\n",
       "Name: exp1, dtype: float64"
      ]
     },
     "execution_count": 54,
     "metadata": {},
     "output_type": "execute_result"
    }
   ],
   "source": [
    "data[data['freq0']==9]['exp1']"
   ]
  },
  {
   "cell_type": "markdown",
   "metadata": {},
   "source": [
    "# 参数估计"
   ]
  },
  {
   "cell_type": "markdown",
   "metadata": {},
   "source": [
    "##  先以空模型：log{$\\lambda$(x)} = $\\beta_0$ 进行泊松回归"
   ]
  },
  {
   "cell_type": "code",
   "execution_count": 13,
   "metadata": {},
   "outputs": [
    {
     "name": "stdout",
     "output_type": "stream",
     "text": [
      "                 Generalized Linear Model Regression Results                  \n",
      "==============================================================================\n",
      "Dep. Variable:                  freq0   No. Observations:                 3995\n",
      "Model:                            GLM   Df Residuals:                     3994\n",
      "Model Family:                 Poisson   Df Model:                            0\n",
      "Link Function:                    log   Scale:                          1.0000\n",
      "Method:                          IRLS   Log-Likelihood:                -5099.8\n",
      "Date:                Wed, 17 Jul 2019   Deviance:                       6755.7\n",
      "Time:                        13:48:24   Pearson chi2:                 8.74e+03\n",
      "No. Iterations:                     5   Covariance Type:             nonrobust\n",
      "==============================================================================\n",
      "                 coef    std err          z      P>|z|      [0.025      0.975]\n",
      "------------------------------------------------------------------------------\n",
      "Intercept     -0.3767      0.019    -19.723      0.000      -0.414      -0.339\n",
      "==============================================================================\n"
     ]
    }
   ],
   "source": [
    "import statsmodels.formula.api as smf \n",
    "import statsmodels.api as sm\n",
    "\n",
    "glm_1 = smf.glm('freq0~1', data, family=sm.families.Poisson())\n",
    "res_1 = glm_1.fit()\n",
    "print(res_1.summary())"
   ]
  },
  {
   "cell_type": "markdown",
   "metadata": {},
   "source": [
    "## 再以全模型进行泊松回归： log{$\\lambda$(x)} = $\\beta_0$ + $\\beta_1$  x freq1 + $\\beta_2$ x freq2 + $\\beta_3$ x freq3 + $\\beta_4$ x exp1 + $\\beta_5$ x exp2 + $\\beta_6$ x exp3 + $\\epsilon$"
   ]
  },
  {
   "cell_type": "code",
   "execution_count": 4,
   "metadata": {},
   "outputs": [
    {
     "name": "stdout",
     "output_type": "stream",
     "text": [
      "                 Generalized Linear Model Regression Results                  \n",
      "==============================================================================\n",
      "Dep. Variable:                  freq0   No. Observations:                 3995\n",
      "Model:                            GLM   Df Residuals:                     3988\n",
      "Model Family:                 Poisson   Df Model:                            6\n",
      "Link Function:                    log   Scale:                          1.0000\n",
      "Method:                          IRLS   Log-Likelihood:                -4026.8\n",
      "Date:                Wed, 17 Jul 2019   Deviance:                       4609.7\n",
      "Time:                        19:04:36   Pearson chi2:                 5.20e+03\n",
      "No. Iterations:                     6   Covariance Type:             nonrobust\n",
      "==============================================================================\n",
      "                 coef    std err          z      P>|z|      [0.025      0.975]\n",
      "------------------------------------------------------------------------------\n",
      "Intercept     -1.1382      0.031    -37.288      0.000      -1.198      -1.078\n",
      "freq1          0.1792      0.013     13.604      0.000       0.153       0.205\n",
      "freq2          0.0733      0.011      6.892      0.000       0.052       0.094\n",
      "freq3          0.0915      0.010      8.758      0.000       0.071       0.112\n",
      "exp1           0.0069      0.001      7.604      0.000       0.005       0.009\n",
      "exp2           0.0051      0.001      5.245      0.000       0.003       0.007\n",
      "exp3           0.0032      0.001      3.647      0.000       0.001       0.005\n",
      "==============================================================================\n"
     ]
    }
   ],
   "source": [
    "import statsmodels.formula.api as smf \n",
    "import statsmodels.api as sm\n",
    "\n",
    "glm = smf.glm('freq0~freq1 + freq2 + freq3 + exp1 + exp2 + exp3', data, family=sm.families.Poisson())\n",
    "res_quan = glm.fit()\n",
    "print(res_quan.summary())"
   ]
  },
  {
   "cell_type": "markdown",
   "metadata": {},
   "source": [
    "## 通过似然比检验一组因素的整体显著性:      "
   ]
  },
  {
   "cell_type": "markdown",
   "metadata": {},
   "source": [
    "### 空模型与全模型的Deviance项的差是2146，而自由度为6（全模型与空模型的Df Model之差）。接着在excel用如下公式计算“=CHIDIST(2146, 6)”，得到P值为0。此说明模型整体高度显著，也就意味着我们所考虑的六个解释性变量中，至少有一个与因变量显著相关。"
   ]
  },
  {
   "cell_type": "markdown",
   "metadata": {},
   "source": [
    "## Z检验讨论各个自变量的显著性"
   ]
  },
  {
   "cell_type": "markdown",
   "metadata": {},
   "source": [
    "### 由全模型的possion回归分析结果可知，在0.001的显著性水平下，所有因素都高度显著。"
   ]
  },
  {
   "cell_type": "markdown",
   "metadata": {},
   "source": [
    "# 模型选择"
   ]
  },
  {
   "cell_type": "code",
   "execution_count": 16,
   "metadata": {},
   "outputs": [],
   "source": [
    "X = data.drop('freq0', axis=1)\n",
    "Y = data.freq0"
   ]
  },
  {
   "cell_type": "markdown",
   "metadata": {},
   "source": [
    "## AIC变量选择"
   ]
  },
  {
   "cell_type": "code",
   "execution_count": 17,
   "metadata": {
    "collapsed": true
   },
   "outputs": [
    {
     "name": "stderr",
     "output_type": "stream",
     "text": [
      "D:\\Anaconda\\lib\\site-packages\\numpy\\core\\fromnumeric.py:2389: FutureWarning: Method .ptp is deprecated and will be removed in a future version. Use numpy.ptp instead.\n",
      "  return ptp(axis=axis, out=out, **kwargs)\n"
     ]
    },
    {
     "name": "stdout",
     "output_type": "stream",
     "text": [
      "Optimization terminated successfully.\n",
      "         Current function value: 1.121477\n",
      "         Iterations 7\n",
      "Optimization terminated successfully.\n",
      "         Current function value: 1.243650\n",
      "         Iterations 6\n",
      "Optimization terminated successfully.\n",
      "         Current function value: 1.232748\n",
      "         Iterations 6\n",
      "Optimization terminated successfully.\n",
      "         Current function value: 1.113575\n",
      "         Iterations 8\n",
      "Optimization terminated successfully.\n",
      "         Current function value: 1.110148\n",
      "         Iterations 8\n",
      "Optimization terminated successfully.\n",
      "         Current function value: 1.054385\n",
      "         Iterations 10\n",
      "Optimization terminated successfully.\n",
      "         Current function value: 1.106069\n",
      "         Iterations 7\n",
      "Optimization terminated successfully.\n",
      "         Current function value: 1.105584\n",
      "         Iterations 7\n",
      "Optimization terminated successfully.\n",
      "         Current function value: 1.067288\n",
      "         Iterations 7\n",
      "Optimization terminated successfully.\n",
      "         Current function value: 1.060421\n",
      "         Iterations 8\n",
      "Optimization terminated successfully.\n",
      "         Current function value: 1.046236\n",
      "         Iterations 10\n",
      "Optimization terminated successfully.\n",
      "         Current function value: 1.206993\n",
      "         Iterations 6\n",
      "Optimization terminated successfully.\n",
      "         Current function value: 1.102728\n",
      "         Iterations 8\n",
      "Optimization terminated successfully.\n",
      "         Current function value: 1.106244\n",
      "         Iterations 8\n",
      "Optimization terminated successfully.\n",
      "         Current function value: 1.044754\n",
      "         Iterations 10\n",
      "Optimization terminated successfully.\n",
      "         Current function value: 1.093425\n",
      "         Iterations 8\n",
      "Optimization terminated successfully.\n",
      "         Current function value: 1.090397\n",
      "         Iterations 8\n",
      "Optimization terminated successfully.\n",
      "         Current function value: 1.047467\n",
      "         Iterations 10\n",
      "Optimization terminated successfully.\n",
      "         Current function value: 1.074744\n",
      "         Iterations 8\n",
      "Optimization terminated successfully.\n",
      "         Current function value: 1.027506\n",
      "         Iterations 10\n",
      "Optimization terminated successfully.\n",
      "         Current function value: 1.032670\n",
      "         Iterations 10\n",
      "Optimization terminated successfully.\n",
      "         Current function value: 1.092265\n",
      "         Iterations 7\n",
      "Optimization terminated successfully.\n",
      "         Current function value: 1.059250\n",
      "         Iterations 7\n",
      "Optimization terminated successfully.\n",
      "         Current function value: 1.056155\n",
      "         Iterations 8\n",
      "Optimization terminated successfully.\n",
      "         Current function value: 1.037153\n",
      "         Iterations 9\n",
      "Optimization terminated successfully.\n",
      "         Current function value: 1.055260\n",
      "         Iterations 7\n",
      "Optimization terminated successfully.\n",
      "         Current function value: 1.047679\n",
      "         Iterations 8\n",
      "Optimization terminated successfully.\n",
      "         Current function value: 1.039430\n",
      "         Iterations 10\n",
      "Optimization terminated successfully.\n",
      "         Current function value: 1.045235\n",
      "         Iterations 8\n",
      "Optimization terminated successfully.\n",
      "         Current function value: 1.025626\n",
      "         Iterations 10\n",
      "Optimization terminated successfully.\n",
      "         Current function value: 1.028496\n",
      "         Iterations 10\n",
      "Optimization terminated successfully.\n",
      "         Current function value: 1.084525\n",
      "         Iterations 8\n",
      "Optimization terminated successfully.\n",
      "         Current function value: 1.087260\n",
      "         Iterations 8\n",
      "Optimization terminated successfully.\n",
      "         Current function value: 1.038639\n",
      "         Iterations 10\n",
      "Optimization terminated successfully.\n",
      "         Current function value: 1.071057\n",
      "         Iterations 8\n",
      "Optimization terminated successfully.\n",
      "         Current function value: 1.021291\n",
      "         Iterations 10\n",
      "Optimization terminated successfully.\n",
      "         Current function value: 1.028436\n",
      "         Iterations 10\n",
      "Optimization terminated successfully.\n",
      "         Current function value: 1.058281\n",
      "         Iterations 8\n",
      "Optimization terminated successfully.\n",
      "         Current function value: 1.021301\n",
      "         Iterations 10\n",
      "Optimization terminated successfully.\n",
      "         Current function value: 1.024722\n",
      "         Iterations 11\n",
      "Optimization terminated successfully.\n",
      "         Current function value: 1.019743\n",
      "         Iterations 10\n",
      "Optimization terminated successfully.\n",
      "         Current function value: 1.048314\n",
      "         Iterations 7\n",
      "Optimization terminated successfully.\n",
      "         Current function value: 1.044274\n",
      "         Iterations 8\n",
      "Optimization terminated successfully.\n",
      "         Current function value: 1.031181\n",
      "         Iterations 10\n",
      "Optimization terminated successfully.\n",
      "         Current function value: 1.041567\n",
      "         Iterations 8\n",
      "Optimization terminated successfully.\n",
      "         Current function value: 1.019442\n",
      "         Iterations 10\n",
      "Optimization terminated successfully.\n",
      "         Current function value: 1.024047\n",
      "         Iterations 10\n",
      "Optimization terminated successfully.\n",
      "         Current function value: 1.033681\n",
      "         Iterations 8\n",
      "Optimization terminated successfully.\n",
      "         Current function value: 1.019381\n",
      "         Iterations 10\n",
      "Optimization terminated successfully.\n",
      "         Current function value: 1.020597\n",
      "         Iterations 10\n",
      "Optimization terminated successfully.\n",
      "         Current function value: 1.018253\n",
      "         Iterations 10\n",
      "Optimization terminated successfully.\n",
      "         Current function value: 1.055390\n",
      "         Iterations 8\n",
      "Optimization terminated successfully.\n",
      "         Current function value: 1.015644\n",
      "         Iterations 10\n",
      "Optimization terminated successfully.\n",
      "         Current function value: 1.021213\n",
      "         Iterations 10\n",
      "Optimization terminated successfully.\n",
      "         Current function value: 1.015990\n",
      "         Iterations 10\n",
      "Optimization terminated successfully.\n",
      "         Current function value: 1.012721\n",
      "         Iterations 11\n",
      "Optimization terminated successfully.\n",
      "         Current function value: 1.030738\n",
      "         Iterations 8\n",
      "Optimization terminated successfully.\n",
      "         Current function value: 1.013780\n",
      "         Iterations 10\n",
      "Optimization terminated successfully.\n",
      "         Current function value: 1.016935\n",
      "         Iterations 10\n",
      "Optimization terminated successfully.\n",
      "         Current function value: 1.014408\n",
      "         Iterations 10\n",
      "Optimization terminated successfully.\n",
      "         Current function value: 1.011176\n",
      "         Iterations 10\n",
      "Optimization terminated successfully.\n",
      "         Current function value: 1.009571\n",
      "         Iterations 10\n",
      "Optimization terminated successfully.\n",
      "         Current function value: 1.007964\n",
      "         Iterations 10\n"
     ]
    },
    {
     "data": {
      "text/plain": [
       "[(('exp3', 'exp2', 'exp1', 'freq3', 'freq2', 'freq1'), 8067.631341487404),\n",
       " (('exp2', 'exp1', 'freq3', 'freq2', 'freq1'), 8078.470321784951),\n",
       " (('exp3', 'exp1', 'freq3', 'freq2', 'freq1'), 8091.300157786827)]"
      ]
     },
     "execution_count": 17,
     "metadata": {},
     "output_type": "execute_result"
    }
   ],
   "source": [
    "import statsmodels.api as sm\n",
    "import itertools\n",
    "\n",
    "predictorcols = list(X.columns)   #将各个自变量汇成一个列表\n",
    "AICs = {}\n",
    "for k in range(1, len(predictorcols)+1):\n",
    "    #print(k)\n",
    "    for variables in itertools.combinations(predictorcols, k):\n",
    "        #Python itertools模块combinations(iterable, r)方法可以创建一个迭代器，\n",
    "        #返回iterable中所有长度为r的子序列，返回的子序列中的项按输入iterable中的顺序排序。\n",
    "        predictors = X[list(variables)]\n",
    "        predictors2 = sm.add_constant(predictors)\n",
    "        est = sm.Poisson(Y, predictors2)\n",
    "        res = est.fit()\n",
    "        AICs[variables] = res.aic\n",
    "\n",
    "from collections import Counter\n",
    "c = Counter(AICs)   #AICs为字典，则按values来统计，把value视为key出现的次数。注意这是从高到低排列。\n",
    "c.most_common()[:-4:-1]  #出现次数最少的10个元素，对应这里aic最小的3个值。接着倒序排列。"
   ]
  },
  {
   "cell_type": "markdown",
   "metadata": {},
   "source": [
    "### 根据AIC最小的原则，选择了全部变量"
   ]
  },
  {
   "cell_type": "markdown",
   "metadata": {},
   "source": [
    "## BIC变量选择"
   ]
  },
  {
   "cell_type": "code",
   "execution_count": 19,
   "metadata": {
    "collapsed": true
   },
   "outputs": [
    {
     "name": "stderr",
     "output_type": "stream",
     "text": [
      "D:\\Anaconda\\lib\\site-packages\\numpy\\core\\fromnumeric.py:2389: FutureWarning: Method .ptp is deprecated and will be removed in a future version. Use numpy.ptp instead.\n",
      "  return ptp(axis=axis, out=out, **kwargs)\n"
     ]
    },
    {
     "name": "stdout",
     "output_type": "stream",
     "text": [
      "Optimization terminated successfully.\n",
      "         Current function value: 1.121477\n",
      "         Iterations 7\n",
      "Optimization terminated successfully.\n",
      "         Current function value: 1.243650\n",
      "         Iterations 6\n",
      "Optimization terminated successfully.\n",
      "         Current function value: 1.232748\n",
      "         Iterations 6\n",
      "Optimization terminated successfully.\n",
      "         Current function value: 1.113575\n",
      "         Iterations 8\n",
      "Optimization terminated successfully.\n",
      "         Current function value: 1.110148\n",
      "         Iterations 8\n",
      "Optimization terminated successfully.\n",
      "         Current function value: 1.054385\n",
      "         Iterations 10\n",
      "Optimization terminated successfully.\n",
      "         Current function value: 1.106069\n",
      "         Iterations 7\n",
      "Optimization terminated successfully.\n",
      "         Current function value: 1.105584\n",
      "         Iterations 7\n",
      "Optimization terminated successfully.\n",
      "         Current function value: 1.067288\n",
      "         Iterations 7\n",
      "Optimization terminated successfully.\n",
      "         Current function value: 1.060421\n",
      "         Iterations 8\n",
      "Optimization terminated successfully.\n",
      "         Current function value: 1.046236\n",
      "         Iterations 10\n",
      "Optimization terminated successfully.\n",
      "         Current function value: 1.206993\n",
      "         Iterations 6\n",
      "Optimization terminated successfully.\n",
      "         Current function value: 1.102728\n",
      "         Iterations 8\n",
      "Optimization terminated successfully.\n",
      "         Current function value: 1.106244\n",
      "         Iterations 8\n",
      "Optimization terminated successfully.\n",
      "         Current function value: 1.044754\n",
      "         Iterations 10\n",
      "Optimization terminated successfully.\n",
      "         Current function value: 1.093425\n",
      "         Iterations 8\n",
      "Optimization terminated successfully.\n",
      "         Current function value: 1.090397\n",
      "         Iterations 8\n",
      "Optimization terminated successfully.\n",
      "         Current function value: 1.047467\n",
      "         Iterations 10\n",
      "Optimization terminated successfully.\n",
      "         Current function value: 1.074744\n",
      "         Iterations 8\n",
      "Optimization terminated successfully.\n",
      "         Current function value: 1.027506\n",
      "         Iterations 10\n",
      "Optimization terminated successfully.\n",
      "         Current function value: 1.032670\n",
      "         Iterations 10\n",
      "Optimization terminated successfully.\n",
      "         Current function value: 1.092265\n",
      "         Iterations 7\n",
      "Optimization terminated successfully.\n",
      "         Current function value: 1.059250\n",
      "         Iterations 7\n",
      "Optimization terminated successfully.\n",
      "         Current function value: 1.056155\n",
      "         Iterations 8\n",
      "Optimization terminated successfully.\n",
      "         Current function value: 1.037153\n",
      "         Iterations 9\n",
      "Optimization terminated successfully.\n",
      "         Current function value: 1.055260\n",
      "         Iterations 7\n",
      "Optimization terminated successfully.\n",
      "         Current function value: 1.047679\n",
      "         Iterations 8\n",
      "Optimization terminated successfully.\n",
      "         Current function value: 1.039430\n",
      "         Iterations 10\n",
      "Optimization terminated successfully.\n",
      "         Current function value: 1.045235\n",
      "         Iterations 8\n",
      "Optimization terminated successfully.\n",
      "         Current function value: 1.025626\n",
      "         Iterations 10\n",
      "Optimization terminated successfully.\n",
      "         Current function value: 1.028496\n",
      "         Iterations 10\n",
      "Optimization terminated successfully.\n",
      "         Current function value: 1.084525\n",
      "         Iterations 8\n",
      "Optimization terminated successfully.\n",
      "         Current function value: 1.087260\n",
      "         Iterations 8\n",
      "Optimization terminated successfully.\n",
      "         Current function value: 1.038639\n",
      "         Iterations 10\n",
      "Optimization terminated successfully.\n",
      "         Current function value: 1.071057\n",
      "         Iterations 8\n",
      "Optimization terminated successfully.\n",
      "         Current function value: 1.021291\n",
      "         Iterations 10\n",
      "Optimization terminated successfully.\n",
      "         Current function value: 1.028436\n",
      "         Iterations 10\n",
      "Optimization terminated successfully.\n",
      "         Current function value: 1.058281\n",
      "         Iterations 8\n",
      "Optimization terminated successfully.\n",
      "         Current function value: 1.021301\n",
      "         Iterations 10\n",
      "Optimization terminated successfully.\n",
      "         Current function value: 1.024722\n",
      "         Iterations 11\n",
      "Optimization terminated successfully.\n",
      "         Current function value: 1.019743\n",
      "         Iterations 10\n",
      "Optimization terminated successfully.\n",
      "         Current function value: 1.048314\n",
      "         Iterations 7\n",
      "Optimization terminated successfully.\n",
      "         Current function value: 1.044274\n",
      "         Iterations 8\n",
      "Optimization terminated successfully.\n",
      "         Current function value: 1.031181\n",
      "         Iterations 10\n",
      "Optimization terminated successfully.\n",
      "         Current function value: 1.041567\n",
      "         Iterations 8\n",
      "Optimization terminated successfully.\n",
      "         Current function value: 1.019442\n",
      "         Iterations 10\n",
      "Optimization terminated successfully.\n",
      "         Current function value: 1.024047\n",
      "         Iterations 10\n",
      "Optimization terminated successfully.\n",
      "         Current function value: 1.033681\n",
      "         Iterations 8\n",
      "Optimization terminated successfully.\n",
      "         Current function value: 1.019381\n",
      "         Iterations 10\n",
      "Optimization terminated successfully.\n",
      "         Current function value: 1.020597\n",
      "         Iterations 10\n",
      "Optimization terminated successfully.\n",
      "         Current function value: 1.018253\n",
      "         Iterations 10\n",
      "Optimization terminated successfully.\n",
      "         Current function value: 1.055390\n",
      "         Iterations 8\n",
      "Optimization terminated successfully.\n",
      "         Current function value: 1.015644\n",
      "         Iterations 10\n",
      "Optimization terminated successfully.\n",
      "         Current function value: 1.021213\n",
      "         Iterations 10\n",
      "Optimization terminated successfully.\n",
      "         Current function value: 1.015990\n",
      "         Iterations 10\n",
      "Optimization terminated successfully.\n",
      "         Current function value: 1.012721\n",
      "         Iterations 11\n",
      "Optimization terminated successfully.\n",
      "         Current function value: 1.030738\n",
      "         Iterations 8\n",
      "Optimization terminated successfully.\n",
      "         Current function value: 1.013780\n",
      "         Iterations 10\n",
      "Optimization terminated successfully.\n",
      "         Current function value: 1.016935\n",
      "         Iterations 10\n",
      "Optimization terminated successfully.\n",
      "         Current function value: 1.014408\n",
      "         Iterations 10\n",
      "Optimization terminated successfully.\n",
      "         Current function value: 1.011176\n",
      "         Iterations 10\n",
      "Optimization terminated successfully.\n",
      "         Current function value: 1.009571\n",
      "         Iterations 10\n",
      "Optimization terminated successfully.\n",
      "         Current function value: 1.007964\n",
      "         Iterations 10\n"
     ]
    },
    {
     "data": {
      "text/plain": [
       "[(('exp3', 'exp2', 'exp1', 'freq3', 'freq2', 'freq1'), 8111.680933494807),\n",
       " (('exp2', 'exp1', 'freq3', 'freq2', 'freq1'), 8116.227114934153),\n",
       " (('exp3', 'exp1', 'freq3', 'freq2', 'freq1'), 8129.056950936029)]"
      ]
     },
     "execution_count": 19,
     "metadata": {},
     "output_type": "execute_result"
    }
   ],
   "source": [
    "import statsmodels.api as sm\n",
    "import itertools\n",
    "\n",
    "predictorcols = list(X.columns)   #将各个自变量汇成一个列表\n",
    "BICs = {}\n",
    "for k in range(1, len(predictorcols)+1):\n",
    "    #print(k)\n",
    "    for variables in itertools.combinations(predictorcols, k):\n",
    "        #Python itertools模块combinations(iterable, r)方法可以创建一个迭代器，\n",
    "        #返回iterable中所有长度为r的子序列，返回的子序列中的项按输入iterable中的顺序排序。\n",
    "        predictors = X[list(variables)]\n",
    "        predictors2 = sm.add_constant(predictors)\n",
    "        est = sm.Poisson(Y, predictors2)\n",
    "        res = est.fit()\n",
    "        BICs[variables] = res.bic\n",
    "\n",
    "from collections import Counter\n",
    "c = Counter(BICs)   #BICs为字典，则按values来统计，把value视为key出现的次数。注意这是从高到低排列。\n",
    "c.most_common()[:-4:-1]  #出现次数最少的3个元素，对应这里bic最小的3个值。接着倒序排列。"
   ]
  },
  {
   "cell_type": "markdown",
   "metadata": {},
   "source": [
    "### 可见BIC也选择了全部变量。"
   ]
  },
  {
   "cell_type": "markdown",
   "metadata": {},
   "source": [
    "## 综合以上，AIC和BIC都认为全模型是最优的模型。"
   ]
  },
  {
   "cell_type": "markdown",
   "metadata": {},
   "source": [
    "# 预测"
   ]
  },
  {
   "cell_type": "markdown",
   "metadata": {},
   "source": [
    "## 有以下测试集"
   ]
  },
  {
   "cell_type": "code",
   "execution_count": 8,
   "metadata": {
    "scrolled": false
   },
   "outputs": [
    {
     "data": {
      "text/html": [
       "<div>\n",
       "<style scoped>\n",
       "    .dataframe tbody tr th:only-of-type {\n",
       "        vertical-align: middle;\n",
       "    }\n",
       "\n",
       "    .dataframe tbody tr th {\n",
       "        vertical-align: top;\n",
       "    }\n",
       "\n",
       "    .dataframe thead th {\n",
       "        text-align: right;\n",
       "    }\n",
       "</style>\n",
       "<table border=\"1\" class=\"dataframe\">\n",
       "  <thead>\n",
       "    <tr style=\"text-align: right;\">\n",
       "      <th></th>\n",
       "      <th>exp3</th>\n",
       "      <th>exp2</th>\n",
       "      <th>exp1</th>\n",
       "      <th>freq3</th>\n",
       "      <th>freq2</th>\n",
       "      <th>freq1</th>\n",
       "      <th>freq0</th>\n",
       "    </tr>\n",
       "  </thead>\n",
       "  <tbody>\n",
       "    <tr>\n",
       "      <th>0</th>\n",
       "      <td>0.9</td>\n",
       "      <td>0.0</td>\n",
       "      <td>0.0</td>\n",
       "      <td>1</td>\n",
       "      <td>0</td>\n",
       "      <td>0</td>\n",
       "      <td>0</td>\n",
       "    </tr>\n",
       "    <tr>\n",
       "      <th>1</th>\n",
       "      <td>0.0</td>\n",
       "      <td>0.0</td>\n",
       "      <td>0.0</td>\n",
       "      <td>0</td>\n",
       "      <td>0</td>\n",
       "      <td>0</td>\n",
       "      <td>0</td>\n",
       "    </tr>\n",
       "    <tr>\n",
       "      <th>2</th>\n",
       "      <td>0.0</td>\n",
       "      <td>0.0</td>\n",
       "      <td>1.5</td>\n",
       "      <td>0</td>\n",
       "      <td>0</td>\n",
       "      <td>1</td>\n",
       "      <td>2</td>\n",
       "    </tr>\n",
       "    <tr>\n",
       "      <th>3</th>\n",
       "      <td>0.0</td>\n",
       "      <td>26.2</td>\n",
       "      <td>8.6</td>\n",
       "      <td>0</td>\n",
       "      <td>3</td>\n",
       "      <td>3</td>\n",
       "      <td>3</td>\n",
       "    </tr>\n",
       "    <tr>\n",
       "      <th>4</th>\n",
       "      <td>13.6</td>\n",
       "      <td>5.3</td>\n",
       "      <td>26.1</td>\n",
       "      <td>8</td>\n",
       "      <td>4</td>\n",
       "      <td>1</td>\n",
       "      <td>2</td>\n",
       "    </tr>\n",
       "  </tbody>\n",
       "</table>\n",
       "</div>"
      ],
      "text/plain": [
       "   exp3  exp2  exp1  freq3  freq2  freq1  freq0\n",
       "0   0.9   0.0   0.0      1      0      0      0\n",
       "1   0.0   0.0   0.0      0      0      0      0\n",
       "2   0.0   0.0   1.5      0      0      1      2\n",
       "3   0.0  26.2   8.6      0      3      3      3\n",
       "4  13.6   5.3  26.1      8      4      1      2"
      ]
     },
     "execution_count": 8,
     "metadata": {},
     "output_type": "execute_result"
    }
   ],
   "source": [
    "import numpy as np  \n",
    "import pandas as pd  \n",
    "path_1 = r'D:\\Documents\\python_documents\\Practical Business Data Analysis\\case\\CH6\\new.csv'\n",
    "data_new = pd.read_csv(path_1)  \n",
    "data_new.head()"
   ]
  },
  {
   "cell_type": "code",
   "execution_count": 9,
   "metadata": {},
   "outputs": [
    {
     "data": {
      "text/html": [
       "<div>\n",
       "<style scoped>\n",
       "    .dataframe tbody tr th:only-of-type {\n",
       "        vertical-align: middle;\n",
       "    }\n",
       "\n",
       "    .dataframe tbody tr th {\n",
       "        vertical-align: top;\n",
       "    }\n",
       "\n",
       "    .dataframe thead th {\n",
       "        text-align: right;\n",
       "    }\n",
       "</style>\n",
       "<table border=\"1\" class=\"dataframe\">\n",
       "  <thead>\n",
       "    <tr style=\"text-align: right;\">\n",
       "      <th></th>\n",
       "      <th>exp3</th>\n",
       "      <th>exp2</th>\n",
       "      <th>exp1</th>\n",
       "      <th>freq3</th>\n",
       "      <th>freq2</th>\n",
       "      <th>freq1</th>\n",
       "      <th>freq0</th>\n",
       "      <th>predict_result</th>\n",
       "    </tr>\n",
       "  </thead>\n",
       "  <tbody>\n",
       "    <tr>\n",
       "      <th>0</th>\n",
       "      <td>0.9</td>\n",
       "      <td>0.0</td>\n",
       "      <td>0.0</td>\n",
       "      <td>1</td>\n",
       "      <td>0</td>\n",
       "      <td>0</td>\n",
       "      <td>0</td>\n",
       "      <td>0.352</td>\n",
       "    </tr>\n",
       "    <tr>\n",
       "      <th>1</th>\n",
       "      <td>0.0</td>\n",
       "      <td>0.0</td>\n",
       "      <td>0.0</td>\n",
       "      <td>0</td>\n",
       "      <td>0</td>\n",
       "      <td>0</td>\n",
       "      <td>0</td>\n",
       "      <td>0.320</td>\n",
       "    </tr>\n",
       "    <tr>\n",
       "      <th>2</th>\n",
       "      <td>0.0</td>\n",
       "      <td>0.0</td>\n",
       "      <td>1.5</td>\n",
       "      <td>0</td>\n",
       "      <td>0</td>\n",
       "      <td>1</td>\n",
       "      <td>2</td>\n",
       "      <td>0.387</td>\n",
       "    </tr>\n",
       "    <tr>\n",
       "      <th>3</th>\n",
       "      <td>0.0</td>\n",
       "      <td>26.2</td>\n",
       "      <td>8.6</td>\n",
       "      <td>0</td>\n",
       "      <td>3</td>\n",
       "      <td>3</td>\n",
       "      <td>3</td>\n",
       "      <td>0.829</td>\n",
       "    </tr>\n",
       "    <tr>\n",
       "      <th>4</th>\n",
       "      <td>13.6</td>\n",
       "      <td>5.3</td>\n",
       "      <td>26.1</td>\n",
       "      <td>8</td>\n",
       "      <td>4</td>\n",
       "      <td>1</td>\n",
       "      <td>2</td>\n",
       "      <td>1.372</td>\n",
       "    </tr>\n",
       "  </tbody>\n",
       "</table>\n",
       "</div>"
      ],
      "text/plain": [
       "   exp3  exp2  exp1  freq3  freq2  freq1  freq0  predict_result\n",
       "0   0.9   0.0   0.0      1      0      0      0           0.352\n",
       "1   0.0   0.0   0.0      0      0      0      0           0.320\n",
       "2   0.0   0.0   1.5      0      0      1      2           0.387\n",
       "3   0.0  26.2   8.6      0      3      3      3           0.829\n",
       "4  13.6   5.3  26.1      8      4      1      2           1.372"
      ]
     },
     "execution_count": 9,
     "metadata": {},
     "output_type": "execute_result"
    }
   ],
   "source": [
    "data_new['predict_result'] = res_quan.predict(data_new)\n",
    "data_new['predict_result'] = data_new['predict_result'].apply(lambda x:round(x, 3))\n",
    "data_new.head()"
   ]
  },
  {
   "cell_type": "markdown",
   "metadata": {},
   "source": [
    "## 模型评估: RMSE  "
   ]
  },
  {
   "cell_type": "code",
   "execution_count": 7,
   "metadata": {},
   "outputs": [
    {
     "name": "stdout",
     "output_type": "stream",
     "text": [
      "RMSE: 1.3446579996415446\n"
     ]
    }
   ],
   "source": [
    "from sklearn.metrics import  mean_squared_error\n",
    "import numpy as np\n",
    "print(\"RMSE:\", np.sqrt(mean_squared_error(data_new.predict_result, data_new.freq0)))"
   ]
  }
 ],
 "metadata": {
  "kernelspec": {
   "display_name": "Python 3",
   "language": "python",
   "name": "python3"
  },
  "language_info": {
   "codemirror_mode": {
    "name": "ipython",
    "version": 3
   },
   "file_extension": ".py",
   "mimetype": "text/x-python",
   "name": "python",
   "nbconvert_exporter": "python",
   "pygments_lexer": "ipython3",
   "version": "3.7.3"
  },
  "toc": {
   "base_numbering": 1,
   "nav_menu": {},
   "number_sections": true,
   "sideBar": true,
   "skip_h1_title": false,
   "title_cell": "Table of Contents",
   "title_sidebar": "Contents",
   "toc_cell": false,
   "toc_position": {
    "height": "405px",
    "left": "387px",
    "top": "168px",
    "width": "247.797px"
   },
   "toc_section_display": true,
   "toc_window_display": true
  }
 },
 "nbformat": 4,
 "nbformat_minor": 2
}
