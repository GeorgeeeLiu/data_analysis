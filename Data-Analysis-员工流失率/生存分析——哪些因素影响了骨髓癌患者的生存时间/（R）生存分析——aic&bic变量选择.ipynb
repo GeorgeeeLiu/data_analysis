{
 "cells": [
  {
   "cell_type": "markdown",
   "metadata": {},
   "source": [
    "# 读取数据"
   ]
  },
  {
   "cell_type": "code",
   "execution_count": 1,
   "metadata": {},
   "outputs": [],
   "source": [
    "data <- read.csv('D:/Documents/python_documents/Practical Business Data Analysis/case/CH7/data.csv',header=T)"
   ]
  },
  {
   "cell_type": "markdown",
   "metadata": {},
   "source": [
    "#  拟合加速死亡模型"
   ]
  },
  {
   "cell_type": "markdown",
   "metadata": {},
   "source": [
    "## 指数分布拟合及变量选择"
   ]
  },
  {
   "cell_type": "code",
   "execution_count": 6,
   "metadata": {},
   "outputs": [
    {
     "data": {
      "text/plain": [
       "\n",
       "Call:\n",
       "survreg(formula = Surv(Time, VStatus) ~ HGB + Platelet + Age + \n",
       "    LogWBC + LogPBM + Protein + SCalc, data = data, dist = \"exponential\")\n",
       "               Value Std. Error     z     p\n",
       "(Intercept)  7.75817    3.24226  2.39 0.017\n",
       "HGB          0.13072    0.07269  1.80 0.072\n",
       "Platelet     0.33141    0.51045  0.65 0.516\n",
       "Age          0.00329    0.01863  0.18 0.860\n",
       "LogWBC      -1.15078    0.71175 -1.62 0.106\n",
       "LogPBM      -0.22109    0.44980 -0.49 0.623\n",
       "Protein     -0.01209    0.02560 -0.47 0.637\n",
       "SCalc       -0.13831    0.10854 -1.27 0.203\n",
       "\n",
       "Scale fixed at 1 \n",
       "\n",
       "Exponential distribution\n",
       "Loglik(model)= -210.3   Loglik(intercept only)= -215.1\n",
       "\tChisq= 9.6 on 7 degrees of freedom, p= 0.21 \n",
       "Number of Newton-Raphson Iterations: 4 \n",
       "n= 65 \n"
      ]
     },
     "metadata": {},
     "output_type": "display_data"
    }
   ],
   "source": [
    "library(survival)\n",
    "fit_exp = survreg(Surv(Time,VStatus)~HGB+Platelet+Age+LogWBC+LogPBM+Protein+SCalc,data=data, dist='exponential')                          #拟合加速死亡模型，设置残差项为指数分布\n",
    "summary(fit_exp)                                        #显示模型fit的各方面细节，包括估计值、标准差等"
   ]
  },
  {
   "cell_type": "markdown",
   "metadata": {},
   "source": [
    "## AIC模型选择"
   ]
  },
  {
   "cell_type": "code",
   "execution_count": 14,
   "metadata": {
    "scrolled": true
   },
   "outputs": [
    {
     "name": "stderr",
     "output_type": "stream",
     "text": [
      "Warning message in nobs.default(object, use.fallback = TRUE):\n",
      "\"no 'nobs' method is available\"Warning message in nobs.default(object, use.fallback = TRUE):\n",
      "\"no 'nobs' method is available\"Warning message in nobs.default(nfit, use.fallback = TRUE):\n",
      "\"no 'nobs' method is available\"Warning message in nobs.default(nfit, use.fallback = TRUE):\n",
      "\"no 'nobs' method is available\"Warning message in nobs.default(nfit, use.fallback = TRUE):\n",
      "\"no 'nobs' method is available\"Warning message in nobs.default(nfit, use.fallback = TRUE):\n",
      "\"no 'nobs' method is available\"Warning message in nobs.default(nfit, use.fallback = TRUE):\n",
      "\"no 'nobs' method is available\"Warning message in nobs.default(nfit, use.fallback = TRUE):\n",
      "\"no 'nobs' method is available\"Warning message in nobs.default(nfit, use.fallback = TRUE):\n",
      "\"no 'nobs' method is available\"Warning message in nobs.default(fit, use.fallback = TRUE):\n",
      "\"no 'nobs' method is available\"Warning message in nobs.default(object, use.fallback = TRUE):\n",
      "\"no 'nobs' method is available\"Warning message in nobs.default(nfit, use.fallback = TRUE):\n",
      "\"no 'nobs' method is available\"Warning message in nobs.default(nfit, use.fallback = TRUE):\n",
      "\"no 'nobs' method is available\"Warning message in nobs.default(nfit, use.fallback = TRUE):\n",
      "\"no 'nobs' method is available\"Warning message in nobs.default(nfit, use.fallback = TRUE):\n",
      "\"no 'nobs' method is available\"Warning message in nobs.default(nfit, use.fallback = TRUE):\n",
      "\"no 'nobs' method is available\"Warning message in nobs.default(nfit, use.fallback = TRUE):\n",
      "\"no 'nobs' method is available\"Warning message in nobs.default(fit, use.fallback = TRUE):\n",
      "\"no 'nobs' method is available\"Warning message in nobs.default(object, use.fallback = TRUE):\n",
      "\"no 'nobs' method is available\"Warning message in nobs.default(nfit, use.fallback = TRUE):\n",
      "\"no 'nobs' method is available\"Warning message in nobs.default(nfit, use.fallback = TRUE):\n",
      "\"no 'nobs' method is available\"Warning message in nobs.default(nfit, use.fallback = TRUE):\n",
      "\"no 'nobs' method is available\"Warning message in nobs.default(nfit, use.fallback = TRUE):\n",
      "\"no 'nobs' method is available\"Warning message in nobs.default(nfit, use.fallback = TRUE):\n",
      "\"no 'nobs' method is available\"Warning message in nobs.default(fit, use.fallback = TRUE):\n",
      "\"no 'nobs' method is available\"Warning message in nobs.default(object, use.fallback = TRUE):\n",
      "\"no 'nobs' method is available\"Warning message in nobs.default(nfit, use.fallback = TRUE):\n",
      "\"no 'nobs' method is available\"Warning message in nobs.default(nfit, use.fallback = TRUE):\n",
      "\"no 'nobs' method is available\"Warning message in nobs.default(nfit, use.fallback = TRUE):\n",
      "\"no 'nobs' method is available\"Warning message in nobs.default(nfit, use.fallback = TRUE):\n",
      "\"no 'nobs' method is available\"Warning message in nobs.default(fit, use.fallback = TRUE):\n",
      "\"no 'nobs' method is available\"Warning message in nobs.default(object, use.fallback = TRUE):\n",
      "\"no 'nobs' method is available\"Warning message in nobs.default(nfit, use.fallback = TRUE):\n",
      "\"no 'nobs' method is available\"Warning message in nobs.default(nfit, use.fallback = TRUE):\n",
      "\"no 'nobs' method is available\"Warning message in nobs.default(nfit, use.fallback = TRUE):\n",
      "\"no 'nobs' method is available\""
     ]
    },
    {
     "data": {
      "text/plain": [
       "\n",
       "Call:\n",
       "survreg(formula = Surv(Time, VStatus) ~ HGB + LogWBC + SCalc, \n",
       "    data = data, dist = \"exponential\")\n",
       "              Value Std. Error     z      p\n",
       "(Intercept)  7.5188     2.6441  2.84 0.0045\n",
       "HGB          0.1495     0.0582  2.57 0.0102\n",
       "LogWBC      -1.0678     0.6613 -1.61 0.1064\n",
       "SCalc       -0.1553     0.1027 -1.51 0.1305\n",
       "\n",
       "Scale fixed at 1 \n",
       "\n",
       "Exponential distribution\n",
       "Loglik(model)= -210.8   Loglik(intercept only)= -215.1\n",
       "\tChisq= 8.55 on 3 degrees of freedom, p= 0.036 \n",
       "Number of Newton-Raphson Iterations: 4 \n",
       "n= 65 \n"
      ]
     },
     "metadata": {},
     "output_type": "display_data"
    }
   ],
   "source": [
    "fit.aic = step(fit, trace=F)\n",
    "summary(fit.aic)"
   ]
  },
  {
   "cell_type": "markdown",
   "metadata": {},
   "source": [
    "## BIC模型选择"
   ]
  },
  {
   "cell_type": "code",
   "execution_count": 15,
   "metadata": {},
   "outputs": [
    {
     "name": "stderr",
     "output_type": "stream",
     "text": [
      "Warning message in nobs.default(object, use.fallback = TRUE):\n",
      "\"no 'nobs' method is available\"Warning message in nobs.default(object, use.fallback = TRUE):\n",
      "\"no 'nobs' method is available\"Warning message in nobs.default(nfit, use.fallback = TRUE):\n",
      "\"no 'nobs' method is available\"Warning message in nobs.default(nfit, use.fallback = TRUE):\n",
      "\"no 'nobs' method is available\"Warning message in nobs.default(nfit, use.fallback = TRUE):\n",
      "\"no 'nobs' method is available\"Warning message in nobs.default(nfit, use.fallback = TRUE):\n",
      "\"no 'nobs' method is available\"Warning message in nobs.default(nfit, use.fallback = TRUE):\n",
      "\"no 'nobs' method is available\"Warning message in nobs.default(nfit, use.fallback = TRUE):\n",
      "\"no 'nobs' method is available\"Warning message in nobs.default(nfit, use.fallback = TRUE):\n",
      "\"no 'nobs' method is available\"Warning message in nobs.default(fit, use.fallback = TRUE):\n",
      "\"no 'nobs' method is available\"Warning message in nobs.default(object, use.fallback = TRUE):\n",
      "\"no 'nobs' method is available\"Warning message in nobs.default(nfit, use.fallback = TRUE):\n",
      "\"no 'nobs' method is available\"Warning message in nobs.default(nfit, use.fallback = TRUE):\n",
      "\"no 'nobs' method is available\"Warning message in nobs.default(nfit, use.fallback = TRUE):\n",
      "\"no 'nobs' method is available\"Warning message in nobs.default(nfit, use.fallback = TRUE):\n",
      "\"no 'nobs' method is available\"Warning message in nobs.default(nfit, use.fallback = TRUE):\n",
      "\"no 'nobs' method is available\"Warning message in nobs.default(nfit, use.fallback = TRUE):\n",
      "\"no 'nobs' method is available\"Warning message in nobs.default(fit, use.fallback = TRUE):\n",
      "\"no 'nobs' method is available\"Warning message in nobs.default(object, use.fallback = TRUE):\n",
      "\"no 'nobs' method is available\"Warning message in nobs.default(nfit, use.fallback = TRUE):\n",
      "\"no 'nobs' method is available\"Warning message in nobs.default(nfit, use.fallback = TRUE):\n",
      "\"no 'nobs' method is available\"Warning message in nobs.default(nfit, use.fallback = TRUE):\n",
      "\"no 'nobs' method is available\"Warning message in nobs.default(nfit, use.fallback = TRUE):\n",
      "\"no 'nobs' method is available\"Warning message in nobs.default(nfit, use.fallback = TRUE):\n",
      "\"no 'nobs' method is available\"Warning message in nobs.default(fit, use.fallback = TRUE):\n",
      "\"no 'nobs' method is available\"Warning message in nobs.default(object, use.fallback = TRUE):\n",
      "\"no 'nobs' method is available\"Warning message in nobs.default(nfit, use.fallback = TRUE):\n",
      "\"no 'nobs' method is available\"Warning message in nobs.default(nfit, use.fallback = TRUE):\n",
      "\"no 'nobs' method is available\"Warning message in nobs.default(nfit, use.fallback = TRUE):\n",
      "\"no 'nobs' method is available\"Warning message in nobs.default(nfit, use.fallback = TRUE):\n",
      "\"no 'nobs' method is available\"Warning message in nobs.default(fit, use.fallback = TRUE):\n",
      "\"no 'nobs' method is available\"Warning message in nobs.default(object, use.fallback = TRUE):\n",
      "\"no 'nobs' method is available\"Warning message in nobs.default(nfit, use.fallback = TRUE):\n",
      "\"no 'nobs' method is available\"Warning message in nobs.default(nfit, use.fallback = TRUE):\n",
      "\"no 'nobs' method is available\"Warning message in nobs.default(nfit, use.fallback = TRUE):\n",
      "\"no 'nobs' method is available\"Warning message in nobs.default(fit, use.fallback = TRUE):\n",
      "\"no 'nobs' method is available\"Warning message in nobs.default(object, use.fallback = TRUE):\n",
      "\"no 'nobs' method is available\"Warning message in nobs.default(nfit, use.fallback = TRUE):\n",
      "\"no 'nobs' method is available\"Warning message in nobs.default(nfit, use.fallback = TRUE):\n",
      "\"no 'nobs' method is available\"Warning message in nobs.default(fit, use.fallback = TRUE):\n",
      "\"no 'nobs' method is available\"Warning message in nobs.default(object, use.fallback = TRUE):\n",
      "\"no 'nobs' method is available\"Warning message in nobs.default(nfit, use.fallback = TRUE):\n",
      "\"no 'nobs' method is available\""
     ]
    },
    {
     "data": {
      "text/plain": [
       "\n",
       "Call:\n",
       "survreg(formula = Surv(Time, VStatus) ~ HGB, data = data, dist = \"exponential\")\n",
       "             Value Std. Error    z       p\n",
       "(Intercept) 2.3069     0.5550 4.16 3.2e-05\n",
       "HGB         0.1140     0.0541 2.11   0.035\n",
       "\n",
       "Scale fixed at 1 \n",
       "\n",
       "Exponential distribution\n",
       "Loglik(model)= -213   Loglik(intercept only)= -215.1\n",
       "\tChisq= 4.32 on 1 degrees of freedom, p= 0.038 \n",
       "Number of Newton-Raphson Iterations: 4 \n",
       "n= 65 \n"
      ]
     },
     "metadata": {},
     "output_type": "display_data"
    }
   ],
   "source": [
    "ss = length(data[,1])\n",
    "fit.bic = step(fit, trace=F, k = log(ss))\n",
    "summary(fit.bic)"
   ]
  },
  {
   "cell_type": "markdown",
   "metadata": {},
   "source": [
    "## Weibull分布拟合及变量选择"
   ]
  },
  {
   "cell_type": "code",
   "execution_count": 3,
   "metadata": {},
   "outputs": [
    {
     "data": {
      "text/plain": [
       "\n",
       "Call:\n",
       "survreg(formula = Surv(Time, VStatus) ~ HGB + Platelet + Age + \n",
       "    LogWBC + LogPBM + Protein + SCalc, data = data)\n",
       "               Value Std. Error     z     p\n",
       "(Intercept)  7.71420    2.99292  2.58 0.010\n",
       "HGB          0.12426    0.06710  1.85 0.064\n",
       "Platelet     0.33989    0.46956  0.72 0.469\n",
       "Age          0.00269    0.01723  0.16 0.876\n",
       "LogWBC      -1.13403    0.66006 -1.72 0.086\n",
       "LogPBM      -0.23505    0.41549 -0.57 0.572\n",
       "Protein     -0.01056    0.02365 -0.45 0.655\n",
       "SCalc       -0.12835    0.10300 -1.25 0.213\n",
       "Log(scale)  -0.09394    0.10887 -0.86 0.388\n",
       "\n",
       "Scale= 0.91 \n",
       "\n",
       "Weibull distribution\n",
       "Loglik(model)= -210   Loglik(intercept only)= -215.1\n",
       "\tChisq= 10.21 on 7 degrees of freedom, p= 0.18 \n",
       "Number of Newton-Raphson Iterations: 5 \n",
       "n= 65 \n"
      ]
     },
     "metadata": {},
     "output_type": "display_data"
    }
   ],
   "source": [
    "library(survival)\n",
    "fit_weibull = survreg(Surv(Time,VStatus)~HGB+Platelet+Age+LogWBC+LogPBM+Protein+SCalc,data=data)                          #拟合加速死亡模型，设置残差项为指数分布\n",
    "summary(fit_weibull)                                        #显示模型fit的各方面细节，包括估计值、标准差等"
   ]
  },
  {
   "cell_type": "code",
   "execution_count": 4,
   "metadata": {},
   "outputs": [
    {
     "name": "stderr",
     "output_type": "stream",
     "text": [
      "Warning message in nobs.default(object, use.fallback = TRUE):\n",
      "\"no 'nobs' method is available\"Warning message in nobs.default(object, use.fallback = TRUE):\n",
      "\"no 'nobs' method is available\"Warning message in nobs.default(nfit, use.fallback = TRUE):\n",
      "\"no 'nobs' method is available\"Warning message in nobs.default(nfit, use.fallback = TRUE):\n",
      "\"no 'nobs' method is available\"Warning message in nobs.default(nfit, use.fallback = TRUE):\n",
      "\"no 'nobs' method is available\"Warning message in nobs.default(nfit, use.fallback = TRUE):\n",
      "\"no 'nobs' method is available\"Warning message in nobs.default(nfit, use.fallback = TRUE):\n",
      "\"no 'nobs' method is available\"Warning message in nobs.default(nfit, use.fallback = TRUE):\n",
      "\"no 'nobs' method is available\"Warning message in nobs.default(nfit, use.fallback = TRUE):\n",
      "\"no 'nobs' method is available\"Warning message in nobs.default(fit, use.fallback = TRUE):\n",
      "\"no 'nobs' method is available\"Warning message in nobs.default(object, use.fallback = TRUE):\n",
      "\"no 'nobs' method is available\"Warning message in nobs.default(nfit, use.fallback = TRUE):\n",
      "\"no 'nobs' method is available\"Warning message in nobs.default(nfit, use.fallback = TRUE):\n",
      "\"no 'nobs' method is available\"Warning message in nobs.default(nfit, use.fallback = TRUE):\n",
      "\"no 'nobs' method is available\"Warning message in nobs.default(nfit, use.fallback = TRUE):\n",
      "\"no 'nobs' method is available\"Warning message in nobs.default(nfit, use.fallback = TRUE):\n",
      "\"no 'nobs' method is available\"Warning message in nobs.default(nfit, use.fallback = TRUE):\n",
      "\"no 'nobs' method is available\"Warning message in nobs.default(fit, use.fallback = TRUE):\n",
      "\"no 'nobs' method is available\"Warning message in nobs.default(object, use.fallback = TRUE):\n",
      "\"no 'nobs' method is available\"Warning message in nobs.default(nfit, use.fallback = TRUE):\n",
      "\"no 'nobs' method is available\"Warning message in nobs.default(nfit, use.fallback = TRUE):\n",
      "\"no 'nobs' method is available\"Warning message in nobs.default(nfit, use.fallback = TRUE):\n",
      "\"no 'nobs' method is available\"Warning message in nobs.default(nfit, use.fallback = TRUE):\n",
      "\"no 'nobs' method is available\"Warning message in nobs.default(nfit, use.fallback = TRUE):\n",
      "\"no 'nobs' method is available\"Warning message in nobs.default(fit, use.fallback = TRUE):\n",
      "\"no 'nobs' method is available\"Warning message in nobs.default(object, use.fallback = TRUE):\n",
      "\"no 'nobs' method is available\"Warning message in nobs.default(nfit, use.fallback = TRUE):\n",
      "\"no 'nobs' method is available\"Warning message in nobs.default(nfit, use.fallback = TRUE):\n",
      "\"no 'nobs' method is available\"Warning message in nobs.default(nfit, use.fallback = TRUE):\n",
      "\"no 'nobs' method is available\"Warning message in nobs.default(nfit, use.fallback = TRUE):\n",
      "\"no 'nobs' method is available\"Warning message in nobs.default(fit, use.fallback = TRUE):\n",
      "\"no 'nobs' method is available\"Warning message in nobs.default(object, use.fallback = TRUE):\n",
      "\"no 'nobs' method is available\"Warning message in nobs.default(nfit, use.fallback = TRUE):\n",
      "\"no 'nobs' method is available\"Warning message in nobs.default(nfit, use.fallback = TRUE):\n",
      "\"no 'nobs' method is available\"Warning message in nobs.default(nfit, use.fallback = TRUE):\n",
      "\"no 'nobs' method is available\""
     ]
    },
    {
     "data": {
      "text/plain": [
       "\n",
       "Call:\n",
       "survreg(formula = Surv(Time, VStatus) ~ HGB + LogWBC + SCalc, \n",
       "    data = data)\n",
       "              Value Std. Error     z      p\n",
       "(Intercept)  7.4055     2.4630  3.01 0.0026\n",
       "HGB          0.1444     0.0540  2.67 0.0075\n",
       "LogWBC      -1.0458     0.6149 -1.70 0.0890\n",
       "SCalc       -0.1462     0.0970 -1.51 0.1317\n",
       "Log(scale)  -0.0864     0.1081 -0.80 0.4242\n",
       "\n",
       "Scale= 0.917 \n",
       "\n",
       "Weibull distribution\n",
       "Loglik(model)= -210.5   Loglik(intercept only)= -215.1\n",
       "\tChisq= 9.05 on 3 degrees of freedom, p= 0.029 \n",
       "Number of Newton-Raphson Iterations: 5 \n",
       "n= 65 \n"
      ]
     },
     "metadata": {},
     "output_type": "display_data"
    }
   ],
   "source": [
    "fit_weibull.aic = step(fit_weibull,trace=F)                           #根据AIC准则选择最优模型\n",
    "summary(fit_weibull.aic)                                    #显示模型fit.aic的各方面细节，包括估计值、标准差等"
   ]
  },
  {
   "cell_type": "markdown",
   "metadata": {},
   "source": [
    "### AIC结论（1）：对比2与3,发现特征选择后P值由0.18下降到0.029，在5%的水平下高度显著。"
   ]
  },
  {
   "cell_type": "markdown",
   "metadata": {},
   "source": [
    "### AIC结论（2）：AIC选择了三个变量，分别是HGB、LogWBC、SCalc"
   ]
  },
  {
   "cell_type": "markdown",
   "metadata": {},
   "source": [
    "## BIC拟合"
   ]
  },
  {
   "cell_type": "code",
   "execution_count": 15,
   "metadata": {},
   "outputs": [
    {
     "data": {
      "text/html": [
       "65"
      ],
      "text/latex": [
       "65"
      ],
      "text/markdown": [
       "65"
      ],
      "text/plain": [
       "[1] 65"
      ]
     },
     "metadata": {},
     "output_type": "display_data"
    }
   ],
   "source": [
    "length(data[,1])"
   ]
  },
  {
   "cell_type": "code",
   "execution_count": 14,
   "metadata": {
    "scrolled": false
   },
   "outputs": [
    {
     "name": "stderr",
     "output_type": "stream",
     "text": [
      "Warning message in nobs.default(object, use.fallback = TRUE):\n",
      "\"no 'nobs' method is available\"Warning message in nobs.default(object, use.fallback = TRUE):\n",
      "\"no 'nobs' method is available\"Warning message in nobs.default(nfit, use.fallback = TRUE):\n",
      "\"no 'nobs' method is available\"Warning message in nobs.default(nfit, use.fallback = TRUE):\n",
      "\"no 'nobs' method is available\"Warning message in nobs.default(nfit, use.fallback = TRUE):\n",
      "\"no 'nobs' method is available\"Warning message in nobs.default(nfit, use.fallback = TRUE):\n",
      "\"no 'nobs' method is available\"Warning message in nobs.default(nfit, use.fallback = TRUE):\n",
      "\"no 'nobs' method is available\"Warning message in nobs.default(nfit, use.fallback = TRUE):\n",
      "\"no 'nobs' method is available\"Warning message in nobs.default(nfit, use.fallback = TRUE):\n",
      "\"no 'nobs' method is available\"Warning message in nobs.default(fit, use.fallback = TRUE):\n",
      "\"no 'nobs' method is available\"Warning message in nobs.default(object, use.fallback = TRUE):\n",
      "\"no 'nobs' method is available\"Warning message in nobs.default(nfit, use.fallback = TRUE):\n",
      "\"no 'nobs' method is available\"Warning message in nobs.default(nfit, use.fallback = TRUE):\n",
      "\"no 'nobs' method is available\"Warning message in nobs.default(nfit, use.fallback = TRUE):\n",
      "\"no 'nobs' method is available\"Warning message in nobs.default(nfit, use.fallback = TRUE):\n",
      "\"no 'nobs' method is available\"Warning message in nobs.default(nfit, use.fallback = TRUE):\n",
      "\"no 'nobs' method is available\"Warning message in nobs.default(nfit, use.fallback = TRUE):\n",
      "\"no 'nobs' method is available\"Warning message in nobs.default(fit, use.fallback = TRUE):\n",
      "\"no 'nobs' method is available\"Warning message in nobs.default(object, use.fallback = TRUE):\n",
      "\"no 'nobs' method is available\"Warning message in nobs.default(nfit, use.fallback = TRUE):\n",
      "\"no 'nobs' method is available\"Warning message in nobs.default(nfit, use.fallback = TRUE):\n",
      "\"no 'nobs' method is available\"Warning message in nobs.default(nfit, use.fallback = TRUE):\n",
      "\"no 'nobs' method is available\"Warning message in nobs.default(nfit, use.fallback = TRUE):\n",
      "\"no 'nobs' method is available\"Warning message in nobs.default(nfit, use.fallback = TRUE):\n",
      "\"no 'nobs' method is available\"Warning message in nobs.default(fit, use.fallback = TRUE):\n",
      "\"no 'nobs' method is available\"Warning message in nobs.default(object, use.fallback = TRUE):\n",
      "\"no 'nobs' method is available\"Warning message in nobs.default(nfit, use.fallback = TRUE):\n",
      "\"no 'nobs' method is available\"Warning message in nobs.default(nfit, use.fallback = TRUE):\n",
      "\"no 'nobs' method is available\"Warning message in nobs.default(nfit, use.fallback = TRUE):\n",
      "\"no 'nobs' method is available\"Warning message in nobs.default(nfit, use.fallback = TRUE):\n",
      "\"no 'nobs' method is available\"Warning message in nobs.default(fit, use.fallback = TRUE):\n",
      "\"no 'nobs' method is available\"Warning message in nobs.default(object, use.fallback = TRUE):\n",
      "\"no 'nobs' method is available\"Warning message in nobs.default(nfit, use.fallback = TRUE):\n",
      "\"no 'nobs' method is available\"Warning message in nobs.default(nfit, use.fallback = TRUE):\n",
      "\"no 'nobs' method is available\"Warning message in nobs.default(nfit, use.fallback = TRUE):\n",
      "\"no 'nobs' method is available\"Warning message in nobs.default(fit, use.fallback = TRUE):\n",
      "\"no 'nobs' method is available\"Warning message in nobs.default(object, use.fallback = TRUE):\n",
      "\"no 'nobs' method is available\"Warning message in nobs.default(nfit, use.fallback = TRUE):\n",
      "\"no 'nobs' method is available\"Warning message in nobs.default(nfit, use.fallback = TRUE):\n",
      "\"no 'nobs' method is available\"Warning message in nobs.default(fit, use.fallback = TRUE):\n",
      "\"no 'nobs' method is available\"Warning message in nobs.default(object, use.fallback = TRUE):\n",
      "\"no 'nobs' method is available\"Warning message in nobs.default(nfit, use.fallback = TRUE):\n",
      "\"no 'nobs' method is available\""
     ]
    },
    {
     "data": {
      "text/plain": [
       "\n",
       "Call:\n",
       "survreg(formula = Surv(Time, VStatus) ~ HGB, data = data)\n",
       "              Value Std. Error     z       p\n",
       "(Intercept)  2.3484     0.5219  4.50 6.8e-06\n",
       "HGB          0.1107     0.0507  2.18   0.029\n",
       "Log(scale)  -0.0691     0.1109 -0.62   0.533\n",
       "\n",
       "Scale= 0.933 \n",
       "\n",
       "Weibull distribution\n",
       "Loglik(model)= -212.8   Loglik(intercept only)= -215.1\n",
       "\tChisq= 4.59 on 1 degrees of freedom, p= 0.032 \n",
       "Number of Newton-Raphson Iterations: 5 \n",
       "n= 65 \n"
      ]
     },
     "metadata": {},
     "output_type": "display_data"
    }
   ],
   "source": [
    "ss = length(data[,1])\n",
    "fit.bic = step(fit, trace = F, k=log(ss))\n",
    "summary(fit.bic)"
   ]
  },
  {
   "cell_type": "markdown",
   "metadata": {},
   "source": [
    "### BIC结论： BIC认为HGB是唯一的重要解释性变量"
   ]
  },
  {
   "cell_type": "markdown",
   "metadata": {},
   "source": [
    "# Cox模型变量选择"
   ]
  },
  {
   "cell_type": "code",
   "execution_count": 11,
   "metadata": {},
   "outputs": [
    {
     "data": {
      "text/plain": [
       "Call:\n",
       "coxph(formula = Surv(Time, VStatus) ~ HGB + Platelet + Age + \n",
       "    LogWBC + LogPBM + Protein + SCalc, data = data)\n",
       "\n",
       "  n= 65, number of events= 48 \n",
       "\n",
       "              coef exp(coef)  se(coef)      z Pr(>|z|)  \n",
       "HGB      -0.144834  0.865166  0.074180 -1.952   0.0509 .\n",
       "Platelet -0.290416  0.747952  0.510600 -0.569   0.5695  \n",
       "Age      -0.003728  0.996279  0.019048 -0.196   0.8448  \n",
       "LogWBC    0.985298  2.678609  0.801700  1.229   0.2191  \n",
       "LogPBM    0.218820  1.244607  0.454937  0.481   0.6305  \n",
       "Protein   0.012603  1.012683  0.025953  0.486   0.6272  \n",
       "SCalc     0.151108  1.163122  0.111528  1.355   0.1755  \n",
       "---\n",
       "Signif. codes:  0 '***' 0.001 '**' 0.01 '*' 0.05 '.' 0.1 ' ' 1\n",
       "\n",
       "         exp(coef) exp(-coef) lower .95 upper .95\n",
       "HGB         0.8652     1.1558    0.7481     1.001\n",
       "Platelet    0.7480     1.3370    0.2749     2.035\n",
       "Age         0.9963     1.0037    0.9598     1.034\n",
       "LogWBC      2.6786     0.3733    0.5565    12.892\n",
       "LogPBM      1.2446     0.8035    0.5103     3.036\n",
       "Protein     1.0127     0.9875    0.9625     1.066\n",
       "SCalc       1.1631     0.8598    0.9347     1.447\n",
       "\n",
       "Concordance= 0.632  (se = 0.049 )\n",
       "Likelihood ratio test= 9.62  on 7 df,   p=0.2\n",
       "Wald test            = 9.38  on 7 df,   p=0.2\n",
       "Score (logrank) test = 9.84  on 7 df,   p=0.2\n"
      ]
     },
     "metadata": {},
     "output_type": "display_data"
    }
   ],
   "source": [
    "fit_cox = coxph(Surv(Time,VStatus)~HGB+Platelet+Age+LogWBC+LogPBM+Protein+SCalc,data=data)\t#拟合Cox等比例风险模型\n",
    "summary(fit_cox)\t\t\t\t\t\t\t\t\t\t#显示模型fit.bic的各方面细节，包括估计值、标准差等"
   ]
  },
  {
   "cell_type": "markdown",
   "metadata": {},
   "source": [
    "## AIC变量选择"
   ]
  },
  {
   "cell_type": "code",
   "execution_count": 13,
   "metadata": {},
   "outputs": [
    {
     "data": {
      "text/plain": [
       "Call:\n",
       "coxph(formula = Surv(Time, VStatus) ~ HGB + SCalc, data = data)\n",
       "\n",
       "  n= 65, number of events= 48 \n",
       "\n",
       "          coef exp(coef) se(coef)      z Pr(>|z|)  \n",
       "HGB   -0.14378   0.86608  0.05755 -2.498   0.0125 *\n",
       "SCalc  0.16205   1.17591  0.10367  1.563   0.1180  \n",
       "---\n",
       "Signif. codes:  0 '***' 0.001 '**' 0.01 '*' 0.05 '.' 0.1 ' ' 1\n",
       "\n",
       "      exp(coef) exp(-coef) lower .95 upper .95\n",
       "HGB      0.8661     1.1546    0.7737    0.9695\n",
       "SCalc    1.1759     0.8504    0.9597    1.4409\n",
       "\n",
       "Concordance= 0.634  (se = 0.047 )\n",
       "Likelihood ratio test= 7.21  on 2 df,   p=0.03\n",
       "Wald test            = 7.31  on 2 df,   p=0.03\n",
       "Score (logrank) test = 7.43  on 2 df,   p=0.02\n"
      ]
     },
     "metadata": {},
     "output_type": "display_data"
    }
   ],
   "source": [
    "ph_cox.aic=step(fit_cox,trace=F)\t\t\t\t\t\t\t\t#根据AIC准则选择最优模型\n",
    "summary(ph_cox.aic)\t\t\t\t\t\t\t\t\t\t#显示模型ph.aic的各方面细节，包括估计值、标准差等"
   ]
  },
  {
   "cell_type": "markdown",
   "metadata": {},
   "source": [
    "## BIC变量选择"
   ]
  },
  {
   "cell_type": "code",
   "execution_count": 19,
   "metadata": {
    "scrolled": false
   },
   "outputs": [
    {
     "data": {
      "text/plain": [
       "Call:\n",
       "coxph(formula = Surv(Time, VStatus) ~ HGB, data = data)\n",
       "\n",
       "  n= 65, number of events= 48 \n",
       "\n",
       "        coef exp(coef) se(coef)      z Pr(>|z|)  \n",
       "HGB -0.12611   0.88152  0.05595 -2.254   0.0242 *\n",
       "---\n",
       "Signif. codes:  0 '***' 0.001 '**' 0.01 '*' 0.05 '.' 0.1 ' ' 1\n",
       "\n",
       "    exp(coef) exp(-coef) lower .95 upper .95\n",
       "HGB    0.8815      1.134      0.79    0.9837\n",
       "\n",
       "Concordance= 0.604  (se = 0.046 )\n",
       "Likelihood ratio test= 4.97  on 1 df,   p=0.03\n",
       "Wald test            = 5.08  on 1 df,   p=0.02\n",
       "Score (logrank) test = 5.17  on 1 df,   p=0.02\n"
      ]
     },
     "metadata": {},
     "output_type": "display_data"
    }
   ],
   "source": [
    "ss = length(data[,1])\n",
    "ph.bic=step(fit,trace=F,k=log(ss))\t\t\t\t\t\t\t#根据BIC准则选择最优模型\n",
    "summary(ph.bic)\t\t\t\t\t\t\t\t\t\t#显示模型ph.bic的各方面细节，包括估计值、标准差等"
   ]
  }
 ],
 "metadata": {
  "kernelspec": {
   "display_name": "R",
   "language": "R",
   "name": "ir"
  },
  "language_info": {
   "codemirror_mode": "r",
   "file_extension": ".r",
   "mimetype": "text/x-r-source",
   "name": "R",
   "pygments_lexer": "r",
   "version": "3.6.1"
  },
  "toc": {
   "base_numbering": 1,
   "nav_menu": {},
   "number_sections": true,
   "sideBar": true,
   "skip_h1_title": false,
   "title_cell": "Table of Contents",
   "title_sidebar": "Contents",
   "toc_cell": false,
   "toc_position": {
    "height": "calc(100% - 180px)",
    "left": "10px",
    "top": "150px",
    "width": "247.797px"
   },
   "toc_section_display": true,
   "toc_window_display": true
  }
 },
 "nbformat": 4,
 "nbformat_minor": 2
}
