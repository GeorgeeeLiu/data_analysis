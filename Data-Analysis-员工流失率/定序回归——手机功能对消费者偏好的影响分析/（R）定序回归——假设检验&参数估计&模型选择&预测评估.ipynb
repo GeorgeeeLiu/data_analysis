{
 "cells": [
  {
   "cell_type": "code",
   "execution_count": 4,
   "metadata": {},
   "outputs": [
    {
     "name": "stderr",
     "output_type": "stream",
     "text": [
      "The following objects are masked from data (pos = 3):\n",
      "\n",
      "    score, W1, W2, W3, W4, W5, W6, W7\n",
      "\n"
     ]
    },
    {
     "data": {
      "text/html": [
       "<table>\n",
       "<caption>A data.frame: 5 × 8</caption>\n",
       "<thead>\n",
       "\t<tr><th scope=col>score</th><th scope=col>W1</th><th scope=col>W2</th><th scope=col>W3</th><th scope=col>W4</th><th scope=col>W5</th><th scope=col>W6</th><th scope=col>W7</th></tr>\n",
       "\t<tr><th scope=col>&lt;int&gt;</th><th scope=col>&lt;fct&gt;</th><th scope=col>&lt;int&gt;</th><th scope=col>&lt;int&gt;</th><th scope=col>&lt;int&gt;</th><th scope=col>&lt;int&gt;</th><th scope=col>&lt;int&gt;</th><th scope=col>&lt;int&gt;</th></tr>\n",
       "</thead>\n",
       "<tbody>\n",
       "\t<tr><td>3</td><td>Nokia</td><td>0</td><td>0</td><td>0</td><td>1</td><td>1</td><td>3</td></tr>\n",
       "\t<tr><td>4</td><td>Nokia</td><td>1</td><td>0</td><td>1</td><td>0</td><td>1</td><td>5</td></tr>\n",
       "\t<tr><td>4</td><td>Nokia</td><td>0</td><td>1</td><td>1</td><td>0</td><td>0</td><td>7</td></tr>\n",
       "\t<tr><td>4</td><td>Bird </td><td>1</td><td>1</td><td>0</td><td>1</td><td>0</td><td>3</td></tr>\n",
       "\t<tr><td>3</td><td>Bird </td><td>0</td><td>0</td><td>0</td><td>0</td><td>1</td><td>5</td></tr>\n",
       "</tbody>\n",
       "</table>\n"
      ],
      "text/latex": [
       "A data.frame: 5 × 8\n",
       "\\begin{tabular}{r|llllllll}\n",
       " score & W1 & W2 & W3 & W4 & W5 & W6 & W7\\\\\n",
       " <int> & <fct> & <int> & <int> & <int> & <int> & <int> & <int>\\\\\n",
       "\\hline\n",
       "\t 3 & Nokia & 0 & 0 & 0 & 1 & 1 & 3\\\\\n",
       "\t 4 & Nokia & 1 & 0 & 1 & 0 & 1 & 5\\\\\n",
       "\t 4 & Nokia & 0 & 1 & 1 & 0 & 0 & 7\\\\\n",
       "\t 4 & Bird  & 1 & 1 & 0 & 1 & 0 & 3\\\\\n",
       "\t 3 & Bird  & 0 & 0 & 0 & 0 & 1 & 5\\\\\n",
       "\\end{tabular}\n"
      ],
      "text/markdown": [
       "\n",
       "A data.frame: 5 × 8\n",
       "\n",
       "| score &lt;int&gt; | W1 &lt;fct&gt; | W2 &lt;int&gt; | W3 &lt;int&gt; | W4 &lt;int&gt; | W5 &lt;int&gt; | W6 &lt;int&gt; | W7 &lt;int&gt; |\n",
       "|---|---|---|---|---|---|---|---|\n",
       "| 3 | Nokia | 0 | 0 | 0 | 1 | 1 | 3 |\n",
       "| 4 | Nokia | 1 | 0 | 1 | 0 | 1 | 5 |\n",
       "| 4 | Nokia | 0 | 1 | 1 | 0 | 0 | 7 |\n",
       "| 4 | Bird  | 1 | 1 | 0 | 1 | 0 | 3 |\n",
       "| 3 | Bird  | 0 | 0 | 0 | 0 | 1 | 5 |\n",
       "\n"
      ],
      "text/plain": [
       "  score W1    W2 W3 W4 W5 W6 W7\n",
       "1 3     Nokia 0  0  0  1  1  3 \n",
       "2 4     Nokia 1  0  1  0  1  5 \n",
       "3 4     Nokia 0  1  1  0  0  7 \n",
       "4 4     Bird  1  1  0  1  0  3 \n",
       "5 3     Bird  0  0  0  0  1  5 "
      ]
     },
     "metadata": {},
     "output_type": "display_data"
    }
   ],
   "source": [
    "rm(list = ls())                    #把当前环境中的对象全部删除\n",
    "data <- read.csv(\"D:/Documents/python_documents/Practical Business Data Analysis/case/CH5/ceilphone.csv\", header = T)\n",
    "attach(data)\n",
    "data[c(1:5), ]"
   ]
  },
  {
   "cell_type": "markdown",
   "metadata": {},
   "source": [
    "# 参数估计"
   ]
  },
  {
   "cell_type": "markdown",
   "metadata": {},
   "source": [
    "## probit回归"
   ]
  },
  {
   "cell_type": "code",
   "execution_count": 6,
   "metadata": {},
   "outputs": [
    {
     "data": {
      "text/html": [
       "<table>\n",
       "<caption>A Anova: 2 × 7</caption>\n",
       "<thead>\n",
       "\t<tr><th scope=col>Model</th><th scope=col>Resid. df</th><th scope=col>Resid. Dev</th><th scope=col>Test</th><th scope=col>   Df</th><th scope=col>LR stat.</th><th scope=col>Pr(Chi)</th></tr>\n",
       "\t<tr><th scope=col>&lt;fct&gt;</th><th scope=col>&lt;dbl&gt;</th><th scope=col>&lt;dbl&gt;</th><th scope=col>&lt;fct&gt;</th><th scope=col>&lt;dbl&gt;</th><th scope=col>&lt;dbl&gt;</th><th scope=col>&lt;dbl&gt;</th></tr>\n",
       "</thead>\n",
       "<tbody>\n",
       "\t<tr><td>1                               </td><td>1447</td><td>4257.205</td><td>      </td><td>NA</td><td>      NA</td><td>NA</td></tr>\n",
       "\t<tr><td>W1 + W2 + W3 + W4 + W5 + W6 + W7</td><td>1438</td><td>3984.573</td><td>1 vs 2</td><td> 9</td><td>272.6325</td><td> 0</td></tr>\n",
       "</tbody>\n",
       "</table>\n"
      ],
      "text/latex": [
       "A Anova: 2 × 7\n",
       "\\begin{tabular}{r|lllllll}\n",
       " Model & Resid. df & Resid. Dev & Test &    Df & LR stat. & Pr(Chi)\\\\\n",
       " <fct> & <dbl> & <dbl> & <fct> & <dbl> & <dbl> & <dbl>\\\\\n",
       "\\hline\n",
       "\t 1                                & 1447 & 4257.205 &        & NA &       NA & NA\\\\\n",
       "\t W1 + W2 + W3 + W4 + W5 + W6 + W7 & 1438 & 3984.573 & 1 vs 2 &  9 & 272.6325 &  0\\\\\n",
       "\\end{tabular}\n"
      ],
      "text/markdown": [
       "\n",
       "A Anova: 2 × 7\n",
       "\n",
       "| Model &lt;fct&gt; | Resid. df &lt;dbl&gt; | Resid. Dev &lt;dbl&gt; | Test &lt;fct&gt; |    Df &lt;dbl&gt; | LR stat. &lt;dbl&gt; | Pr(Chi) &lt;dbl&gt; |\n",
       "|---|---|---|---|---|---|---|\n",
       "| 1                                | 1447 | 4257.205 | <!----> | NA |       NA | NA |\n",
       "| W1 + W2 + W3 + W4 + W5 + W6 + W7 | 1438 | 3984.573 | 1 vs 2 |  9 | 272.6325 |  0 |\n",
       "\n"
      ],
      "text/plain": [
       "  Model                            Resid. df Resid. Dev Test      Df LR stat.\n",
       "1 1                                1447      4257.205          NA          NA\n",
       "2 W1 + W2 + W3 + W4 + W5 + W6 + W7 1438      3984.573   1 vs 2  9    272.6325\n",
       "  Pr(Chi)\n",
       "1 NA     \n",
       "2  0     "
      ]
     },
     "metadata": {},
     "output_type": "display_data"
    }
   ],
   "source": [
    "library(MASS)\n",
    "probit0 <- polr(as.factor(score)~1, method='probit', Hess=T)\n",
    "probit1 <- polr(as.factor(score)~W1 + W2 + W3 + W4 + W5 + W6 + W7, method='probit', Hess=T)\n",
    "anova(probit0, probit1)"
   ]
  },
  {
   "cell_type": "markdown",
   "metadata": {},
   "source": [
    "### P值为0，模型整体高度显著。这说明，七个解释性变量中，至少有一个对score有显著影响。"
   ]
  },
  {
   "cell_type": "markdown",
   "metadata": {},
   "source": [
    "## logit回归"
   ]
  },
  {
   "cell_type": "code",
   "execution_count": 16,
   "metadata": {},
   "outputs": [
    {
     "data": {
      "text/html": [
       "<table>\n",
       "<caption>A Anova: 2 × 7</caption>\n",
       "<thead>\n",
       "\t<tr><th scope=col>Model</th><th scope=col>Resid. df</th><th scope=col>Resid. Dev</th><th scope=col>Test</th><th scope=col>   Df</th><th scope=col>LR stat.</th><th scope=col>Pr(Chi)</th></tr>\n",
       "\t<tr><th scope=col>&lt;fct&gt;</th><th scope=col>&lt;dbl&gt;</th><th scope=col>&lt;dbl&gt;</th><th scope=col>&lt;fct&gt;</th><th scope=col>&lt;dbl&gt;</th><th scope=col>&lt;dbl&gt;</th><th scope=col>&lt;dbl&gt;</th></tr>\n",
       "</thead>\n",
       "<tbody>\n",
       "\t<tr><td>1                               </td><td>1447</td><td>4257.206</td><td>      </td><td>NA</td><td>      NA</td><td>NA</td></tr>\n",
       "\t<tr><td>W1 + W2 + W3 + W4 + W5 + W6 + W7</td><td>1438</td><td>3983.182</td><td>1 vs 2</td><td> 9</td><td>274.0232</td><td> 0</td></tr>\n",
       "</tbody>\n",
       "</table>\n"
      ],
      "text/latex": [
       "A Anova: 2 × 7\n",
       "\\begin{tabular}{r|lllllll}\n",
       " Model & Resid. df & Resid. Dev & Test &    Df & LR stat. & Pr(Chi)\\\\\n",
       " <fct> & <dbl> & <dbl> & <fct> & <dbl> & <dbl> & <dbl>\\\\\n",
       "\\hline\n",
       "\t 1                                & 1447 & 4257.206 &        & NA &       NA & NA\\\\\n",
       "\t W1 + W2 + W3 + W4 + W5 + W6 + W7 & 1438 & 3983.182 & 1 vs 2 &  9 & 274.0232 &  0\\\\\n",
       "\\end{tabular}\n"
      ],
      "text/markdown": [
       "\n",
       "A Anova: 2 × 7\n",
       "\n",
       "| Model &lt;fct&gt; | Resid. df &lt;dbl&gt; | Resid. Dev &lt;dbl&gt; | Test &lt;fct&gt; |    Df &lt;dbl&gt; | LR stat. &lt;dbl&gt; | Pr(Chi) &lt;dbl&gt; |\n",
       "|---|---|---|---|---|---|---|\n",
       "| 1                                | 1447 | 4257.206 | <!----> | NA |       NA | NA |\n",
       "| W1 + W2 + W3 + W4 + W5 + W6 + W7 | 1438 | 3983.182 | 1 vs 2 |  9 | 274.0232 |  0 |\n",
       "\n"
      ],
      "text/plain": [
       "  Model                            Resid. df Resid. Dev Test      Df LR stat.\n",
       "1 1                                1447      4257.206          NA          NA\n",
       "2 W1 + W2 + W3 + W4 + W5 + W6 + W7 1438      3983.182   1 vs 2  9    274.0232\n",
       "  Pr(Chi)\n",
       "1 NA     \n",
       "2  0     "
      ]
     },
     "metadata": {},
     "output_type": "display_data"
    }
   ],
   "source": [
    "library(MASS)\n",
    "logit0 <- polr(as.factor(score)~1, method='logistic', Hess=T)\n",
    "logit1 <- polr(as.factor(score)~W1 + W2 + W3 + W4 + W5 + W6 + W7, method='logistic', Hess=T)\n",
    "anova(logit0 , logit1)"
   ]
  },
  {
   "cell_type": "markdown",
   "metadata": {},
   "source": [
    "### logit回归依旧说明模型真题高度显著"
   ]
  },
  {
   "cell_type": "markdown",
   "metadata": {},
   "source": [
    "## probit下单个元素的假设检验与参数估计"
   ]
  },
  {
   "cell_type": "code",
   "execution_count": 18,
   "metadata": {},
   "outputs": [
    {
     "name": "stderr",
     "output_type": "stream",
     "text": [
      "Loading required package: carData\n"
     ]
    },
    {
     "data": {
      "text/html": [
       "<table>\n",
       "<caption>A anova: 7 × 3</caption>\n",
       "<thead>\n",
       "\t<tr><th></th><th scope=col>LR Chisq</th><th scope=col>Df</th><th scope=col>Pr(&gt;Chisq)</th></tr>\n",
       "\t<tr><th></th><th scope=col>&lt;dbl&gt;</th><th scope=col>&lt;dbl&gt;</th><th scope=col>&lt;dbl&gt;</th></tr>\n",
       "</thead>\n",
       "<tbody>\n",
       "\t<tr><th scope=row>W1</th><td> 31.7428638</td><td>3</td><td>5.928908e-07</td></tr>\n",
       "\t<tr><th scope=row>W2</th><td> 48.4623842</td><td>1</td><td>3.366854e-12</td></tr>\n",
       "\t<tr><th scope=row>W3</th><td> 25.8323290</td><td>1</td><td>3.723984e-07</td></tr>\n",
       "\t<tr><th scope=row>W4</th><td> 16.1836248</td><td>1</td><td>5.748893e-05</td></tr>\n",
       "\t<tr><th scope=row>W5</th><td>197.3707870</td><td>1</td><td>7.827149e-45</td></tr>\n",
       "\t<tr><th scope=row>W6</th><td>  7.5400800</td><td>1</td><td>6.034136e-03</td></tr>\n",
       "\t<tr><th scope=row>W7</th><td> -0.9914359</td><td>1</td><td>1.000000e+00</td></tr>\n",
       "</tbody>\n",
       "</table>\n"
      ],
      "text/latex": [
       "A anova: 7 × 3\n",
       "\\begin{tabular}{r|lll}\n",
       "  & LR Chisq & Df & Pr(>Chisq)\\\\\n",
       "  & <dbl> & <dbl> & <dbl>\\\\\n",
       "\\hline\n",
       "\tW1 &  31.7428638 & 3 & 5.928908e-07\\\\\n",
       "\tW2 &  48.4623842 & 1 & 3.366854e-12\\\\\n",
       "\tW3 &  25.8323290 & 1 & 3.723984e-07\\\\\n",
       "\tW4 &  16.1836248 & 1 & 5.748893e-05\\\\\n",
       "\tW5 & 197.3707870 & 1 & 7.827149e-45\\\\\n",
       "\tW6 &   7.5400800 & 1 & 6.034136e-03\\\\\n",
       "\tW7 &  -0.9914359 & 1 & 1.000000e+00\\\\\n",
       "\\end{tabular}\n"
      ],
      "text/markdown": [
       "\n",
       "A anova: 7 × 3\n",
       "\n",
       "| <!--/--> | LR Chisq &lt;dbl&gt; | Df &lt;dbl&gt; | Pr(&gt;Chisq) &lt;dbl&gt; |\n",
       "|---|---|---|---|\n",
       "| W1 |  31.7428638 | 3 | 5.928908e-07 |\n",
       "| W2 |  48.4623842 | 1 | 3.366854e-12 |\n",
       "| W3 |  25.8323290 | 1 | 3.723984e-07 |\n",
       "| W4 |  16.1836248 | 1 | 5.748893e-05 |\n",
       "| W5 | 197.3707870 | 1 | 7.827149e-45 |\n",
       "| W6 |   7.5400800 | 1 | 6.034136e-03 |\n",
       "| W7 |  -0.9914359 | 1 | 1.000000e+00 |\n",
       "\n"
      ],
      "text/plain": [
       "   LR Chisq    Df Pr(>Chisq)  \n",
       "W1  31.7428638 3  5.928908e-07\n",
       "W2  48.4623842 1  3.366854e-12\n",
       "W3  25.8323290 1  3.723984e-07\n",
       "W4  16.1836248 1  5.748893e-05\n",
       "W5 197.3707870 1  7.827149e-45\n",
       "W6   7.5400800 1  6.034136e-03\n",
       "W7  -0.9914359 1  1.000000e+00"
      ]
     },
     "metadata": {},
     "output_type": "display_data"
    }
   ],
   "source": [
    "library(car)\n",
    "Anova(probit1, type='III')"
   ]
  },
  {
   "cell_type": "code",
   "execution_count": 14,
   "metadata": {},
   "outputs": [
    {
     "data": {
      "text/plain": [
       "Call:\n",
       "polr(formula = as.factor(score) ~ W1 + W2 + W3 + W4 + W5 + W6 + \n",
       "    W7, Hess = T, method = \"probit\")\n",
       "\n",
       "Coefficients:\n",
       "              Value Std. Error t value\n",
       "W1Motorola  0.28048    0.09608  2.9193\n",
       "W1Nokia     0.48908    0.08529  5.7342\n",
       "W1Samsung   0.27652    0.08613  3.2106\n",
       "W2          0.39145    0.05984  6.5419\n",
       "W3          0.31159    0.06188  5.0357\n",
       "W4          0.25499    0.06176  4.1291\n",
       "W5          0.90094    0.06362 14.1606\n",
       "W6          0.20205    0.07563  2.6714\n",
       "W7         -0.01373    0.01761 -0.7799\n",
       "\n",
       "Intercepts:\n",
       "    Value   Std. Error t value\n",
       "1|2 -0.3036  0.1313    -2.3125\n",
       "2|3  0.5214  0.1295     4.0247\n",
       "3|4  1.5312  0.1331    11.5057\n",
       "4|5  2.6876  0.1418    18.9589\n",
       "\n",
       "Residual Deviance: 3984.573 \n",
       "AIC: 4010.573 "
      ]
     },
     "metadata": {},
     "output_type": "display_data"
    }
   ],
   "source": [
    "summary(probit1)"
   ]
  },
  {
   "cell_type": "markdown",
   "metadata": {},
   "source": [
    "## logit下单个变量的假设检验与参数估计"
   ]
  },
  {
   "cell_type": "code",
   "execution_count": 19,
   "metadata": {},
   "outputs": [
    {
     "data": {
      "text/html": [
       "<table>\n",
       "<caption>A anova: 7 × 3</caption>\n",
       "<thead>\n",
       "\t<tr><th></th><th scope=col>LR Chisq</th><th scope=col>Df</th><th scope=col>Pr(&gt;Chisq)</th></tr>\n",
       "\t<tr><th></th><th scope=col>&lt;dbl&gt;</th><th scope=col>&lt;dbl&gt;</th><th scope=col>&lt;dbl&gt;</th></tr>\n",
       "</thead>\n",
       "<tbody>\n",
       "\t<tr><th scope=row>W1</th><td> 33.1335072</td><td>3</td><td>3.018449e-07</td></tr>\n",
       "\t<tr><th scope=row>W2</th><td> 49.8530276</td><td>1</td><td>1.657045e-12</td></tr>\n",
       "\t<tr><th scope=row>W3</th><td> 27.2229723</td><td>1</td><td>1.812918e-07</td></tr>\n",
       "\t<tr><th scope=row>W4</th><td> 17.5742682</td><td>1</td><td>2.763019e-05</td></tr>\n",
       "\t<tr><th scope=row>W5</th><td>198.7614304</td><td>1</td><td>3.891523e-45</td></tr>\n",
       "\t<tr><th scope=row>W6</th><td>  8.9307233</td><td>1</td><td>2.804133e-03</td></tr>\n",
       "\t<tr><th scope=row>W7</th><td>  0.3992074</td><td>1</td><td>5.274989e-01</td></tr>\n",
       "</tbody>\n",
       "</table>\n"
      ],
      "text/latex": [
       "A anova: 7 × 3\n",
       "\\begin{tabular}{r|lll}\n",
       "  & LR Chisq & Df & Pr(>Chisq)\\\\\n",
       "  & <dbl> & <dbl> & <dbl>\\\\\n",
       "\\hline\n",
       "\tW1 &  33.1335072 & 3 & 3.018449e-07\\\\\n",
       "\tW2 &  49.8530276 & 1 & 1.657045e-12\\\\\n",
       "\tW3 &  27.2229723 & 1 & 1.812918e-07\\\\\n",
       "\tW4 &  17.5742682 & 1 & 2.763019e-05\\\\\n",
       "\tW5 & 198.7614304 & 1 & 3.891523e-45\\\\\n",
       "\tW6 &   8.9307233 & 1 & 2.804133e-03\\\\\n",
       "\tW7 &   0.3992074 & 1 & 5.274989e-01\\\\\n",
       "\\end{tabular}\n"
      ],
      "text/markdown": [
       "\n",
       "A anova: 7 × 3\n",
       "\n",
       "| <!--/--> | LR Chisq &lt;dbl&gt; | Df &lt;dbl&gt; | Pr(&gt;Chisq) &lt;dbl&gt; |\n",
       "|---|---|---|---|\n",
       "| W1 |  33.1335072 | 3 | 3.018449e-07 |\n",
       "| W2 |  49.8530276 | 1 | 1.657045e-12 |\n",
       "| W3 |  27.2229723 | 1 | 1.812918e-07 |\n",
       "| W4 |  17.5742682 | 1 | 2.763019e-05 |\n",
       "| W5 | 198.7614304 | 1 | 3.891523e-45 |\n",
       "| W6 |   8.9307233 | 1 | 2.804133e-03 |\n",
       "| W7 |   0.3992074 | 1 | 5.274989e-01 |\n",
       "\n"
      ],
      "text/plain": [
       "   LR Chisq    Df Pr(>Chisq)  \n",
       "W1  33.1335072 3  3.018449e-07\n",
       "W2  49.8530276 1  1.657045e-12\n",
       "W3  27.2229723 1  1.812918e-07\n",
       "W4  17.5742682 1  2.763019e-05\n",
       "W5 198.7614304 1  3.891523e-45\n",
       "W6   8.9307233 1  2.804133e-03\n",
       "W7   0.3992074 1  5.274989e-01"
      ]
     },
     "metadata": {},
     "output_type": "display_data"
    }
   ],
   "source": [
    "Anova(logit1, type='III')"
   ]
  },
  {
   "cell_type": "code",
   "execution_count": 17,
   "metadata": {},
   "outputs": [
    {
     "data": {
      "text/plain": [
       "Call:\n",
       "polr(formula = as.factor(score) ~ W1 + W2 + W3 + W4 + W5 + W6 + \n",
       "    W7, Hess = T, method = \"logistic\")\n",
       "\n",
       "Coefficients:\n",
       "              Value Std. Error t value\n",
       "W1Motorola  0.48744    0.16661  2.9257\n",
       "W1Nokia     0.84501    0.14835  5.6963\n",
       "W1Samsung   0.46014    0.14894  3.0895\n",
       "W2          0.72611    0.10351  7.0147\n",
       "W3          0.55392    0.10650  5.2012\n",
       "W4          0.44892    0.10731  4.1836\n",
       "W5          1.53404    0.11163 13.7426\n",
       "W6          0.39005    0.13069  2.9845\n",
       "W7         -0.01946    0.03081 -0.6317\n",
       "\n",
       "Intercepts:\n",
       "    Value   Std. Error t value\n",
       "1|2 -0.5243  0.2279    -2.3006\n",
       "2|3  0.9845  0.2234     4.4075\n",
       "3|4  2.6681  0.2321    11.4955\n",
       "4|5  4.6718  0.2531    18.4575\n",
       "\n",
       "Residual Deviance: 3983.182 \n",
       "AIC: 4009.182 "
      ]
     },
     "metadata": {},
     "output_type": "display_data"
    }
   ],
   "source": [
    "summary(logit1)"
   ]
  },
  {
   "cell_type": "markdown",
   "metadata": {},
   "source": [
    "## 剔除不显著的W7，重新拟合probit定序回归"
   ]
  },
  {
   "cell_type": "code",
   "execution_count": 19,
   "metadata": {},
   "outputs": [
    {
     "data": {
      "text/plain": [
       "Call:\n",
       "polr(formula = as.factor(score) ~ W1 + W2 + W3 + W4 + W5 + W6, \n",
       "    Hess = T, method = \"probit\")\n",
       "\n",
       "Coefficients:\n",
       "            Value Std. Error t value\n",
       "W1Motorola 0.2709    0.09529   2.843\n",
       "W1Nokia    0.4896    0.08529   5.740\n",
       "W1Samsung  0.2794    0.08606   3.246\n",
       "W2         0.3897    0.05980   6.517\n",
       "W3         0.3075    0.06165   4.987\n",
       "W4         0.2535    0.06172   4.106\n",
       "W5         0.9026    0.06359  14.196\n",
       "W6         0.1868    0.07307   2.557\n",
       "\n",
       "Intercepts:\n",
       "    Value   Std. Error t value\n",
       "1|2 -0.2466  0.1090    -2.2619\n",
       "2|3  0.5781  0.1072     5.3923\n",
       "3|4  1.5876  0.1118    14.2039\n",
       "4|5  2.7438  0.1221    22.4737\n",
       "\n",
       "Residual Deviance: 3985.181 \n",
       "AIC: 4009.181 "
      ]
     },
     "metadata": {},
     "output_type": "display_data"
    }
   ],
   "source": [
    "probit2 <- polr(as.factor(score)~W1 + W2 + W3 + W4 + W5 + W6, method='probit', Hess=T)\n",
    "summary(probit2)"
   ]
  },
  {
   "cell_type": "markdown",
   "metadata": {},
   "source": [
    "## 剔除不显著的W7，重新拟合logit定序回归"
   ]
  },
  {
   "cell_type": "code",
   "execution_count": 21,
   "metadata": {},
   "outputs": [
    {
     "data": {
      "text/plain": [
       "Call:\n",
       "polr(formula = as.factor(score) ~ W1 + W2 + W3 + W4 + W5 + W6, \n",
       "    Hess = T, method = \"logistic\")\n",
       "\n",
       "Coefficients:\n",
       "            Value Std. Error t value\n",
       "W1Motorola 0.4733     0.1651   2.867\n",
       "W1Nokia    0.8449     0.1483   5.696\n",
       "W1Samsung  0.4646     0.1488   3.123\n",
       "W2         0.7242     0.1035   7.000\n",
       "W3         0.5493     0.1062   5.170\n",
       "W4         0.4475     0.1073   4.171\n",
       "W5         1.5355     0.1116  13.760\n",
       "W6         0.3685     0.1261   2.921\n",
       "\n",
       "Intercepts:\n",
       "    Value   Std. Error t value\n",
       "1|2 -0.4430  0.1881    -2.3548\n",
       "2|3  1.0656  0.1828     5.8296\n",
       "3|4  2.7482  0.1944    14.1341\n",
       "4|5  4.7528  0.2186    21.7404\n",
       "\n",
       "Residual Deviance: 3983.582 \n",
       "AIC: 4007.582 "
      ]
     },
     "metadata": {},
     "output_type": "display_data"
    }
   ],
   "source": [
    "logit2 <- polr(as.factor(score)~W1 + W2 + W3 + W4 + W5 + W6, method='logistic', Hess=T)\n",
    "summary(logit2)"
   ]
  },
  {
   "cell_type": "markdown",
   "metadata": {},
   "source": [
    "# 模型选择"
   ]
  },
  {
   "cell_type": "markdown",
   "metadata": {},
   "source": [
    "## logit"
   ]
  },
  {
   "cell_type": "markdown",
   "metadata": {},
   "source": [
    "### AIC"
   ]
  },
  {
   "cell_type": "code",
   "execution_count": 8,
   "metadata": {},
   "outputs": [
    {
     "data": {
      "text/plain": [
       "Call:\n",
       "polr(formula = as.factor(score) ~ W1 + W2 + W3 + W4 + W5 + W6, \n",
       "    Hess = T, method = \"logistic\")\n",
       "\n",
       "Coefficients:\n",
       "            Value Std. Error t value\n",
       "W1Motorola 0.4733     0.1651   2.867\n",
       "W1Nokia    0.8449     0.1483   5.696\n",
       "W1Samsung  0.4646     0.1488   3.123\n",
       "W2         0.7242     0.1035   7.000\n",
       "W3         0.5493     0.1062   5.170\n",
       "W4         0.4475     0.1073   4.171\n",
       "W5         1.5355     0.1116  13.760\n",
       "W6         0.3685     0.1261   2.921\n",
       "\n",
       "Intercepts:\n",
       "    Value   Std. Error t value\n",
       "1|2 -0.4430  0.1881    -2.3548\n",
       "2|3  1.0656  0.1828     5.8296\n",
       "3|4  2.7482  0.1944    14.1341\n",
       "4|5  4.7528  0.2186    21.7404\n",
       "\n",
       "Residual Deviance: 3983.582 \n",
       "AIC: 4007.582 "
      ]
     },
     "metadata": {},
     "output_type": "display_data"
    }
   ],
   "source": [
    "logit.aic <- step(logit1, trace=F)\n",
    "summary(logit.aic)"
   ]
  },
  {
   "cell_type": "markdown",
   "metadata": {},
   "source": [
    "### BIC"
   ]
  },
  {
   "cell_type": "code",
   "execution_count": 26,
   "metadata": {},
   "outputs": [
    {
     "data": {
      "text/plain": [
       "Call:\n",
       "polr(formula = as.factor(score) ~ W1 + W2 + W3 + W4 + W5 + W6, \n",
       "    Hess = T, method = \"logistic\")\n",
       "\n",
       "Coefficients:\n",
       "            Value Std. Error t value\n",
       "W1Motorola 0.4733     0.1651   2.867\n",
       "W1Nokia    0.8449     0.1483   5.696\n",
       "W1Samsung  0.4646     0.1488   3.123\n",
       "W2         0.7242     0.1035   7.000\n",
       "W3         0.5493     0.1062   5.170\n",
       "W4         0.4475     0.1073   4.171\n",
       "W5         1.5355     0.1116  13.760\n",
       "W6         0.3685     0.1261   2.921\n",
       "\n",
       "Intercepts:\n",
       "    Value   Std. Error t value\n",
       "1|2 -0.4430  0.1881    -2.3548\n",
       "2|3  1.0656  0.1828     5.8296\n",
       "3|4  2.7482  0.1944    14.1341\n",
       "4|5  4.7528  0.2186    21.7404\n",
       "\n",
       "Residual Deviance: 3983.582 \n",
       "AIC: 4007.582 "
      ]
     },
     "metadata": {},
     "output_type": "display_data"
    }
   ],
   "source": [
    "logit.bic <- step(logit1, trace=F, k=log(length(data[,1])))\n",
    "summary(logit.bic)"
   ]
  },
  {
   "cell_type": "markdown",
   "metadata": {},
   "source": [
    "## probit"
   ]
  },
  {
   "cell_type": "markdown",
   "metadata": {},
   "source": [
    "### AIC "
   ]
  },
  {
   "cell_type": "code",
   "execution_count": 28,
   "metadata": {},
   "outputs": [
    {
     "data": {
      "text/plain": [
       "Call:\n",
       "polr(formula = as.factor(score) ~ W1 + W2 + W3 + W4 + W5 + W6, \n",
       "    Hess = T, method = \"probit\")\n",
       "\n",
       "Coefficients:\n",
       "            Value Std. Error t value\n",
       "W1Motorola 0.2709    0.09529   2.843\n",
       "W1Nokia    0.4896    0.08529   5.740\n",
       "W1Samsung  0.2794    0.08606   3.246\n",
       "W2         0.3897    0.05980   6.517\n",
       "W3         0.3075    0.06165   4.987\n",
       "W4         0.2535    0.06172   4.106\n",
       "W5         0.9026    0.06359  14.196\n",
       "W6         0.1868    0.07307   2.557\n",
       "\n",
       "Intercepts:\n",
       "    Value   Std. Error t value\n",
       "1|2 -0.2466  0.1090    -2.2619\n",
       "2|3  0.5781  0.1072     5.3923\n",
       "3|4  1.5876  0.1118    14.2039\n",
       "4|5  2.7438  0.1221    22.4737\n",
       "\n",
       "Residual Deviance: 3985.181 \n",
       "AIC: 4009.181 "
      ]
     },
     "metadata": {},
     "output_type": "display_data"
    }
   ],
   "source": [
    "probit.aic <- step(probit1, trace=F)\n",
    "summary(probit.aic)"
   ]
  },
  {
   "cell_type": "markdown",
   "metadata": {},
   "source": [
    "### BIC"
   ]
  },
  {
   "cell_type": "code",
   "execution_count": 22,
   "metadata": {},
   "outputs": [
    {
     "data": {
      "text/plain": [
       "Call:\n",
       "polr(formula = as.factor(score) ~ W1 + W2 + W3 + W4 + W5, Hess = T, \n",
       "    method = \"probit\")\n",
       "\n",
       "Coefficients:\n",
       "            Value Std. Error t value\n",
       "W1Motorola 0.1541    0.08361   1.842\n",
       "W1Nokia    0.4940    0.08526   5.793\n",
       "W1Samsung  0.3061    0.08539   3.584\n",
       "W2         0.3659    0.05905   6.196\n",
       "W3         0.2613    0.05892   4.434\n",
       "W4         0.2342    0.06124   3.825\n",
       "W5         0.9188    0.06326  14.523\n",
       "\n",
       "Intercepts:\n",
       "    Value   Std. Error t value\n",
       "1|2 -0.3956  0.0921    -4.2939\n",
       "2|3  0.4294  0.0901     4.7659\n",
       "3|4  1.4361  0.0947    15.1610\n",
       "4|5  2.5872  0.1054    24.5480\n",
       "\n",
       "Residual Deviance: 3991.721 \n",
       "AIC: 4013.721 "
      ]
     },
     "metadata": {},
     "output_type": "display_data"
    }
   ],
   "source": [
    "probit.bic <- step(probit1, trace=F, k=log(length(data[,1])))\n",
    "summary(probit.bic)"
   ]
  },
  {
   "cell_type": "markdown",
   "metadata": {},
   "source": [
    "# 预测"
   ]
  },
  {
   "cell_type": "code",
   "execution_count": 9,
   "metadata": {},
   "outputs": [
    {
     "data": {
      "text/html": [
       "<table>\n",
       "<caption>A data.frame: 5 × 8</caption>\n",
       "<thead>\n",
       "\t<tr><th scope=col>score</th><th scope=col>W1</th><th scope=col>W2</th><th scope=col>W3</th><th scope=col>W4</th><th scope=col>W5</th><th scope=col>W6</th><th scope=col>W7</th></tr>\n",
       "\t<tr><th scope=col>&lt;int&gt;</th><th scope=col>&lt;fct&gt;</th><th scope=col>&lt;int&gt;</th><th scope=col>&lt;int&gt;</th><th scope=col>&lt;int&gt;</th><th scope=col>&lt;int&gt;</th><th scope=col>&lt;int&gt;</th><th scope=col>&lt;int&gt;</th></tr>\n",
       "</thead>\n",
       "<tbody>\n",
       "\t<tr><td>3</td><td>Nokia</td><td>0</td><td>0</td><td>0</td><td>1</td><td>1</td><td>3</td></tr>\n",
       "\t<tr><td>4</td><td>Nokia</td><td>1</td><td>0</td><td>1</td><td>0</td><td>1</td><td>5</td></tr>\n",
       "\t<tr><td>4</td><td>Nokia</td><td>0</td><td>1</td><td>1</td><td>0</td><td>0</td><td>7</td></tr>\n",
       "\t<tr><td>4</td><td>Bird </td><td>1</td><td>1</td><td>0</td><td>1</td><td>0</td><td>3</td></tr>\n",
       "\t<tr><td>3</td><td>Bird </td><td>0</td><td>0</td><td>0</td><td>0</td><td>1</td><td>5</td></tr>\n",
       "</tbody>\n",
       "</table>\n"
      ],
      "text/latex": [
       "A data.frame: 5 × 8\n",
       "\\begin{tabular}{r|llllllll}\n",
       " score & W1 & W2 & W3 & W4 & W5 & W6 & W7\\\\\n",
       " <int> & <fct> & <int> & <int> & <int> & <int> & <int> & <int>\\\\\n",
       "\\hline\n",
       "\t 3 & Nokia & 0 & 0 & 0 & 1 & 1 & 3\\\\\n",
       "\t 4 & Nokia & 1 & 0 & 1 & 0 & 1 & 5\\\\\n",
       "\t 4 & Nokia & 0 & 1 & 1 & 0 & 0 & 7\\\\\n",
       "\t 4 & Bird  & 1 & 1 & 0 & 1 & 0 & 3\\\\\n",
       "\t 3 & Bird  & 0 & 0 & 0 & 0 & 1 & 5\\\\\n",
       "\\end{tabular}\n"
      ],
      "text/markdown": [
       "\n",
       "A data.frame: 5 × 8\n",
       "\n",
       "| score &lt;int&gt; | W1 &lt;fct&gt; | W2 &lt;int&gt; | W3 &lt;int&gt; | W4 &lt;int&gt; | W5 &lt;int&gt; | W6 &lt;int&gt; | W7 &lt;int&gt; |\n",
       "|---|---|---|---|---|---|---|---|\n",
       "| 3 | Nokia | 0 | 0 | 0 | 1 | 1 | 3 |\n",
       "| 4 | Nokia | 1 | 0 | 1 | 0 | 1 | 5 |\n",
       "| 4 | Nokia | 0 | 1 | 1 | 0 | 0 | 7 |\n",
       "| 4 | Bird  | 1 | 1 | 0 | 1 | 0 | 3 |\n",
       "| 3 | Bird  | 0 | 0 | 0 | 0 | 1 | 5 |\n",
       "\n"
      ],
      "text/plain": [
       "  score W1    W2 W3 W4 W5 W6 W7\n",
       "1 3     Nokia 0  0  0  1  1  3 \n",
       "2 4     Nokia 1  0  1  0  1  5 \n",
       "3 4     Nokia 0  1  1  0  0  7 \n",
       "4 4     Bird  1  1  0  1  0  3 \n",
       "5 3     Bird  0  0  0  0  1  5 "
      ]
     },
     "metadata": {},
     "output_type": "display_data"
    }
   ],
   "source": [
    "data_new <- read.csv('D:/Documents/python_documents/Practical Business Data Analysis/case/CH5/new.csv')\n",
    "data_new[c(1:5), ]"
   ]
  },
  {
   "cell_type": "markdown",
   "metadata": {},
   "source": [
    "## 用logit的AIC模型来预测"
   ]
  },
  {
   "cell_type": "code",
   "execution_count": 20,
   "metadata": {},
   "outputs": [
    {
     "data": {
      "text/html": [
       "<table>\n",
       "<caption>A data.frame: 5 × 9</caption>\n",
       "<thead>\n",
       "\t<tr><th scope=col>score</th><th scope=col>W1</th><th scope=col>W2</th><th scope=col>W3</th><th scope=col>W4</th><th scope=col>W5</th><th scope=col>W6</th><th scope=col>W7</th><th scope=col>score.hat</th></tr>\n",
       "\t<tr><th scope=col>&lt;int&gt;</th><th scope=col>&lt;fct&gt;</th><th scope=col>&lt;int&gt;</th><th scope=col>&lt;int&gt;</th><th scope=col>&lt;int&gt;</th><th scope=col>&lt;int&gt;</th><th scope=col>&lt;int&gt;</th><th scope=col>&lt;int&gt;</th><th scope=col>&lt;fct&gt;</th></tr>\n",
       "</thead>\n",
       "<tbody>\n",
       "\t<tr><td>3</td><td>Nokia</td><td>0</td><td>0</td><td>0</td><td>1</td><td>1</td><td>3</td><td>4</td></tr>\n",
       "\t<tr><td>4</td><td>Nokia</td><td>1</td><td>0</td><td>1</td><td>0</td><td>1</td><td>5</td><td>3</td></tr>\n",
       "\t<tr><td>4</td><td>Nokia</td><td>0</td><td>1</td><td>1</td><td>0</td><td>0</td><td>7</td><td>3</td></tr>\n",
       "\t<tr><td>4</td><td>Bird </td><td>1</td><td>1</td><td>0</td><td>1</td><td>0</td><td>3</td><td>4</td></tr>\n",
       "\t<tr><td>3</td><td>Bird </td><td>0</td><td>0</td><td>0</td><td>0</td><td>1</td><td>5</td><td>2</td></tr>\n",
       "</tbody>\n",
       "</table>\n"
      ],
      "text/latex": [
       "A data.frame: 5 × 9\n",
       "\\begin{tabular}{r|lllllllll}\n",
       " score & W1 & W2 & W3 & W4 & W5 & W6 & W7 & score.hat\\\\\n",
       " <int> & <fct> & <int> & <int> & <int> & <int> & <int> & <int> & <fct>\\\\\n",
       "\\hline\n",
       "\t 3 & Nokia & 0 & 0 & 0 & 1 & 1 & 3 & 4\\\\\n",
       "\t 4 & Nokia & 1 & 0 & 1 & 0 & 1 & 5 & 3\\\\\n",
       "\t 4 & Nokia & 0 & 1 & 1 & 0 & 0 & 7 & 3\\\\\n",
       "\t 4 & Bird  & 1 & 1 & 0 & 1 & 0 & 3 & 4\\\\\n",
       "\t 3 & Bird  & 0 & 0 & 0 & 0 & 1 & 5 & 2\\\\\n",
       "\\end{tabular}\n"
      ],
      "text/markdown": [
       "\n",
       "A data.frame: 5 × 9\n",
       "\n",
       "| score &lt;int&gt; | W1 &lt;fct&gt; | W2 &lt;int&gt; | W3 &lt;int&gt; | W4 &lt;int&gt; | W5 &lt;int&gt; | W6 &lt;int&gt; | W7 &lt;int&gt; | score.hat &lt;fct&gt; |\n",
       "|---|---|---|---|---|---|---|---|---|\n",
       "| 3 | Nokia | 0 | 0 | 0 | 1 | 1 | 3 | 4 |\n",
       "| 4 | Nokia | 1 | 0 | 1 | 0 | 1 | 5 | 3 |\n",
       "| 4 | Nokia | 0 | 1 | 1 | 0 | 0 | 7 | 3 |\n",
       "| 4 | Bird  | 1 | 1 | 0 | 1 | 0 | 3 | 4 |\n",
       "| 3 | Bird  | 0 | 0 | 0 | 0 | 1 | 5 | 2 |\n",
       "\n"
      ],
      "text/plain": [
       "  score W1    W2 W3 W4 W5 W6 W7 score.hat\n",
       "1 3     Nokia 0  0  0  1  1  3  4        \n",
       "2 4     Nokia 1  0  1  0  1  5  3        \n",
       "3 4     Nokia 0  1  1  0  0  7  3        \n",
       "4 4     Bird  1  1  0  1  0  3  4        \n",
       "5 3     Bird  0  0  0  0  1  5  2        "
      ]
     },
     "metadata": {},
     "output_type": "display_data"
    }
   ],
   "source": [
    "data_new$score.hat <- predict(logit.aic, data_new)\n",
    "data_new[c(1:5), ]"
   ]
  },
  {
   "cell_type": "code",
   "execution_count": 21,
   "metadata": {},
   "outputs": [
    {
     "data": {
      "text/plain": [
       "     score.hat\n",
       "score  1  2  3  4  5\n",
       "    1  0  2 12  5  0\n",
       "    2  0  3 10  9  0\n",
       "    3  0  3 15 10  0\n",
       "    4  0  0 13 10  0\n",
       "    5  0  0  1  7  0"
      ]
     },
     "metadata": {},
     "output_type": "display_data"
    }
   ],
   "source": [
    "table(data_new[, c(1, 9)])"
   ]
  },
  {
   "cell_type": "markdown",
   "metadata": {},
   "source": [
    "### 误差超过1个单位有27个数据，即只占比27/100=27%。故，预测结果良好。"
   ]
  }
 ],
 "metadata": {
  "kernelspec": {
   "display_name": "R",
   "language": "R",
   "name": "ir"
  },
  "language_info": {
   "codemirror_mode": "r",
   "file_extension": ".r",
   "mimetype": "text/x-r-source",
   "name": "R",
   "pygments_lexer": "r",
   "version": "3.6.1"
  },
  "toc": {
   "base_numbering": 1,
   "nav_menu": {},
   "number_sections": true,
   "sideBar": true,
   "skip_h1_title": false,
   "title_cell": "Table of Contents",
   "title_sidebar": "Contents",
   "toc_cell": false,
   "toc_position": {
    "height": "calc(100% - 180px)",
    "left": "10px",
    "top": "150px",
    "width": "247.797px"
   },
   "toc_section_display": true,
   "toc_window_display": true
  }
 },
 "nbformat": 4,
 "nbformat_minor": 2
}
