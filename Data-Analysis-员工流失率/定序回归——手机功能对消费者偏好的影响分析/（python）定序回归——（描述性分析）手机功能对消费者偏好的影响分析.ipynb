{
 "cells": [
  {
   "cell_type": "markdown",
   "metadata": {},
   "source": [
    "# 数据读取"
   ]
  },
  {
   "cell_type": "code",
   "execution_count": 3,
   "metadata": {},
   "outputs": [
    {
     "data": {
      "text/html": [
       "<div>\n",
       "<style scoped>\n",
       "    .dataframe tbody tr th:only-of-type {\n",
       "        vertical-align: middle;\n",
       "    }\n",
       "\n",
       "    .dataframe tbody tr th {\n",
       "        vertical-align: top;\n",
       "    }\n",
       "\n",
       "    .dataframe thead th {\n",
       "        text-align: right;\n",
       "    }\n",
       "</style>\n",
       "<table border=\"1\" class=\"dataframe\">\n",
       "  <thead>\n",
       "    <tr style=\"text-align: right;\">\n",
       "      <th></th>\n",
       "      <th>score</th>\n",
       "      <th>W1</th>\n",
       "      <th>W2</th>\n",
       "      <th>W3</th>\n",
       "      <th>W4</th>\n",
       "      <th>W5</th>\n",
       "      <th>W6</th>\n",
       "      <th>W7</th>\n",
       "    </tr>\n",
       "  </thead>\n",
       "  <tbody>\n",
       "    <tr>\n",
       "      <th>0</th>\n",
       "      <td>3</td>\n",
       "      <td>Nokia</td>\n",
       "      <td>0</td>\n",
       "      <td>0</td>\n",
       "      <td>0</td>\n",
       "      <td>1</td>\n",
       "      <td>1</td>\n",
       "      <td>3</td>\n",
       "    </tr>\n",
       "    <tr>\n",
       "      <th>1</th>\n",
       "      <td>4</td>\n",
       "      <td>Nokia</td>\n",
       "      <td>1</td>\n",
       "      <td>0</td>\n",
       "      <td>1</td>\n",
       "      <td>0</td>\n",
       "      <td>1</td>\n",
       "      <td>5</td>\n",
       "    </tr>\n",
       "    <tr>\n",
       "      <th>2</th>\n",
       "      <td>4</td>\n",
       "      <td>Nokia</td>\n",
       "      <td>0</td>\n",
       "      <td>1</td>\n",
       "      <td>1</td>\n",
       "      <td>0</td>\n",
       "      <td>0</td>\n",
       "      <td>7</td>\n",
       "    </tr>\n",
       "    <tr>\n",
       "      <th>3</th>\n",
       "      <td>4</td>\n",
       "      <td>Bird</td>\n",
       "      <td>1</td>\n",
       "      <td>1</td>\n",
       "      <td>0</td>\n",
       "      <td>1</td>\n",
       "      <td>0</td>\n",
       "      <td>3</td>\n",
       "    </tr>\n",
       "    <tr>\n",
       "      <th>4</th>\n",
       "      <td>3</td>\n",
       "      <td>Bird</td>\n",
       "      <td>0</td>\n",
       "      <td>0</td>\n",
       "      <td>0</td>\n",
       "      <td>0</td>\n",
       "      <td>1</td>\n",
       "      <td>5</td>\n",
       "    </tr>\n",
       "  </tbody>\n",
       "</table>\n",
       "</div>"
      ],
      "text/plain": [
       "   score     W1  W2  W3  W4  W5  W6  W7\n",
       "0      3  Nokia   0   0   0   1   1   3\n",
       "1      4  Nokia   1   0   1   0   1   5\n",
       "2      4  Nokia   0   1   1   0   0   7\n",
       "3      4   Bird   1   1   0   1   0   3\n",
       "4      3   Bird   0   0   0   0   1   5"
      ]
     },
     "execution_count": 3,
     "metadata": {},
     "output_type": "execute_result"
    }
   ],
   "source": [
    "import numpy as np  \n",
    "import pandas as pd  \n",
    "%matplotlib inline\n",
    "path = r'D:\\Documents\\python_documents\\Practical Business Data Analysis\\case\\CH5\\ceilphone.csv'\n",
    "data = pd.read_csv(path)  \n",
    "data.head()"
   ]
  },
  {
   "cell_type": "markdown",
   "metadata": {},
   "source": [
    "# 描述性分析"
   ]
  },
  {
   "cell_type": "code",
   "execution_count": 2,
   "metadata": {},
   "outputs": [
    {
     "data": {
      "text/plain": [
       "1451"
      ]
     },
     "execution_count": 2,
     "metadata": {},
     "output_type": "execute_result"
    }
   ],
   "source": [
    "len(data)   #样本数为1451"
   ]
  },
  {
   "cell_type": "code",
   "execution_count": 3,
   "metadata": {},
   "outputs": [
    {
     "name": "stdout",
     "output_type": "stream",
     "text": [
      "<class 'pandas.core.frame.DataFrame'>\n",
      "RangeIndex: 1451 entries, 0 to 1450\n",
      "Data columns (total 8 columns):\n",
      "score    1451 non-null int64\n",
      "W1       1451 non-null object\n",
      "W2       1451 non-null int64\n",
      "W3       1451 non-null int64\n",
      "W4       1451 non-null int64\n",
      "W5       1451 non-null int64\n",
      "W6       1451 non-null int64\n",
      "W7       1451 non-null int64\n",
      "dtypes: int64(7), object(1)\n",
      "memory usage: 90.8+ KB\n"
     ]
    }
   ],
   "source": [
    "data.info()"
   ]
  },
  {
   "cell_type": "markdown",
   "metadata": {},
   "source": [
    "## 交叉表：按指定的行列统计频数——看消费者打分与不同品牌之间的关系。"
   ]
  },
  {
   "cell_type": "code",
   "execution_count": 4,
   "metadata": {},
   "outputs": [
    {
     "data": {
      "text/html": [
       "<div>\n",
       "<style scoped>\n",
       "    .dataframe tbody tr th:only-of-type {\n",
       "        vertical-align: middle;\n",
       "    }\n",
       "\n",
       "    .dataframe tbody tr th {\n",
       "        vertical-align: top;\n",
       "    }\n",
       "\n",
       "    .dataframe thead th {\n",
       "        text-align: right;\n",
       "    }\n",
       "</style>\n",
       "<table border=\"1\" class=\"dataframe\">\n",
       "  <thead>\n",
       "    <tr style=\"text-align: right;\">\n",
       "      <th>W1</th>\n",
       "      <th>Bird</th>\n",
       "      <th>Motorola</th>\n",
       "      <th>Nokia</th>\n",
       "      <th>Samsung</th>\n",
       "    </tr>\n",
       "    <tr>\n",
       "      <th>score</th>\n",
       "      <th></th>\n",
       "      <th></th>\n",
       "      <th></th>\n",
       "      <th></th>\n",
       "    </tr>\n",
       "  </thead>\n",
       "  <tbody>\n",
       "    <tr>\n",
       "      <th>1</th>\n",
       "      <td>37</td>\n",
       "      <td>24</td>\n",
       "      <td>34</td>\n",
       "      <td>26</td>\n",
       "    </tr>\n",
       "    <tr>\n",
       "      <th>2</th>\n",
       "      <td>80</td>\n",
       "      <td>64</td>\n",
       "      <td>53</td>\n",
       "      <td>66</td>\n",
       "    </tr>\n",
       "    <tr>\n",
       "      <th>3</th>\n",
       "      <td>98</td>\n",
       "      <td>138</td>\n",
       "      <td>132</td>\n",
       "      <td>133</td>\n",
       "    </tr>\n",
       "    <tr>\n",
       "      <th>4</th>\n",
       "      <td>109</td>\n",
       "      <td>108</td>\n",
       "      <td>116</td>\n",
       "      <td>96</td>\n",
       "    </tr>\n",
       "    <tr>\n",
       "      <th>5</th>\n",
       "      <td>28</td>\n",
       "      <td>30</td>\n",
       "      <td>35</td>\n",
       "      <td>44</td>\n",
       "    </tr>\n",
       "  </tbody>\n",
       "</table>\n",
       "</div>"
      ],
      "text/plain": [
       "W1     Bird  Motorola  Nokia  Samsung\n",
       "score                                \n",
       "1        37        24     34       26\n",
       "2        80        64     53       66\n",
       "3        98       138    132      133\n",
       "4       109       108    116       96\n",
       "5        28        30     35       44"
      ]
     },
     "execution_count": 4,
     "metadata": {},
     "output_type": "execute_result"
    }
   ],
   "source": [
    "pd.crosstab(data.score,data.W1)"
   ]
  },
  {
   "cell_type": "markdown",
   "metadata": {},
   "source": [
    "## 通过交叉表看得分(score)与游戏个数W7的关系"
   ]
  },
  {
   "cell_type": "code",
   "execution_count": 5,
   "metadata": {},
   "outputs": [
    {
     "data": {
      "text/html": [
       "<div>\n",
       "<style scoped>\n",
       "    .dataframe tbody tr th:only-of-type {\n",
       "        vertical-align: middle;\n",
       "    }\n",
       "\n",
       "    .dataframe tbody tr th {\n",
       "        vertical-align: top;\n",
       "    }\n",
       "\n",
       "    .dataframe thead th {\n",
       "        text-align: right;\n",
       "    }\n",
       "</style>\n",
       "<table border=\"1\" class=\"dataframe\">\n",
       "  <thead>\n",
       "    <tr style=\"text-align: right;\">\n",
       "      <th>W7</th>\n",
       "      <th>3</th>\n",
       "      <th>5</th>\n",
       "      <th>7</th>\n",
       "    </tr>\n",
       "    <tr>\n",
       "      <th>score</th>\n",
       "      <th></th>\n",
       "      <th></th>\n",
       "      <th></th>\n",
       "    </tr>\n",
       "  </thead>\n",
       "  <tbody>\n",
       "    <tr>\n",
       "      <th>1</th>\n",
       "      <td>25</td>\n",
       "      <td>67</td>\n",
       "      <td>29</td>\n",
       "    </tr>\n",
       "    <tr>\n",
       "      <th>2</th>\n",
       "      <td>71</td>\n",
       "      <td>113</td>\n",
       "      <td>79</td>\n",
       "    </tr>\n",
       "    <tr>\n",
       "      <th>3</th>\n",
       "      <td>169</td>\n",
       "      <td>187</td>\n",
       "      <td>145</td>\n",
       "    </tr>\n",
       "    <tr>\n",
       "      <th>4</th>\n",
       "      <td>155</td>\n",
       "      <td>111</td>\n",
       "      <td>163</td>\n",
       "    </tr>\n",
       "    <tr>\n",
       "      <th>5</th>\n",
       "      <td>64</td>\n",
       "      <td>9</td>\n",
       "      <td>64</td>\n",
       "    </tr>\n",
       "  </tbody>\n",
       "</table>\n",
       "</div>"
      ],
      "text/plain": [
       "W7       3    5    7\n",
       "score               \n",
       "1       25   67   29\n",
       "2       71  113   79\n",
       "3      169  187  145\n",
       "4      155  111  163\n",
       "5       64    9   64"
      ]
     },
     "execution_count": 5,
     "metadata": {},
     "output_type": "execute_result"
    }
   ],
   "source": [
    "pd.crosstab(data.score,data.W7)"
   ]
  },
  {
   "cell_type": "markdown",
   "metadata": {},
   "source": [
    "## 分析消费者打分（score）和手机有无数码相机（W1）功能之间的关系"
   ]
  },
  {
   "cell_type": "code",
   "execution_count": 7,
   "metadata": {
    "scrolled": false
   },
   "outputs": [
    {
     "data": {
      "text/plain": [
       "(score\n",
       " 1     69\n",
       " 2    162\n",
       " 3    259\n",
       " 4    181\n",
       " 5     58\n",
       " Name: W2, dtype: int64, score\n",
       " 1     52\n",
       " 2    101\n",
       " 3    242\n",
       " 4    248\n",
       " 5     79\n",
       " Name: W2, dtype: int64)"
      ]
     },
     "execution_count": 7,
     "metadata": {},
     "output_type": "execute_result"
    }
   ],
   "source": [
    "W2_0 = data['W2'].groupby(data.score).value_counts()[:,0]   #无数码相机时不同得分各自对应的数量\n",
    "W2_1 = data['W2'].groupby(data.score).value_counts()[:,1]   #有数码相机时不同得分各自对应的数量\n",
    "W2_0,W2_1"
   ]
  },
  {
   "cell_type": "code",
   "execution_count": 8,
   "metadata": {
    "scrolled": false
   },
   "outputs": [
    {
     "data": {
      "text/html": [
       "<div>\n",
       "<style scoped>\n",
       "    .dataframe tbody tr th:only-of-type {\n",
       "        vertical-align: middle;\n",
       "    }\n",
       "\n",
       "    .dataframe tbody tr th {\n",
       "        vertical-align: top;\n",
       "    }\n",
       "\n",
       "    .dataframe thead th {\n",
       "        text-align: right;\n",
       "    }\n",
       "</style>\n",
       "<table border=\"1\" class=\"dataframe\">\n",
       "  <thead>\n",
       "    <tr style=\"text-align: right;\">\n",
       "      <th></th>\n",
       "      <th>W2_0</th>\n",
       "      <th>W2_1</th>\n",
       "    </tr>\n",
       "    <tr>\n",
       "      <th>score</th>\n",
       "      <th></th>\n",
       "      <th></th>\n",
       "    </tr>\n",
       "  </thead>\n",
       "  <tbody>\n",
       "    <tr>\n",
       "      <th>1</th>\n",
       "      <td>69</td>\n",
       "      <td>52</td>\n",
       "    </tr>\n",
       "    <tr>\n",
       "      <th>2</th>\n",
       "      <td>162</td>\n",
       "      <td>101</td>\n",
       "    </tr>\n",
       "    <tr>\n",
       "      <th>3</th>\n",
       "      <td>259</td>\n",
       "      <td>242</td>\n",
       "    </tr>\n",
       "    <tr>\n",
       "      <th>4</th>\n",
       "      <td>181</td>\n",
       "      <td>248</td>\n",
       "    </tr>\n",
       "    <tr>\n",
       "      <th>5</th>\n",
       "      <td>58</td>\n",
       "      <td>79</td>\n",
       "    </tr>\n",
       "  </tbody>\n",
       "</table>\n",
       "</div>"
      ],
      "text/plain": [
       "       W2_0  W2_1\n",
       "score            \n",
       "1        69    52\n",
       "2       162   101\n",
       "3       259   242\n",
       "4       181   248\n",
       "5        58    79"
      ]
     },
     "execution_count": 8,
     "metadata": {},
     "output_type": "execute_result"
    }
   ],
   "source": [
    "a = pd.concat([W2_0, W2_1], axis=1)\n",
    "a.columns = ['W2_0', 'W2_1']\n",
    "a"
   ]
  },
  {
   "cell_type": "code",
   "execution_count": 11,
   "metadata": {},
   "outputs": [
    {
     "data": {
      "image/png": "[encoded data removed]",
      "text/plain": [
       "<Figure size 432x288 with 1 Axes>"
      ]
     },
     "metadata": {},
     "output_type": "display_data"
    }
   ],
   "source": [
    "import numpy as np\n",
    "import matplotlib.pyplot as plt\n",
    "import seaborn as sns\n",
    "from matplotlib.font_manager import FontProperties   #显示中文，并指定字体sns.set(font=myfont.get_name(), style=\"white\")\n",
    "myfont=FontProperties(fname=r'C:/Windows/Fonts/simhei.ttf',size=14)\n",
    "sns.set(font=myfont.get_name(), style='white')                      #seaborn解决中文乱码的问题\n",
    "plt.rcParams['axes.unicode_minus']=False      #显示负号\n",
    "plt.rcParams['figure.figsize'] = (6.0, 4.0)   #调整图片大小\n",
    "\n",
    "W2_0 = data['W2'].groupby(data.score).value_counts()[:,0]   #无数码相机时不同得分各自对应的数量\n",
    "W2_1 = data['W2'].groupby(data.score).value_counts()[:,1]   #有数码相机时不同得分各自对应的数量\n",
    "a = pd.concat([W2_0, W2_1], axis=1)\n",
    "a.columns = ['W2_0', 'W2_1']\n",
    "p = plt.plot(a.index, a.W2_1/(a.W2_0+a.W2_1), linestyle=\"-\")\n",
    "\n",
    "plt.ylabel('具有数码相机功能的比率', fontsize=16)\n",
    "plt.xlabel('消费者打分', fontsize=16)\n",
    "plt.xticks(a.index, ('1', '2', '3', '4', '5'), fontsize=16)  #设置x刻度值的字体大小\n",
    "plt.yticks(np.arange(0, 1, 0.2), fontsize=16)                #设置y轴刻度值的字体大小\n",
    "  \n",
    "plt.show()"
   ]
  },
  {
   "cell_type": "markdown",
   "metadata": {},
   "source": [
    "## 消费者得分与其他功能之间的关系"
   ]
  },
  {
   "cell_type": "code",
   "execution_count": 10,
   "metadata": {},
   "outputs": [
    {
     "data": {
      "image/png": "[encoded data removed]",
      "text/plain": [
       "<Figure size 936x720 with 4 Axes>"
      ]
     },
     "metadata": {},
     "output_type": "display_data"
    }
   ],
   "source": [
    "import numpy as np\n",
    "import pandas as pd\n",
    "import matplotlib.pyplot as plt\n",
    "import seaborn as sns\n",
    "sns.set()                                            #设置seaborn默认格式\n",
    "    \n",
    "from matplotlib.font_manager import FontProperties   #显示中文，并指定字体\n",
    "myfont=FontProperties(fname=r'C:/Windows/Fonts/simhei.ttf',size=14)\n",
    "sns.set(font=myfont.get_name(), style=\"white\")       #seaborn解决中文乱码的问题\n",
    "plt.rcParams['axes.unicode_minus']=False             #显示负号\n",
    "\n",
    "plt.rcParams['figure.figsize'] = (13, 10)             #设定图片大小\n",
    "f = plt.figure()                                     #确定画布\n",
    "\n",
    "f.add_subplot(2,2,1)\n",
    "W3_0 = data['W3'].groupby(data.score).value_counts()[:,0]\n",
    "W3_1 = data['W3'].groupby(data.score).value_counts()[:,1]\n",
    "W3_0,W3_1\n",
    "W3_S= pd.concat([W3_0, W3_1], axis=1)\n",
    "W3_S.columns = ['W3_0', 'W3_1']\n",
    "p1 = plt.plot(W3_S.index, W3_S.W3_1/(W3_S.W3_0+W3_S.W3_1), linestyle=\"-\")\n",
    "plt.ylabel('能收看电视的比率', fontsize=16)\n",
    "plt.xlabel('消费者打分', fontsize=16)\n",
    "plt.xticks(a.index, ('1', '2', '3', '4', '5'), fontsize=16)  #设置x刻度值的字体大小\n",
    "plt.yticks(np.arange(0, 1, 0.2), fontsize=16)                #设置y轴刻度值的字体大小\n",
    "plt.title('(a)', fontsize=20)\n",
    "\n",
    "f.add_subplot(2,2,2)\n",
    "W4_0 = data['W4'].groupby(data.score).value_counts()[:,0]\n",
    "W4_1 = data['W4'].groupby(data.score).value_counts()[:,1]\n",
    "W4_0,W4_1\n",
    "W4_S= pd.concat([W4_0, W4_1], axis=1)\n",
    "W4_S.columns = ['W4_0', 'W4_1']\n",
    "p2 = plt.plot(W4_S.index, W4_S.W4_1/(W4_S.W4_0+W4_S.W4_1), linestyle=\"-\")\n",
    "plt.ylabel('有手写笔的比率', fontsize=16)\n",
    "plt.xlabel('消费者打分', fontsize=16)\n",
    "plt.xticks(a.index, ('1', '2', '3', '4', '5'), fontsize=16)  #设置x刻度值的字体大小\n",
    "plt.yticks(np.arange(0, 1, 0.2), fontsize=16)                #设置y轴刻度值的字体大小\n",
    "plt.title(\"(b)\", fontsize=20)\n",
    "\n",
    "f.add_subplot(2,2,3)\n",
    "W5_0 = data['W5'].groupby(data.score).value_counts()[:,0]\n",
    "W5_1 = data['W5'].groupby(data.score).value_counts()[:,1]\n",
    "W5_0,W5_1\n",
    "W5_S= pd.concat([W5_0, W5_1], axis=1)\n",
    "W5_S.columns = ['W5_0', 'W5_1']\n",
    "p3 = plt.plot(W5_S.index, W5_S.W5_1/(W5_S.W5_0+W5_S.W5_1), linestyle=\"-\")\n",
    "plt.ylabel('电话本支持多条记录的比率', fontsize=16)\n",
    "plt.xlabel('消费者打分', fontsize=16)\n",
    "plt.xticks(a.index, ('1', '2', '3', '4', '5'), fontsize=16)  #设置x刻度值的字体大小\n",
    "plt.yticks(np.arange(0, 1, 0.2), fontsize=16)                #设置y轴刻度值的字体大小\n",
    "plt.title(\"(c)\", fontsize=20)\n",
    "\n",
    "f.add_subplot(2,2,4)\n",
    "W6_0 = data['W6'].groupby(data.score).value_counts()[:,0]\n",
    "W6_1 = data['W6'].groupby(data.score).value_counts()[:,1]\n",
    "W6_0,W6_1\n",
    "W6_S= pd.concat([W6_0, W6_1], axis=1)\n",
    "W6_S.columns = ['W6_0', 'W6_1']\n",
    "p4 = plt.plot(W6_S.index, W6_S.W6_1/(W6_S.W6_0+W6_S.W6_1), linestyle=\"-\")\n",
    "plt.ylabel('有MP3的比率', fontsize=16)\n",
    "plt.xlabel('消费者打分', fontsize=16)\n",
    "plt.xticks(a.index, ('1', '2', '3', '4', '5'), fontsize=16)  #设置x刻度值的字体大小\n",
    "plt.yticks(np.arange(0, 1, 0.2), fontsize=16)                #设置y轴刻度值的字体大小\n",
    "plt.title(\"(d)\", fontsize=20)\n",
    "\n",
    "#plt.subplots_adjust(wspace=0.3)                    #调整两幅子图的间距\n",
    "plt.tight_layout()\n",
    "plt.savefig('定序回归：4幅折线图.png',dpi=600)      #保存png格式图片\n",
    "plt.show()"
   ]
  },
  {
   "cell_type": "code",
   "execution_count": 70,
   "metadata": {},
   "outputs": [],
   "source": [
    "import statsmodels.discrete.discrete_model as sm"
   ]
  },
  {
   "cell_type": "code",
   "execution_count": 84,
   "metadata": {},
   "outputs": [
    {
     "data": {
      "text/html": [
       "<div>\n",
       "<style scoped>\n",
       "    .dataframe tbody tr th:only-of-type {\n",
       "        vertical-align: middle;\n",
       "    }\n",
       "\n",
       "    .dataframe tbody tr th {\n",
       "        vertical-align: top;\n",
       "    }\n",
       "\n",
       "    .dataframe thead th {\n",
       "        text-align: right;\n",
       "    }\n",
       "</style>\n",
       "<table border=\"1\" class=\"dataframe\">\n",
       "  <thead>\n",
       "    <tr style=\"text-align: right;\">\n",
       "      <th></th>\n",
       "      <th>score</th>\n",
       "      <th>W1</th>\n",
       "      <th>W2</th>\n",
       "      <th>W3</th>\n",
       "      <th>W4</th>\n",
       "      <th>W5</th>\n",
       "      <th>W6</th>\n",
       "      <th>W7</th>\n",
       "    </tr>\n",
       "  </thead>\n",
       "  <tbody>\n",
       "    <tr>\n",
       "      <th>0</th>\n",
       "      <td>3</td>\n",
       "      <td>Nokia</td>\n",
       "      <td>0</td>\n",
       "      <td>0</td>\n",
       "      <td>0</td>\n",
       "      <td>1</td>\n",
       "      <td>1</td>\n",
       "      <td>3</td>\n",
       "    </tr>\n",
       "    <tr>\n",
       "      <th>1</th>\n",
       "      <td>4</td>\n",
       "      <td>Nokia</td>\n",
       "      <td>1</td>\n",
       "      <td>0</td>\n",
       "      <td>1</td>\n",
       "      <td>0</td>\n",
       "      <td>1</td>\n",
       "      <td>5</td>\n",
       "    </tr>\n",
       "    <tr>\n",
       "      <th>2</th>\n",
       "      <td>4</td>\n",
       "      <td>Nokia</td>\n",
       "      <td>0</td>\n",
       "      <td>1</td>\n",
       "      <td>1</td>\n",
       "      <td>0</td>\n",
       "      <td>0</td>\n",
       "      <td>7</td>\n",
       "    </tr>\n",
       "    <tr>\n",
       "      <th>3</th>\n",
       "      <td>4</td>\n",
       "      <td>Bird</td>\n",
       "      <td>1</td>\n",
       "      <td>1</td>\n",
       "      <td>0</td>\n",
       "      <td>1</td>\n",
       "      <td>0</td>\n",
       "      <td>3</td>\n",
       "    </tr>\n",
       "    <tr>\n",
       "      <th>4</th>\n",
       "      <td>3</td>\n",
       "      <td>Bird</td>\n",
       "      <td>0</td>\n",
       "      <td>0</td>\n",
       "      <td>0</td>\n",
       "      <td>0</td>\n",
       "      <td>1</td>\n",
       "      <td>5</td>\n",
       "    </tr>\n",
       "  </tbody>\n",
       "</table>\n",
       "</div>"
      ],
      "text/plain": [
       "   score     W1  W2  W3  W4  W5  W6  W7\n",
       "0      3  Nokia   0   0   0   1   1   3\n",
       "1      4  Nokia   1   0   1   0   1   5\n",
       "2      4  Nokia   0   1   1   0   0   7\n",
       "3      4   Bird   1   1   0   1   0   3\n",
       "4      3   Bird   0   0   0   0   1   5"
      ]
     },
     "execution_count": 84,
     "metadata": {},
     "output_type": "execute_result"
    }
   ],
   "source": [
    "data.head()"
   ]
  },
  {
   "cell_type": "code",
   "execution_count": 96,
   "metadata": {},
   "outputs": [
    {
     "data": {
      "text/html": [
       "<div>\n",
       "<style scoped>\n",
       "    .dataframe tbody tr th:only-of-type {\n",
       "        vertical-align: middle;\n",
       "    }\n",
       "\n",
       "    .dataframe tbody tr th {\n",
       "        vertical-align: top;\n",
       "    }\n",
       "\n",
       "    .dataframe thead th {\n",
       "        text-align: right;\n",
       "    }\n",
       "</style>\n",
       "<table border=\"1\" class=\"dataframe\">\n",
       "  <thead>\n",
       "    <tr style=\"text-align: right;\">\n",
       "      <th></th>\n",
       "      <th>score</th>\n",
       "      <th>W1</th>\n",
       "      <th>W2</th>\n",
       "      <th>W3</th>\n",
       "      <th>W4</th>\n",
       "      <th>W5</th>\n",
       "      <th>W6</th>\n",
       "      <th>W7</th>\n",
       "    </tr>\n",
       "  </thead>\n",
       "  <tbody>\n",
       "    <tr>\n",
       "      <th>0</th>\n",
       "      <td>3</td>\n",
       "      <td>Nokia</td>\n",
       "      <td>0</td>\n",
       "      <td>0</td>\n",
       "      <td>0</td>\n",
       "      <td>1</td>\n",
       "      <td>1</td>\n",
       "      <td>3</td>\n",
       "    </tr>\n",
       "    <tr>\n",
       "      <th>1</th>\n",
       "      <td>4</td>\n",
       "      <td>Nokia</td>\n",
       "      <td>1</td>\n",
       "      <td>0</td>\n",
       "      <td>1</td>\n",
       "      <td>0</td>\n",
       "      <td>1</td>\n",
       "      <td>5</td>\n",
       "    </tr>\n",
       "    <tr>\n",
       "      <th>2</th>\n",
       "      <td>4</td>\n",
       "      <td>Nokia</td>\n",
       "      <td>0</td>\n",
       "      <td>1</td>\n",
       "      <td>1</td>\n",
       "      <td>0</td>\n",
       "      <td>0</td>\n",
       "      <td>7</td>\n",
       "    </tr>\n",
       "    <tr>\n",
       "      <th>3</th>\n",
       "      <td>4</td>\n",
       "      <td>Bird</td>\n",
       "      <td>1</td>\n",
       "      <td>1</td>\n",
       "      <td>0</td>\n",
       "      <td>1</td>\n",
       "      <td>0</td>\n",
       "      <td>3</td>\n",
       "    </tr>\n",
       "    <tr>\n",
       "      <th>4</th>\n",
       "      <td>3</td>\n",
       "      <td>Bird</td>\n",
       "      <td>0</td>\n",
       "      <td>0</td>\n",
       "      <td>0</td>\n",
       "      <td>0</td>\n",
       "      <td>1</td>\n",
       "      <td>5</td>\n",
       "    </tr>\n",
       "  </tbody>\n",
       "</table>\n",
       "</div>"
      ],
      "text/plain": [
       "   score     W1  W2  W3  W4  W5  W6  W7\n",
       "0      3  Nokia   0   0   0   1   1   3\n",
       "1      4  Nokia   1   0   1   0   1   5\n",
       "2      4  Nokia   0   1   1   0   0   7\n",
       "3      4   Bird   1   1   0   1   0   3\n",
       "4      3   Bird   0   0   0   0   1   5"
      ]
     },
     "execution_count": 96,
     "metadata": {},
     "output_type": "execute_result"
    }
   ],
   "source": [
    "data.head()"
   ]
  },
  {
   "cell_type": "code",
   "execution_count": 106,
   "metadata": {},
   "outputs": [
    {
     "name": "stdout",
     "output_type": "stream",
     "text": [
      "                 Generalized Linear Model Regression Results                  \n",
      "==============================================================================\n",
      "Dep. Variable:                  score   No. Observations:                 1451\n",
      "Model:                            GLM   Df Residuals:                     1441\n",
      "Model Family:                Binomial   Df Model:                            9\n",
      "Link Function:                  logit   Scale:                          1.0000\n",
      "Method:                          IRLS   Log-Likelihood:                    nan\n",
      "Date:                Tue, 16 Jul 2019   Deviance:                          nan\n",
      "Time:                        17:06:06   Pearson chi2:                 3.75e+19\n",
      "No. Iterations:                   100   Covariance Type:             nonrobust\n",
      "==================================================================================\n",
      "                     coef    std err          z      P>|z|      [0.025      0.975]\n",
      "----------------------------------------------------------------------------------\n",
      "Intercept       4.394e+17    8.1e+06   5.42e+10      0.000    4.39e+17    4.39e+17\n",
      "W1[T.Motorola]  1.222e+17   6.11e+06      2e+10      0.000    1.22e+17    1.22e+17\n",
      "W1[T.Nokia]     2.073e+17   5.38e+06   3.85e+10      0.000    2.07e+17    2.07e+17\n",
      "W1[T.Samsung]   1.127e+17   5.45e+06   2.07e+10      0.000    1.13e+17    1.13e+17\n",
      "W2              1.672e+17   3.78e+06   4.43e+10      0.000    1.67e+17    1.67e+17\n",
      "W3              1.278e+17   3.93e+06   3.25e+10      0.000    1.28e+17    1.28e+17\n",
      "W4              1.151e+17    3.9e+06   2.95e+10      0.000    1.15e+17    1.15e+17\n",
      "W5              3.763e+17    3.9e+06   9.66e+10      0.000    3.76e+17    3.76e+17\n",
      "W6              8.082e+16   4.82e+06   1.68e+10      0.000    8.08e+16    8.08e+16\n",
      "W7             -6.342e+15   1.12e+06  -5.66e+09      0.000   -6.34e+15   -6.34e+15\n",
      "==================================================================================\n"
     ]
    },
    {
     "name": "stderr",
     "output_type": "stream",
     "text": [
      "D:\\Anaconda\\lib\\site-packages\\statsmodels\\genmod\\families\\family.py:880: RuntimeWarning: divide by zero encountered in true_divide\n",
      "  n_endog_mu = self._clean((1. - endog) / (1. - mu))\n",
      "D:\\Anaconda\\lib\\site-packages\\statsmodels\\genmod\\families\\family.py:880: RuntimeWarning: invalid value encountered in true_divide\n",
      "  n_endog_mu = self._clean((1. - endog) / (1. - mu))\n",
      "D:\\Anaconda\\lib\\site-packages\\statsmodels\\genmod\\families\\family.py:932: RuntimeWarning: divide by zero encountered in true_divide\n",
      "  special.gammaln(n - y + 1) + y * np.log(mu / (1 - mu)) +\n",
      "D:\\Anaconda\\lib\\site-packages\\statsmodels\\genmod\\families\\family.py:932: RuntimeWarning: invalid value encountered in add\n",
      "  special.gammaln(n - y + 1) + y * np.log(mu / (1 - mu)) +\n",
      "D:\\Anaconda\\lib\\site-packages\\statsmodels\\genmod\\families\\family.py:933: RuntimeWarning: divide by zero encountered in log\n",
      "  n * np.log(1 - mu)) * var_weights\n",
      "D:\\Anaconda\\lib\\site-packages\\statsmodels\\genmod\\families\\family.py:933: RuntimeWarning: invalid value encountered in add\n",
      "  n * np.log(1 - mu)) * var_weights\n"
     ]
    }
   ],
   "source": [
    "import statsmodels.formula.api as smf \n",
    "import statsmodels.api as sm\n",
    "\n",
    "glm1_1999_logit = smf.glm('score~W1 +  W2 + W3 + W4 + W5 + W6 + W7', data,\n",
    "                          family=sm.families.Binomial(sm.families.links.logit))\n",
    "res_logit = glm1_1999_logit.fit()\n",
    "print(res_logit.summary())"
   ]
  }
 ],
 "metadata": {
  "kernelspec": {
   "display_name": "Python 3",
   "language": "python",
   "name": "python3"
  },
  "language_info": {
   "codemirror_mode": {
    "name": "ipython",
    "version": 3
   },
   "file_extension": ".py",
   "mimetype": "text/x-python",
   "name": "python",
   "nbconvert_exporter": "python",
   "pygments_lexer": "ipython3",
   "version": "3.7.3"
  },
  "toc": {
   "base_numbering": 1,
   "nav_menu": {},
   "number_sections": true,
   "sideBar": true,
   "skip_h1_title": false,
   "title_cell": "Table of Contents",
   "title_sidebar": "Contents",
   "toc_cell": false,
   "toc_position": {},
   "toc_section_display": true,
   "toc_window_display": false
  }
 },
 "nbformat": 4,
 "nbformat_minor": 2
}
