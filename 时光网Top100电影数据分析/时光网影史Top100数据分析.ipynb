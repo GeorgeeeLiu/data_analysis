{
 "cells": [
  {
   "cell_type": "markdown",
   "metadata": {},
   "source": [
    "# 对时光网影史Top100排行榜进行数据分析    \n",
    "    本篇分析目的主要是通过对时光网Top100电影的数据分析Top100电影的评分范围为多少，以及得出哪些年代，类型的电影是最热门的或票房最高的。\n",
    "    \n",
    "**Ref:**\n",
    "\n",
    "[时光网影史Top100排行榜](http://movie.mtime.com/boxoffice/#world/all)\n",
    "\n",
    "[python 爬取时光网电影票房数据](https://blog.csdn.net/weixin_39416561/article/details/86504061)"
   ]
  },
  {
   "cell_type": "markdown",
   "metadata": {},
   "source": [
    "## 主要数据获取\n",
    "利用python爬取时光网http://movie.mtime.com/boxoffice/#world/all 的影史票房Top100的数据，其中包括电影名称，评分，类型，上映日期，票房总数等数据。首先使用requests对网站进行访问，然后使用BeautifulSoup对网站进行解析，获取所需的数据，并导出到excel文件中。爬虫文件具体看`shiguangTOP100.py`文件。"
   ]
  },
  {
   "cell_type": "code",
   "execution_count": 1,
   "metadata": {},
   "outputs": [],
   "source": [
    "# 导入各种包\n",
    "import numpy as np\n",
    "import matplotlib.pyplot as plt\n",
    "import pandas as pd\n",
    "import seaborn as sns\n",
    "import re\n",
    "import datetime"
   ]
  },
  {
   "cell_type": "code",
   "execution_count": 2,
   "metadata": {},
   "outputs": [
    {
     "data": {
      "text/html": [
       "<div>\n",
       "<style scoped>\n",
       "    .dataframe tbody tr th:only-of-type {\n",
       "        vertical-align: middle;\n",
       "    }\n",
       "\n",
       "    .dataframe tbody tr th {\n",
       "        vertical-align: top;\n",
       "    }\n",
       "\n",
       "    .dataframe thead th {\n",
       "        text-align: right;\n",
       "    }\n",
       "</style>\n",
       "<table border=\"1\" class=\"dataframe\">\n",
       "  <thead>\n",
       "    <tr style=\"text-align: right;\">\n",
       "      <th></th>\n",
       "      <th>排名</th>\n",
       "      <th>电影</th>\n",
       "      <th>评分</th>\n",
       "      <th>类型</th>\n",
       "      <th>年度票房（美元）</th>\n",
       "      <th>上映日期</th>\n",
       "    </tr>\n",
       "  </thead>\n",
       "  <tbody>\n",
       "    <tr>\n",
       "      <th>0</th>\n",
       "      <td>1</td>\n",
       "      <td>复仇者联盟4：终局之战</td>\n",
       "      <td>8.2</td>\n",
       "      <td>动作/冒险</td>\n",
       "      <td>27.98亿</td>\n",
       "      <td>2019年04月26日</td>\n",
       "    </tr>\n",
       "    <tr>\n",
       "      <th>1</th>\n",
       "      <td>2</td>\n",
       "      <td>阿凡达</td>\n",
       "      <td>8.8</td>\n",
       "      <td>动作/冒险</td>\n",
       "      <td>27.90亿</td>\n",
       "      <td>2009年12月17日</td>\n",
       "    </tr>\n",
       "    <tr>\n",
       "      <th>2</th>\n",
       "      <td>3</td>\n",
       "      <td>泰坦尼克号</td>\n",
       "      <td>8.9</td>\n",
       "      <td>剧情/爱情</td>\n",
       "      <td>21.88亿</td>\n",
       "      <td>1997年12月19日</td>\n",
       "    </tr>\n",
       "    <tr>\n",
       "      <th>3</th>\n",
       "      <td>4</td>\n",
       "      <td>星球大战：原力觉醒</td>\n",
       "      <td>7.6</td>\n",
       "      <td>动作/冒险</td>\n",
       "      <td>20.68亿</td>\n",
       "      <td>2015年12月18日</td>\n",
       "    </tr>\n",
       "    <tr>\n",
       "      <th>4</th>\n",
       "      <td>5</td>\n",
       "      <td>复仇者联盟3：无限战争</td>\n",
       "      <td>8.1</td>\n",
       "      <td>动作/冒险</td>\n",
       "      <td>20.48亿</td>\n",
       "      <td>2018年04月27日</td>\n",
       "    </tr>\n",
       "  </tbody>\n",
       "</table>\n",
       "</div>"
      ],
      "text/plain": [
       "   排名           电影   评分     类型 年度票房（美元）         上映日期\n",
       "0   1  复仇者联盟4：终局之战  8.2  动作/冒险   27.98亿  2019年04月26日\n",
       "1   2          阿凡达  8.8  动作/冒险   27.90亿  2009年12月17日\n",
       "2   3        泰坦尼克号  8.9  剧情/爱情   21.88亿  1997年12月19日\n",
       "3   4    星球大战：原力觉醒  7.6  动作/冒险   20.68亿  2015年12月18日\n",
       "4   5  复仇者联盟3：无限战争  8.1  动作/冒险   20.48亿  2018年04月27日"
      ]
     },
     "execution_count": 2,
     "metadata": {},
     "output_type": "execute_result"
    }
   ],
   "source": [
    "# 查看通过爬虫出来的原数据集\n",
    "df_raw = pd.read_excel('raw_data.xlsx')  # 查看爬取下来的数据集\n",
    "df_raw.head()"
   ]
  },
  {
   "cell_type": "code",
   "execution_count": 3,
   "metadata": {},
   "outputs": [
    {
     "name": "stdout",
     "output_type": "stream",
     "text": [
      "<class 'pandas.core.frame.DataFrame'>\n",
      "RangeIndex: 100 entries, 0 to 99\n",
      "Data columns (total 6 columns):\n",
      " #   Column    Non-Null Count  Dtype  \n",
      "---  ------    --------------  -----  \n",
      " 0   排名        100 non-null    int64  \n",
      " 1   电影        100 non-null    object \n",
      " 2   评分        100 non-null    float64\n",
      " 3   类型        100 non-null    object \n",
      " 4   年度票房（美元）  100 non-null    object \n",
      " 5   上映日期      100 non-null    object \n",
      "dtypes: float64(1), int64(1), object(4)\n",
      "memory usage: 4.8+ KB\n"
     ]
    }
   ],
   "source": [
    "df_raw.info()"
   ]
  },
  {
   "cell_type": "code",
   "execution_count": 4,
   "metadata": {},
   "outputs": [
    {
     "data": {
      "text/html": [
       "<div>\n",
       "<style scoped>\n",
       "    .dataframe tbody tr th:only-of-type {\n",
       "        vertical-align: middle;\n",
       "    }\n",
       "\n",
       "    .dataframe tbody tr th {\n",
       "        vertical-align: top;\n",
       "    }\n",
       "\n",
       "    .dataframe thead th {\n",
       "        text-align: right;\n",
       "    }\n",
       "</style>\n",
       "<table border=\"1\" class=\"dataframe\">\n",
       "  <thead>\n",
       "    <tr style=\"text-align: right;\">\n",
       "      <th></th>\n",
       "      <th>排名</th>\n",
       "      <th>评分</th>\n",
       "    </tr>\n",
       "  </thead>\n",
       "  <tbody>\n",
       "    <tr>\n",
       "      <th>count</th>\n",
       "      <td>100.000000</td>\n",
       "      <td>100.000000</td>\n",
       "    </tr>\n",
       "    <tr>\n",
       "      <th>mean</th>\n",
       "      <td>50.500000</td>\n",
       "      <td>7.828000</td>\n",
       "    </tr>\n",
       "    <tr>\n",
       "      <th>std</th>\n",
       "      <td>29.011492</td>\n",
       "      <td>0.521474</td>\n",
       "    </tr>\n",
       "    <tr>\n",
       "      <th>min</th>\n",
       "      <td>1.000000</td>\n",
       "      <td>6.800000</td>\n",
       "    </tr>\n",
       "    <tr>\n",
       "      <th>25%</th>\n",
       "      <td>25.750000</td>\n",
       "      <td>7.400000</td>\n",
       "    </tr>\n",
       "    <tr>\n",
       "      <th>50%</th>\n",
       "      <td>50.500000</td>\n",
       "      <td>7.800000</td>\n",
       "    </tr>\n",
       "    <tr>\n",
       "      <th>75%</th>\n",
       "      <td>75.250000</td>\n",
       "      <td>8.200000</td>\n",
       "    </tr>\n",
       "    <tr>\n",
       "      <th>max</th>\n",
       "      <td>100.000000</td>\n",
       "      <td>9.100000</td>\n",
       "    </tr>\n",
       "  </tbody>\n",
       "</table>\n",
       "</div>"
      ],
      "text/plain": [
       "               排名          评分\n",
       "count  100.000000  100.000000\n",
       "mean    50.500000    7.828000\n",
       "std     29.011492    0.521474\n",
       "min      1.000000    6.800000\n",
       "25%     25.750000    7.400000\n",
       "50%     50.500000    7.800000\n",
       "75%     75.250000    8.200000\n",
       "max    100.000000    9.100000"
      ]
     },
     "execution_count": 4,
     "metadata": {},
     "output_type": "execute_result"
    }
   ],
   "source": [
    "df_raw.describe()"
   ]
  },
  {
   "cell_type": "markdown",
   "metadata": {},
   "source": [
    "通过数据预览发现该数据集`年度票房（美元）`和`上映日期`格式都不是我们想要的，`排名`我们暂时不需要。接下来开始进行数据预处理。"
   ]
  },
  {
   "cell_type": "code",
   "execution_count": 5,
   "metadata": {},
   "outputs": [],
   "source": [
    "# 数据预处理\n",
    "df = df_raw\n",
    "\n",
    "del df['排名']  # 删掉排名这一列\n",
    "\n",
    "# 将年度票房改为亿美元，数据格式为浮点格式\n",
    "def tranTickNum(s):\n",
    "    s = re.sub(r'亿','', s)\n",
    "    s = round(float(s), 2)\n",
    "    return s\n",
    "df['年度票房（亿美元）'] = df['年度票房（美元）'].apply(tranTickNum)\n",
    "del df['年度票房（美元）']  # 删掉旧数据\n",
    "\n",
    "# 将上映日期改为日期格式\n",
    "def tran2date(s):\n",
    "    s = re.sub(r'年', '/', s)\n",
    "    s = re.sub(r'月', '/', s)\n",
    "    s = re.sub(r'日','', s)\n",
    "    return s\n",
    "df['上映日期'] = df['上映日期'].apply(tran2date)\n",
    "df['上映日期'] = pd.to_datetime(df['上映日期'],format='%Y/%m/%d', errors = 'coerce')"
   ]
  },
  {
   "cell_type": "code",
   "execution_count": 6,
   "metadata": {},
   "outputs": [],
   "source": [
    "# 增添年代\n",
    "df['上映年份'] = df['上映日期'].map(lambda x: x.year)\n",
    "df.loc[(df['上映年份']>=1970),'年代'] = '1970-79'\n",
    "df.loc[(df['上映年份']>=1980),'年代'] = '1980-89'\n",
    "df.loc[(df['上映年份']>=1990),'年代'] = '1990-99'\n",
    "df.loc[(df['上映年份']>=2000),'年代'] = '2000-09'\n",
    "df.loc[(df['上映年份']>=2010),'年代'] = '2010-20'\n",
    "del df['上映年份']"
   ]
  },
  {
   "cell_type": "code",
   "execution_count": 7,
   "metadata": {},
   "outputs": [
    {
     "data": {
      "text/html": [
       "<div>\n",
       "<style scoped>\n",
       "    .dataframe tbody tr th:only-of-type {\n",
       "        vertical-align: middle;\n",
       "    }\n",
       "\n",
       "    .dataframe tbody tr th {\n",
       "        vertical-align: top;\n",
       "    }\n",
       "\n",
       "    .dataframe thead th {\n",
       "        text-align: right;\n",
       "    }\n",
       "</style>\n",
       "<table border=\"1\" class=\"dataframe\">\n",
       "  <thead>\n",
       "    <tr style=\"text-align: right;\">\n",
       "      <th></th>\n",
       "      <th>电影</th>\n",
       "      <th>评分</th>\n",
       "      <th>类型</th>\n",
       "      <th>上映日期</th>\n",
       "      <th>年度票房（亿美元）</th>\n",
       "      <th>年代</th>\n",
       "    </tr>\n",
       "  </thead>\n",
       "  <tbody>\n",
       "    <tr>\n",
       "      <th>0</th>\n",
       "      <td>复仇者联盟4：终局之战</td>\n",
       "      <td>8.2</td>\n",
       "      <td>动作/冒险</td>\n",
       "      <td>2019-04-26</td>\n",
       "      <td>27.98</td>\n",
       "      <td>2010-20</td>\n",
       "    </tr>\n",
       "    <tr>\n",
       "      <th>1</th>\n",
       "      <td>阿凡达</td>\n",
       "      <td>8.8</td>\n",
       "      <td>动作/冒险</td>\n",
       "      <td>2009-12-17</td>\n",
       "      <td>27.90</td>\n",
       "      <td>2000-09</td>\n",
       "    </tr>\n",
       "    <tr>\n",
       "      <th>2</th>\n",
       "      <td>泰坦尼克号</td>\n",
       "      <td>8.9</td>\n",
       "      <td>剧情/爱情</td>\n",
       "      <td>1997-12-19</td>\n",
       "      <td>21.88</td>\n",
       "      <td>1990-99</td>\n",
       "    </tr>\n",
       "    <tr>\n",
       "      <th>3</th>\n",
       "      <td>星球大战：原力觉醒</td>\n",
       "      <td>7.6</td>\n",
       "      <td>动作/冒险</td>\n",
       "      <td>2015-12-18</td>\n",
       "      <td>20.68</td>\n",
       "      <td>2010-20</td>\n",
       "    </tr>\n",
       "    <tr>\n",
       "      <th>4</th>\n",
       "      <td>复仇者联盟3：无限战争</td>\n",
       "      <td>8.1</td>\n",
       "      <td>动作/冒险</td>\n",
       "      <td>2018-04-27</td>\n",
       "      <td>20.48</td>\n",
       "      <td>2010-20</td>\n",
       "    </tr>\n",
       "  </tbody>\n",
       "</table>\n",
       "</div>"
      ],
      "text/plain": [
       "            电影   评分     类型       上映日期  年度票房（亿美元）       年代\n",
       "0  复仇者联盟4：终局之战  8.2  动作/冒险 2019-04-26      27.98  2010-20\n",
       "1          阿凡达  8.8  动作/冒险 2009-12-17      27.90  2000-09\n",
       "2        泰坦尼克号  8.9  剧情/爱情 1997-12-19      21.88  1990-99\n",
       "3    星球大战：原力觉醒  7.6  动作/冒险 2015-12-18      20.68  2010-20\n",
       "4  复仇者联盟3：无限战争  8.1  动作/冒险 2018-04-27      20.48  2010-20"
      ]
     },
     "execution_count": 7,
     "metadata": {},
     "output_type": "execute_result"
    }
   ],
   "source": [
    "# 查看处理后的数据\n",
    "df.head()"
   ]
  },
  {
   "cell_type": "markdown",
   "metadata": {},
   "source": [
    "经过一些数据处理后到数据预览可以看出，数据集有电影名称，评分，类型，上映日期，票房和年代这几种数据。"
   ]
  },
  {
   "cell_type": "code",
   "execution_count": 8,
   "metadata": {},
   "outputs": [
    {
     "data": {
      "text/html": [
       "<div>\n",
       "<style scoped>\n",
       "    .dataframe tbody tr th:only-of-type {\n",
       "        vertical-align: middle;\n",
       "    }\n",
       "\n",
       "    .dataframe tbody tr th {\n",
       "        vertical-align: top;\n",
       "    }\n",
       "\n",
       "    .dataframe thead th {\n",
       "        text-align: right;\n",
       "    }\n",
       "</style>\n",
       "<table border=\"1\" class=\"dataframe\">\n",
       "  <thead>\n",
       "    <tr style=\"text-align: right;\">\n",
       "      <th></th>\n",
       "      <th>评分</th>\n",
       "      <th>年度票房（亿美元）</th>\n",
       "    </tr>\n",
       "  </thead>\n",
       "  <tbody>\n",
       "    <tr>\n",
       "      <th>count</th>\n",
       "      <td>100.000000</td>\n",
       "      <td>100.000000</td>\n",
       "    </tr>\n",
       "    <tr>\n",
       "      <th>mean</th>\n",
       "      <td>7.828000</td>\n",
       "      <td>10.594800</td>\n",
       "    </tr>\n",
       "    <tr>\n",
       "      <th>std</th>\n",
       "      <td>0.521474</td>\n",
       "      <td>3.714297</td>\n",
       "    </tr>\n",
       "    <tr>\n",
       "      <th>min</th>\n",
       "      <td>6.800000</td>\n",
       "      <td>7.580000</td>\n",
       "    </tr>\n",
       "    <tr>\n",
       "      <th>25%</th>\n",
       "      <td>7.400000</td>\n",
       "      <td>8.457500</td>\n",
       "    </tr>\n",
       "    <tr>\n",
       "      <th>50%</th>\n",
       "      <td>7.800000</td>\n",
       "      <td>9.595000</td>\n",
       "    </tr>\n",
       "    <tr>\n",
       "      <th>75%</th>\n",
       "      <td>8.200000</td>\n",
       "      <td>11.210000</td>\n",
       "    </tr>\n",
       "    <tr>\n",
       "      <th>max</th>\n",
       "      <td>9.100000</td>\n",
       "      <td>27.980000</td>\n",
       "    </tr>\n",
       "  </tbody>\n",
       "</table>\n",
       "</div>"
      ],
      "text/plain": [
       "               评分   年度票房（亿美元）\n",
       "count  100.000000  100.000000\n",
       "mean     7.828000   10.594800\n",
       "std      0.521474    3.714297\n",
       "min      6.800000    7.580000\n",
       "25%      7.400000    8.457500\n",
       "50%      7.800000    9.595000\n",
       "75%      8.200000   11.210000\n",
       "max      9.100000   27.980000"
      ]
     },
     "execution_count": 8,
     "metadata": {},
     "output_type": "execute_result"
    }
   ],
   "source": [
    "df.describe()"
   ]
  },
  {
   "cell_type": "markdown",
   "metadata": {},
   "source": [
    "通过数据描述可以看出，时光网Top100的电影中，平均分为7.8分（满分为10），最高分为9.1，最低分为6.8，说明观众对Top100的电影都有较好的评价。在年度票房数据中，最大值为27.98亿美元，最小值为7.58亿美元，平均值为10.59亿美元，最大值和最小值的跨度较大。"
   ]
  },
  {
   "cell_type": "code",
   "execution_count": 9,
   "metadata": {},
   "outputs": [
    {
     "name": "stdout",
     "output_type": "stream",
     "text": [
      "<class 'pandas.core.frame.DataFrame'>\n",
      "RangeIndex: 100 entries, 0 to 99\n",
      "Data columns (total 6 columns):\n",
      " #   Column     Non-Null Count  Dtype         \n",
      "---  ------     --------------  -----         \n",
      " 0   电影         100 non-null    object        \n",
      " 1   评分         100 non-null    float64       \n",
      " 2   类型         100 non-null    object        \n",
      " 3   上映日期       100 non-null    datetime64[ns]\n",
      " 4   年度票房（亿美元）  100 non-null    float64       \n",
      " 5   年代         100 non-null    object        \n",
      "dtypes: datetime64[ns](1), float64(2), object(3)\n",
      "memory usage: 4.8+ KB\n"
     ]
    }
   ],
   "source": [
    "df.info()"
   ]
  },
  {
   "cell_type": "markdown",
   "metadata": {},
   "source": [
    "## 数据可视化\n",
    "\n",
    "### Top100电影评分分析"
   ]
  },
  {
   "cell_type": "code",
   "execution_count": 10,
   "metadata": {},
   "outputs": [
    {
     "data": {
      "image/png": "[encoded data removed]",
      "text/plain": [
       "<Figure size 720x360 with 1 Axes>"
      ]
     },
     "metadata": {
      "needs_background": "light"
     },
     "output_type": "display_data"
    }
   ],
   "source": [
    "# 评分分布图\n",
    "plt.figure(figsize=(10,5))\n",
    "plt.hist(df['评分'],edgecolor='black', alpha=0.7, bins=24)\n",
    "plt.title(\"时光网TOP100电影评分分布图\")\n",
    "plt.ylabel('频数')\n",
    "plt.xlabel('评分')\n",
    "plt.show()"
   ]
  },
  {
   "cell_type": "markdown",
   "metadata": {},
   "source": [
    "通过对时光网Top100电影的评分数据进行分析得出以上分布图可知，排名前100的电影的评分都落在6.8到9.1之间，其中主要集中在7.3到8.3分中，再次说明观众对Top100的电影都有较好的评价，但是很少8.5分以上的高分。"
   ]
  },
  {
   "cell_type": "markdown",
   "metadata": {},
   "source": [
    "### 不同类型的电影分析"
   ]
  },
  {
   "cell_type": "code",
   "execution_count": 11,
   "metadata": {},
   "outputs": [
    {
     "data": {
      "text/plain": [
       "类型\n",
       "传记/剧情      9.04\n",
       "冒险/剧情     60.57\n",
       "冒险/奇幻     19.14\n",
       "冒险/家庭    102.96\n",
       "冒险/科幻     10.30\n",
       "剧情/爱情     21.88\n",
       "动作/冒险    554.40\n",
       "动作/惊悚     10.85\n",
       "动作/战争      8.70\n",
       "动作/犯罪     30.30\n",
       "动作/科幻      8.56\n",
       "动画/冒险    162.96\n",
       "动画/动作     31.67\n",
       "家庭/奇幻     12.64\n",
       "家庭/科幻      7.93\n",
       "悬疑/惊悚      7.58\n",
       "Name: 年度票房（亿美元）, dtype: float64"
      ]
     },
     "execution_count": 11,
     "metadata": {},
     "output_type": "execute_result"
    }
   ],
   "source": [
    "df.groupby('类型')['年度票房（亿美元）'].sum()"
   ]
  },
  {
   "cell_type": "code",
   "execution_count": 12,
   "metadata": {},
   "outputs": [],
   "source": [
    "# 传记，剧情，冒险，奇幻，家庭，科幻，爱情，惊悚，战争，犯罪，悬疑\n",
    "x = ['传记','剧情','冒险','奇幻','家庭','科幻','爱情','惊悚','战争','犯罪','悬疑']"
   ]
  },
  {
   "cell_type": "code",
   "execution_count": 13,
   "metadata": {},
   "outputs": [
    {
     "name": "stdout",
     "output_type": "stream",
     "text": [
      "[1, 8, 86, 3, 13, 3, 1, 2, 1, 3, 1]\n"
     ]
    }
   ],
   "source": [
    "# 各类型电影占比\n",
    "y1 = []\n",
    "for i in x:\n",
    "    y1.append(df.loc[df['类型'].str.contains(i)]['电影'].count())\n",
    "print(y1)"
   ]
  },
  {
   "cell_type": "code",
   "execution_count": 14,
   "metadata": {},
   "outputs": [],
   "source": [
    "# 小于3部的合并为其他\n",
    "x_pie=['其他']\n",
    "y_pie=[]\n",
    "y_else = []\n",
    "for i in x:\n",
    "    k = df.loc[df['类型'].str.contains(i)]['电影'].count()\n",
    "    if k >= 3:\n",
    "        x_pie.append(i)\n",
    "        y_pie.append(k)\n",
    "    else:\n",
    "        y_else.append(k)\n",
    "y_pie.insert(0,sum(y_else))  "
   ]
  },
  {
   "cell_type": "code",
   "execution_count": 15,
   "metadata": {
    "scrolled": false
   },
   "outputs": [
    {
     "data": {
      "image/png": "[encoded data removed]",
      "text/plain": [
       "<Figure size 720x720 with 1 Axes>"
      ]
     },
     "metadata": {},
     "output_type": "display_data"
    }
   ],
   "source": [
    "plt.figure(figsize=(10,10)) #调节图形大小\n",
    "labels = x_pie #定义标签\n",
    "sizes = y_pie #每块值\n",
    "explode = (0,0,0.03,0,0.03,0,0) # 将某一块分割出来，值越大分割出的间隙越大\n",
    "patches,text1,text2 = plt.pie(sizes,\n",
    "                      explode=explode,\n",
    "                      labels=labels,\n",
    "                      autopct = '%3.2f%%', # 数值保留固定小数位\n",
    "                      shadow = True, # 阴影\n",
    "                      startangle =90, # 逆时针起始角度设置\n",
    "                      pctdistance = 0.8\n",
    "                             )\n",
    "plt.title('各类电影占比')\n",
    "plt.legend()\n",
    "plt.show()"
   ]
  },
  {
   "cell_type": "markdown",
   "metadata": {},
   "source": [
    "由上图可以看出，该榜单中冒险类型的电影占据了70%以上，家庭类和剧情类的电影分别排在第二和第三位，占比10.66%和6.56%，这说明时光网中最受欢迎的三类电影类型为冒险，家庭和剧情。接下来对各类电影的票房进行分析。"
   ]
  },
  {
   "cell_type": "code",
   "execution_count": 16,
   "metadata": {},
   "outputs": [
    {
     "data": {
      "image/png": "[encoded data removed]",
      "text/plain": [
       "<Figure size 720x720 with 1 Axes>"
      ]
     },
     "metadata": {
      "needs_background": "light"
     },
     "output_type": "display_data"
    }
   ],
   "source": [
    "y2 = []\n",
    "for i in x:\n",
    "    y2.append(df.loc[df['类型'].str.contains(i)]['年度票房（亿美元）'].mean())\n",
    "# 不同类型的电影不同的票房数\n",
    "data_bar = pd.DataFrame(zip(x, y2))\n",
    "data_bar = data_bar.sort_values(by=1)\n",
    "plt.figure(figsize=(10,10)) #调节图形大小\n",
    "plt.barh(range(len(data_bar)), data_bar[1], tick_label=data_bar[0]) \n",
    "plt.title('不同类型电影的平均年度票房数（亿美元）')\n",
    "plt.ylabel('电影类型')\n",
    "plt.xlabel('年度票房数（亿美元）')\n",
    "plt.show()"
   ]
  },
  {
   "cell_type": "code",
   "execution_count": 17,
   "metadata": {},
   "outputs": [
    {
     "data": {
      "image/png": "[encoded data removed]",
      "text/plain": [
       "<Figure size 864x576 with 1 Axes>"
      ]
     },
     "metadata": {
      "needs_background": "light"
     },
     "output_type": "display_data"
    }
   ],
   "source": [
    "plt.figure(figsize=(12,8))\n",
    "plt.title(\"各类型电影平均票房数（亿美元）\")\n",
    "sns.barplot(x=x, y=y2)\n",
    "plt.ylabel('平均年度票房数（亿美元）')\n",
    "plt.xlabel('电影类型')\n",
    "plt.show()"
   ]
  },
  {
   "cell_type": "markdown",
   "metadata": {},
   "source": [
    "由不同类型电影的平均年度票房数图表可知，爱情类电影的票房数接超过20亿美元，几乎是第二的剧情类电影平均票房数的两倍，而悬疑类是最低的，不足8亿美元，时光网最受欢迎的三甲类型（冒险，家庭和剧情）的票房均为10亿美元左右。这表明观众更喜欢在电影院看爱情类电影。"
   ]
  },
  {
   "cell_type": "markdown",
   "metadata": {},
   "source": [
    "### 不同年代电影的分析"
   ]
  },
  {
   "cell_type": "code",
   "execution_count": 18,
   "metadata": {},
   "outputs": [
    {
     "data": {
      "image/png": "[encoded data removed]",
      "text/plain": [
       "<Figure size 360x360 with 1 Axes>"
      ]
     },
     "metadata": {
      "needs_background": "light"
     },
     "output_type": "display_data"
    }
   ],
   "source": [
    "dftt = df.groupby('年代')['电影'].count()\n",
    "rank = dftt.argsort().argsort()\n",
    "pal = sns.color_palette(\"Reds_d\",len(dftt))\n",
    "plt.figure(figsize=(5,5))\n",
    "g = sns.barplot(x=dftt.index,y=dftt,palette=np.array(pal[::-1])[rank])\n",
    "index=np.arange(len(dftt.index))\n",
    "for a,b in zip(index,dftt):\n",
    "    g.text(a,b,b,color=\"black\",ha=\"center\")\n",
    "plt.title(\"时光网TOP100电影中各年代电影数量\")\n",
    "plt.ylabel('电影数量')\n",
    "plt.show()"
   ]
  },
  {
   "cell_type": "markdown",
   "metadata": {},
   "source": [
    "由上图可知，时光网Top100的电影中接近70%的电影都是10-20年的电影，93%的电影都是来自于21世纪的，70年之前的电影都没能进入前100，这表明大部分观众还是喜欢看较新的电影。"
   ]
  },
  {
   "cell_type": "code",
   "execution_count": 19,
   "metadata": {},
   "outputs": [
    {
     "data": {
      "image/png": "[encoded data removed]",
      "text/plain": [
       "<Figure size 360x360 with 1 Axes>"
      ]
     },
     "metadata": {
      "needs_background": "light"
     },
     "output_type": "display_data"
    }
   ],
   "source": [
    "dft = df.groupby('年代')['年度票房（亿美元）'].mean()\n",
    "rank = dft.argsort().argsort()\n",
    "pal = sns.color_palette(\"Reds_d\",len(dft))\n",
    "plt.figure(figsize=(5,5))\n",
    "g1 = sns.barplot(x=dft.index,y=dft,palette=np.array(pal[::-1])[rank])\n",
    "index=np.arange(len(dft.index))\n",
    "for a,b in zip(index,dft):\n",
    "    g1.text(a,b,'%.2f'%b,color=\"black\",ha=\"center\")\n",
    "plt.title(\"时光网TOP100电影中各年代电影的票房数\")\n",
    "plt.show()"
   ]
  },
  {
   "cell_type": "markdown",
   "metadata": {},
   "source": [
    "通过对上图的观察，可以发现1980-99年的电影的平均票房是最高的，而21世纪的电影次之，这可能是观众更愿意对20世纪末的电影卖单，但除了1990-99年代外，越近年的电影平均票房越高，这可能是得益于近年电影质量的提高和科技的进步。"
   ]
  },
  {
   "cell_type": "markdown",
   "metadata": {},
   "source": [
    "## 结论\n",
    "\t通过对时光网Top100电影排行榜的数据分析得出以下几点结论：\n",
    "    \n",
    "1. 用户对时光网Top100的电影都有较好的评价，但很少用户回给出8.5分以上的高分。\n",
    "\n",
    "2. 大部分观众更喜欢看21世纪的电影，特别是2010-20年期间的电影，但是对90年代的经典电影也十分乐意在电影院观看。\n",
    "\n",
    "3. 时光网中最受欢迎的三类电影类型分别为冒险，家庭和剧情，但是观众却更喜欢在电影院看爱情类电影。\n",
    "\n"
   ]
  }
 ],
 "metadata": {
  "kernelspec": {
   "display_name": "Python 3",
   "language": "python",
   "name": "python3"
  },
  "language_info": {
   "codemirror_mode": {
    "name": "ipython",
    "version": 3
   },
   "file_extension": ".py",
   "mimetype": "text/x-python",
   "name": "python",
   "nbconvert_exporter": "python",
   "pygments_lexer": "ipython3",
   "version": "3.7.6"
  }
 },
 "nbformat": 4,
 "nbformat_minor": 4
}
